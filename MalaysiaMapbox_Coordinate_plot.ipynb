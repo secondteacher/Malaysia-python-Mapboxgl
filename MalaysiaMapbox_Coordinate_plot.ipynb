{
 "cells": [
  {
   "cell_type": "code",
   "execution_count": 6,
   "metadata": {},
   "outputs": [],
   "source": [
    "import os\n",
    "\n",
    "import pandas as pd\n",
    "\n",
    "from mapboxgl.utils import *\n",
    "from mapboxgl.viz import *"
   ]
  },
  {
   "cell_type": "code",
   "execution_count": 7,
   "metadata": {},
   "outputs": [],
   "source": [
    "df = pd.read_csv(r'C:\\Users\\Mohamad Syafiq\\Desktop\\busrapidKL.csv')"
   ]
  },
  {
   "cell_type": "code",
   "execution_count": 11,
   "metadata": {},
   "outputs": [
    {
     "data": {
      "application/vnd.plotly.v1+json": {
       "config": {
        "plotlyServerURL": "https://plot.ly"
       },
       "data": [
        {
         "hoverlabel": {
          "namelength": 0
         },
         "hovertemplate": "Route_Name=Ampang Line<br>Name=%{text}<br>Latitud=%{lat}<br>Longitud=%{lon}",
         "lat": [
          3.150318,
          3.140575,
          3.1383240000000003,
          3.1345810000000003,
          3.130141,
          3.1232900000000003,
          3.1209729999999998,
          3.128105,
          3.134879,
          3.140012,
          3.1440490000000003,
          3.14927,
          3.155567,
          3.161245,
          3.1663330000000003,
          3.1734970000000002,
          3.178484,
          3.185897
         ],
         "legendgroup": "Route_Name=Ampang Line",
         "lon": [
          101.760049,
          101.756677,
          101.75297900000001,
          101.746509,
          101.739122,
          101.727283,
          101.717922,
          101.715637,
          101.711957,
          101.705984,
          101.702105,
          101.696377,
          101.694485,
          101.694109,
          101.693586,
          101.695367,
          101.695542,
          101.695217
         ],
         "marker": {
          "color": "#636efa"
         },
         "mode": "markers+text",
         "name": "Route_Name=Ampang Line",
         "showlegend": true,
         "subplot": "mapbox",
         "text": [
          "AMPANG",
          "CAHAYA",
          "CEMPAKA",
          "PANDAN INDAH",
          "PANDAN JAYA",
          "MALURI",
          "MIHARJA",
          "CHAN SOW LIN",
          "PUDU",
          "HANG TUAH",
          "PLAZA RAKYAT",
          "MASJID JAMEK",
          "BANDARAYA",
          "SULTAN ISMAIL",
          "PWTC",
          "TITIWANGSA",
          "SENTUL",
          "SENTUL TIMUR"
         ],
         "type": "scattermapbox"
        },
        {
         "hoverlabel": {
          "namelength": 0
         },
         "hovertemplate": "Route_Name=Sri Petaling Line<br>Name=%{text}<br>Latitud=%{lat}<br>Longitud=%{lon}",
         "lat": [
          2.996016,
          2.9998080000000003,
          3.0079130000000003,
          3.017111,
          3.022814,
          3.033194,
          3.048101,
          3.050506,
          3.0547,
          3.062229,
          3.062131,
          3.061445,
          3.0581959999999997,
          3.0638419999999997,
          3.076058,
          3.0895759999999997,
          3.102201,
          3.112609,
          3.128105,
          3.134879,
          3.140012,
          3.1440490000000003,
          3.14927,
          3.155567,
          3.161245,
          3.1663330000000003,
          3.1734970000000002,
          3.178484,
          3.185897
         ],
         "legendgroup": "Route_Name=Sri Petaling Line",
         "lon": [
          101.575521,
          101.596692,
          101.605021,
          101.61285500000001,
          101.613514,
          101.616057,
          101.62095,
          101.64429399999999,
          101.656468,
          101.662552,
          101.67055500000001,
          101.687074,
          101.692125,
          101.708062,
          101.711107,
          101.712466,
          101.706179,
          101.714178,
          101.715637,
          101.711957,
          101.705984,
          101.702105,
          101.696377,
          101.694485,
          101.694109,
          101.693586,
          101.695367,
          101.695542,
          101.695217
         ],
         "marker": {
          "color": "#EF553B"
         },
         "mode": "markers+text",
         "name": "Route_Name=Sri Petaling Line",
         "showlegend": true,
         "subplot": "mapbox",
         "text": [
          "PUTRA HEIGHTS",
          "PUCHONG PRIMA",
          "PUCHONG PERDANA",
          "BANDAR PUTERI",
          "TAMAN PERINDUSTRIAN PUCHONG",
          "PUSAT BANDAR PUCHONG",
          "IOI PUCHONG JAYA",
          "KINRARA BK5",
          "ALAM SUTERA",
          "MUHIBBAH",
          "AWAN BESAR",
          "SRI PETALING",
          "BUKIT JALIL",
          "SUNGAI BESI",
          "BANDAR TASIK SELATAN",
          "BANDAR TUN RAZAK",
          "SALAK SELATAN",
          "CHERAS",
          "CHAN SOW LIN",
          "PUDU",
          "HANG TUAH",
          "PLAZA RAKYAT",
          "MASJID JAMEK",
          "BANDARAYA",
          "SULTAN ISMAIL",
          "PWTC",
          "TITIWANGSA",
          "SENTUL",
          "SENTUL TIMUR"
         ],
         "type": "scattermapbox"
        },
        {
         "hoverlabel": {
          "namelength": 0
         },
         "hovertemplate": "Route_Name=KL Monorail Line<br>Name=%{text}<br>Latitud=%{lat}<br>Longitud=%{lon}",
         "lat": [
          3.132852,
          3.13132,
          3.138743,
          3.140511,
          3.14283,
          3.1460220000000003,
          3.150878,
          3.156214,
          3.15935,
          3.167358,
          3.173192
         ],
         "legendgroup": "Route_Name=KL Monorail Line",
         "lon": [
          101.68781700000001,
          101.69085,
          101.699268,
          101.706029,
          101.70945,
          101.7115,
          101.710432,
          101.704809,
          101.69888,
          101.698379,
          101.696022
         ],
         "marker": {
          "color": "#00cc96"
         },
         "mode": "markers+text",
         "name": "Route_Name=KL Monorail Line",
         "showlegend": true,
         "subplot": "mapbox",
         "text": [
          "KL SENTRAL",
          "TUN SAMBANTHAN",
          "MAHARAJALELA",
          "HANG TUAH",
          "IMBI",
          "BUKIT BINTANG ",
          "RAJA CHULAN",
          "BUKIT NANAS",
          "MEDAN TUANKU",
          "CHOW KIT",
          "TITIWANGSA"
         ],
         "type": "scattermapbox"
        }
       ],
       "layout": {
        "height": 600,
        "legend": {
         "tracegroupgap": 0
        },
        "mapbox": {
         "accesstoken": "pk.eyJ1Ijoic2hhaGFkYW4iLCJhIjoiY2s0MHlheHEyMDJ5eDNtcGsxMnFqMjVlNSJ9.AmWFbv3mw6Bo7aiJRBvVKQ",
         "center": {
          "lat": 3.119493068965517,
          "lon": 101.69173067241381
         },
         "domain": {
          "x": [
           0,
           0.98
          ],
          "y": [
           0,
           1
          ]
         },
         "zoom": 10
        },
        "margin": {
         "t": 60
        },
        "template": {
         "data": {
          "bar": [
           {
            "error_x": {
             "color": "#2a3f5f"
            },
            "error_y": {
             "color": "#2a3f5f"
            },
            "marker": {
             "line": {
              "color": "#E5ECF6",
              "width": 0.5
             }
            },
            "type": "bar"
           }
          ],
          "barpolar": [
           {
            "marker": {
             "line": {
              "color": "#E5ECF6",
              "width": 0.5
             }
            },
            "type": "barpolar"
           }
          ],
          "carpet": [
           {
            "aaxis": {
             "endlinecolor": "#2a3f5f",
             "gridcolor": "white",
             "linecolor": "white",
             "minorgridcolor": "white",
             "startlinecolor": "#2a3f5f"
            },
            "baxis": {
             "endlinecolor": "#2a3f5f",
             "gridcolor": "white",
             "linecolor": "white",
             "minorgridcolor": "white",
             "startlinecolor": "#2a3f5f"
            },
            "type": "carpet"
           }
          ],
          "choropleth": [
           {
            "colorbar": {
             "outlinewidth": 0,
             "ticks": ""
            },
            "type": "choropleth"
           }
          ],
          "contour": [
           {
            "colorbar": {
             "outlinewidth": 0,
             "ticks": ""
            },
            "colorscale": [
             [
              0,
              "#0d0887"
             ],
             [
              0.1111111111111111,
              "#46039f"
             ],
             [
              0.2222222222222222,
              "#7201a8"
             ],
             [
              0.3333333333333333,
              "#9c179e"
             ],
             [
              0.4444444444444444,
              "#bd3786"
             ],
             [
              0.5555555555555556,
              "#d8576b"
             ],
             [
              0.6666666666666666,
              "#ed7953"
             ],
             [
              0.7777777777777778,
              "#fb9f3a"
             ],
             [
              0.8888888888888888,
              "#fdca26"
             ],
             [
              1,
              "#f0f921"
             ]
            ],
            "type": "contour"
           }
          ],
          "contourcarpet": [
           {
            "colorbar": {
             "outlinewidth": 0,
             "ticks": ""
            },
            "type": "contourcarpet"
           }
          ],
          "heatmap": [
           {
            "colorbar": {
             "outlinewidth": 0,
             "ticks": ""
            },
            "colorscale": [
             [
              0,
              "#0d0887"
             ],
             [
              0.1111111111111111,
              "#46039f"
             ],
             [
              0.2222222222222222,
              "#7201a8"
             ],
             [
              0.3333333333333333,
              "#9c179e"
             ],
             [
              0.4444444444444444,
              "#bd3786"
             ],
             [
              0.5555555555555556,
              "#d8576b"
             ],
             [
              0.6666666666666666,
              "#ed7953"
             ],
             [
              0.7777777777777778,
              "#fb9f3a"
             ],
             [
              0.8888888888888888,
              "#fdca26"
             ],
             [
              1,
              "#f0f921"
             ]
            ],
            "type": "heatmap"
           }
          ],
          "heatmapgl": [
           {
            "colorbar": {
             "outlinewidth": 0,
             "ticks": ""
            },
            "colorscale": [
             [
              0,
              "#0d0887"
             ],
             [
              0.1111111111111111,
              "#46039f"
             ],
             [
              0.2222222222222222,
              "#7201a8"
             ],
             [
              0.3333333333333333,
              "#9c179e"
             ],
             [
              0.4444444444444444,
              "#bd3786"
             ],
             [
              0.5555555555555556,
              "#d8576b"
             ],
             [
              0.6666666666666666,
              "#ed7953"
             ],
             [
              0.7777777777777778,
              "#fb9f3a"
             ],
             [
              0.8888888888888888,
              "#fdca26"
             ],
             [
              1,
              "#f0f921"
             ]
            ],
            "type": "heatmapgl"
           }
          ],
          "histogram": [
           {
            "marker": {
             "colorbar": {
              "outlinewidth": 0,
              "ticks": ""
             }
            },
            "type": "histogram"
           }
          ],
          "histogram2d": [
           {
            "colorbar": {
             "outlinewidth": 0,
             "ticks": ""
            },
            "colorscale": [
             [
              0,
              "#0d0887"
             ],
             [
              0.1111111111111111,
              "#46039f"
             ],
             [
              0.2222222222222222,
              "#7201a8"
             ],
             [
              0.3333333333333333,
              "#9c179e"
             ],
             [
              0.4444444444444444,
              "#bd3786"
             ],
             [
              0.5555555555555556,
              "#d8576b"
             ],
             [
              0.6666666666666666,
              "#ed7953"
             ],
             [
              0.7777777777777778,
              "#fb9f3a"
             ],
             [
              0.8888888888888888,
              "#fdca26"
             ],
             [
              1,
              "#f0f921"
             ]
            ],
            "type": "histogram2d"
           }
          ],
          "histogram2dcontour": [
           {
            "colorbar": {
             "outlinewidth": 0,
             "ticks": ""
            },
            "colorscale": [
             [
              0,
              "#0d0887"
             ],
             [
              0.1111111111111111,
              "#46039f"
             ],
             [
              0.2222222222222222,
              "#7201a8"
             ],
             [
              0.3333333333333333,
              "#9c179e"
             ],
             [
              0.4444444444444444,
              "#bd3786"
             ],
             [
              0.5555555555555556,
              "#d8576b"
             ],
             [
              0.6666666666666666,
              "#ed7953"
             ],
             [
              0.7777777777777778,
              "#fb9f3a"
             ],
             [
              0.8888888888888888,
              "#fdca26"
             ],
             [
              1,
              "#f0f921"
             ]
            ],
            "type": "histogram2dcontour"
           }
          ],
          "mesh3d": [
           {
            "colorbar": {
             "outlinewidth": 0,
             "ticks": ""
            },
            "type": "mesh3d"
           }
          ],
          "parcoords": [
           {
            "line": {
             "colorbar": {
              "outlinewidth": 0,
              "ticks": ""
             }
            },
            "type": "parcoords"
           }
          ],
          "scatter": [
           {
            "marker": {
             "colorbar": {
              "outlinewidth": 0,
              "ticks": ""
             }
            },
            "type": "scatter"
           }
          ],
          "scatter3d": [
           {
            "line": {
             "colorbar": {
              "outlinewidth": 0,
              "ticks": ""
             }
            },
            "marker": {
             "colorbar": {
              "outlinewidth": 0,
              "ticks": ""
             }
            },
            "type": "scatter3d"
           }
          ],
          "scattercarpet": [
           {
            "marker": {
             "colorbar": {
              "outlinewidth": 0,
              "ticks": ""
             }
            },
            "type": "scattercarpet"
           }
          ],
          "scattergeo": [
           {
            "marker": {
             "colorbar": {
              "outlinewidth": 0,
              "ticks": ""
             }
            },
            "type": "scattergeo"
           }
          ],
          "scattergl": [
           {
            "marker": {
             "colorbar": {
              "outlinewidth": 0,
              "ticks": ""
             }
            },
            "type": "scattergl"
           }
          ],
          "scattermapbox": [
           {
            "marker": {
             "colorbar": {
              "outlinewidth": 0,
              "ticks": ""
             }
            },
            "type": "scattermapbox"
           }
          ],
          "scatterpolar": [
           {
            "marker": {
             "colorbar": {
              "outlinewidth": 0,
              "ticks": ""
             }
            },
            "type": "scatterpolar"
           }
          ],
          "scatterpolargl": [
           {
            "marker": {
             "colorbar": {
              "outlinewidth": 0,
              "ticks": ""
             }
            },
            "type": "scatterpolargl"
           }
          ],
          "scatterternary": [
           {
            "marker": {
             "colorbar": {
              "outlinewidth": 0,
              "ticks": ""
             }
            },
            "type": "scatterternary"
           }
          ],
          "surface": [
           {
            "colorbar": {
             "outlinewidth": 0,
             "ticks": ""
            },
            "colorscale": [
             [
              0,
              "#0d0887"
             ],
             [
              0.1111111111111111,
              "#46039f"
             ],
             [
              0.2222222222222222,
              "#7201a8"
             ],
             [
              0.3333333333333333,
              "#9c179e"
             ],
             [
              0.4444444444444444,
              "#bd3786"
             ],
             [
              0.5555555555555556,
              "#d8576b"
             ],
             [
              0.6666666666666666,
              "#ed7953"
             ],
             [
              0.7777777777777778,
              "#fb9f3a"
             ],
             [
              0.8888888888888888,
              "#fdca26"
             ],
             [
              1,
              "#f0f921"
             ]
            ],
            "type": "surface"
           }
          ],
          "table": [
           {
            "cells": {
             "fill": {
              "color": "#EBF0F8"
             },
             "line": {
              "color": "white"
             }
            },
            "header": {
             "fill": {
              "color": "#C8D4E3"
             },
             "line": {
              "color": "white"
             }
            },
            "type": "table"
           }
          ]
         },
         "layout": {
          "annotationdefaults": {
           "arrowcolor": "#2a3f5f",
           "arrowhead": 0,
           "arrowwidth": 1
          },
          "colorscale": {
           "diverging": [
            [
             0,
             "#8e0152"
            ],
            [
             0.1,
             "#c51b7d"
            ],
            [
             0.2,
             "#de77ae"
            ],
            [
             0.3,
             "#f1b6da"
            ],
            [
             0.4,
             "#fde0ef"
            ],
            [
             0.5,
             "#f7f7f7"
            ],
            [
             0.6,
             "#e6f5d0"
            ],
            [
             0.7,
             "#b8e186"
            ],
            [
             0.8,
             "#7fbc41"
            ],
            [
             0.9,
             "#4d9221"
            ],
            [
             1,
             "#276419"
            ]
           ],
           "sequential": [
            [
             0,
             "#0d0887"
            ],
            [
             0.1111111111111111,
             "#46039f"
            ],
            [
             0.2222222222222222,
             "#7201a8"
            ],
            [
             0.3333333333333333,
             "#9c179e"
            ],
            [
             0.4444444444444444,
             "#bd3786"
            ],
            [
             0.5555555555555556,
             "#d8576b"
            ],
            [
             0.6666666666666666,
             "#ed7953"
            ],
            [
             0.7777777777777778,
             "#fb9f3a"
            ],
            [
             0.8888888888888888,
             "#fdca26"
            ],
            [
             1,
             "#f0f921"
            ]
           ],
           "sequentialminus": [
            [
             0,
             "#0d0887"
            ],
            [
             0.1111111111111111,
             "#46039f"
            ],
            [
             0.2222222222222222,
             "#7201a8"
            ],
            [
             0.3333333333333333,
             "#9c179e"
            ],
            [
             0.4444444444444444,
             "#bd3786"
            ],
            [
             0.5555555555555556,
             "#d8576b"
            ],
            [
             0.6666666666666666,
             "#ed7953"
            ],
            [
             0.7777777777777778,
             "#fb9f3a"
            ],
            [
             0.8888888888888888,
             "#fdca26"
            ],
            [
             1,
             "#f0f921"
            ]
           ]
          },
          "colorway": [
           "#636efa",
           "#EF553B",
           "#00cc96",
           "#ab63fa",
           "#FFA15A",
           "#19d3f3",
           "#FF6692",
           "#B6E880",
           "#FF97FF",
           "#FECB52"
          ],
          "font": {
           "color": "#2a3f5f"
          },
          "geo": {
           "bgcolor": "white",
           "lakecolor": "white",
           "landcolor": "#E5ECF6",
           "showlakes": true,
           "showland": true,
           "subunitcolor": "white"
          },
          "hoverlabel": {
           "align": "left"
          },
          "hovermode": "closest",
          "mapbox": {
           "style": "light"
          },
          "paper_bgcolor": "white",
          "plot_bgcolor": "#E5ECF6",
          "polar": {
           "angularaxis": {
            "gridcolor": "white",
            "linecolor": "white",
            "ticks": ""
           },
           "bgcolor": "#E5ECF6",
           "radialaxis": {
            "gridcolor": "white",
            "linecolor": "white",
            "ticks": ""
           }
          },
          "scene": {
           "xaxis": {
            "backgroundcolor": "#E5ECF6",
            "gridcolor": "white",
            "gridwidth": 2,
            "linecolor": "white",
            "showbackground": true,
            "ticks": "",
            "zerolinecolor": "white"
           },
           "yaxis": {
            "backgroundcolor": "#E5ECF6",
            "gridcolor": "white",
            "gridwidth": 2,
            "linecolor": "white",
            "showbackground": true,
            "ticks": "",
            "zerolinecolor": "white"
           },
           "zaxis": {
            "backgroundcolor": "#E5ECF6",
            "gridcolor": "white",
            "gridwidth": 2,
            "linecolor": "white",
            "showbackground": true,
            "ticks": "",
            "zerolinecolor": "white"
           }
          },
          "shapedefaults": {
           "line": {
            "color": "#2a3f5f"
           }
          },
          "ternary": {
           "aaxis": {
            "gridcolor": "white",
            "linecolor": "white",
            "ticks": ""
           },
           "baxis": {
            "gridcolor": "white",
            "linecolor": "white",
            "ticks": ""
           },
           "bgcolor": "#E5ECF6",
           "caxis": {
            "gridcolor": "white",
            "linecolor": "white",
            "ticks": ""
           }
          },
          "title": {
           "x": 0.05
          },
          "xaxis": {
           "automargin": true,
           "gridcolor": "white",
           "linecolor": "white",
           "ticks": "",
           "zerolinecolor": "white",
           "zerolinewidth": 2
          },
          "yaxis": {
           "automargin": true,
           "gridcolor": "white",
           "linecolor": "white",
           "ticks": "",
           "zerolinecolor": "white",
           "zerolinewidth": 2
          }
         }
        }
       }
      },
      "text/html": [
       "<div>\n",
       "        \n",
       "        \n",
       "            <div id=\"1a6c78ca-f5f8-46ca-b05f-e029b33710ca\" class=\"plotly-graph-div\" style=\"height:600px; width:100%;\"></div>\n",
       "            <script type=\"text/javascript\">\n",
       "                require([\"plotly\"], function(Plotly) {\n",
       "                    window.PLOTLYENV=window.PLOTLYENV || {};\n",
       "                    \n",
       "                if (document.getElementById(\"1a6c78ca-f5f8-46ca-b05f-e029b33710ca\")) {\n",
       "                    Plotly.newPlot(\n",
       "                        '1a6c78ca-f5f8-46ca-b05f-e029b33710ca',\n",
       "                        [{\"hoverlabel\": {\"namelength\": 0}, \"hovertemplate\": \"Route_Name=Ampang Line<br>Name=%{text}<br>Latitud=%{lat}<br>Longitud=%{lon}\", \"lat\": [3.150318, 3.140575, 3.1383240000000003, 3.1345810000000003, 3.130141, 3.1232900000000003, 3.1209729999999998, 3.128105, 3.134879, 3.140012, 3.1440490000000003, 3.14927, 3.155567, 3.161245, 3.1663330000000003, 3.1734970000000002, 3.178484, 3.185897], \"legendgroup\": \"Route_Name=Ampang Line\", \"lon\": [101.760049, 101.756677, 101.75297900000001, 101.746509, 101.739122, 101.727283, 101.717922, 101.715637, 101.711957, 101.705984, 101.702105, 101.696377, 101.694485, 101.694109, 101.693586, 101.695367, 101.695542, 101.695217], \"marker\": {\"color\": \"#636efa\"}, \"mode\": \"markers+text\", \"name\": \"Route_Name=Ampang Line\", \"showlegend\": true, \"subplot\": \"mapbox\", \"text\": [\"AMPANG\", \"CAHAYA\", \"CEMPAKA\", \"PANDAN INDAH\", \"PANDAN JAYA\", \"MALURI\", \"MIHARJA\", \"CHAN SOW LIN\", \"PUDU\", \"HANG TUAH\", \"PLAZA RAKYAT\", \"MASJID JAMEK\", \"BANDARAYA\", \"SULTAN ISMAIL\", \"PWTC\", \"TITIWANGSA\", \"SENTUL\", \"SENTUL TIMUR\"], \"type\": \"scattermapbox\"}, {\"hoverlabel\": {\"namelength\": 0}, \"hovertemplate\": \"Route_Name=Sri Petaling Line<br>Name=%{text}<br>Latitud=%{lat}<br>Longitud=%{lon}\", \"lat\": [2.996016, 2.9998080000000003, 3.0079130000000003, 3.017111, 3.022814, 3.033194, 3.048101, 3.050506, 3.0547, 3.062229, 3.062131, 3.061445, 3.0581959999999997, 3.0638419999999997, 3.076058, 3.0895759999999997, 3.102201, 3.112609, 3.128105, 3.134879, 3.140012, 3.1440490000000003, 3.14927, 3.155567, 3.161245, 3.1663330000000003, 3.1734970000000002, 3.178484, 3.185897], \"legendgroup\": \"Route_Name=Sri Petaling Line\", \"lon\": [101.575521, 101.596692, 101.605021, 101.61285500000001, 101.613514, 101.616057, 101.62095, 101.64429399999999, 101.656468, 101.662552, 101.67055500000001, 101.687074, 101.692125, 101.708062, 101.711107, 101.712466, 101.706179, 101.714178, 101.715637, 101.711957, 101.705984, 101.702105, 101.696377, 101.694485, 101.694109, 101.693586, 101.695367, 101.695542, 101.695217], \"marker\": {\"color\": \"#EF553B\"}, \"mode\": \"markers+text\", \"name\": \"Route_Name=Sri Petaling Line\", \"showlegend\": true, \"subplot\": \"mapbox\", \"text\": [\"PUTRA HEIGHTS\", \"PUCHONG PRIMA\", \"PUCHONG PERDANA\", \"BANDAR PUTERI\", \"TAMAN PERINDUSTRIAN PUCHONG\", \"PUSAT BANDAR PUCHONG\", \"IOI PUCHONG JAYA\", \"KINRARA BK5\", \"ALAM SUTERA\", \"MUHIBBAH\", \"AWAN BESAR\", \"SRI PETALING\", \"BUKIT JALIL\", \"SUNGAI BESI\", \"BANDAR TASIK SELATAN\", \"BANDAR TUN RAZAK\", \"SALAK SELATAN\", \"CHERAS\", \"CHAN SOW LIN\", \"PUDU\", \"HANG TUAH\", \"PLAZA RAKYAT\", \"MASJID JAMEK\", \"BANDARAYA\", \"SULTAN ISMAIL\", \"PWTC\", \"TITIWANGSA\", \"SENTUL\", \"SENTUL TIMUR\"], \"type\": \"scattermapbox\"}, {\"hoverlabel\": {\"namelength\": 0}, \"hovertemplate\": \"Route_Name=KL Monorail Line<br>Name=%{text}<br>Latitud=%{lat}<br>Longitud=%{lon}\", \"lat\": [3.132852, 3.13132, 3.138743, 3.140511, 3.14283, 3.1460220000000003, 3.150878, 3.156214, 3.15935, 3.167358, 3.173192], \"legendgroup\": \"Route_Name=KL Monorail Line\", \"lon\": [101.68781700000001, 101.69085, 101.699268, 101.706029, 101.70945, 101.7115, 101.710432, 101.704809, 101.69888, 101.698379, 101.696022], \"marker\": {\"color\": \"#00cc96\"}, \"mode\": \"markers+text\", \"name\": \"Route_Name=KL Monorail Line\", \"showlegend\": true, \"subplot\": \"mapbox\", \"text\": [\"KL SENTRAL\", \"TUN SAMBANTHAN\", \"MAHARAJALELA\", \"HANG TUAH\", \"IMBI\", \"BUKIT BINTANG \", \"RAJA CHULAN\", \"BUKIT NANAS\", \"MEDAN TUANKU\", \"CHOW KIT\", \"TITIWANGSA\"], \"type\": \"scattermapbox\"}],\n",
       "                        {\"height\": 600, \"legend\": {\"tracegroupgap\": 0}, \"mapbox\": {\"accesstoken\": \"pk.eyJ1Ijoic2hhaGFkYW4iLCJhIjoiY2s0MHlheHEyMDJ5eDNtcGsxMnFqMjVlNSJ9.AmWFbv3mw6Bo7aiJRBvVKQ\", \"center\": {\"lat\": 3.119493068965517, \"lon\": 101.69173067241381}, \"domain\": {\"x\": [0.0, 0.98], \"y\": [0.0, 1.0]}, \"zoom\": 10}, \"margin\": {\"t\": 60}, \"template\": {\"data\": {\"bar\": [{\"error_x\": {\"color\": \"#2a3f5f\"}, \"error_y\": {\"color\": \"#2a3f5f\"}, \"marker\": {\"line\": {\"color\": \"#E5ECF6\", \"width\": 0.5}}, \"type\": \"bar\"}], \"barpolar\": [{\"marker\": {\"line\": {\"color\": \"#E5ECF6\", \"width\": 0.5}}, \"type\": \"barpolar\"}], \"carpet\": [{\"aaxis\": {\"endlinecolor\": \"#2a3f5f\", \"gridcolor\": \"white\", \"linecolor\": \"white\", \"minorgridcolor\": \"white\", \"startlinecolor\": \"#2a3f5f\"}, \"baxis\": {\"endlinecolor\": \"#2a3f5f\", \"gridcolor\": \"white\", \"linecolor\": \"white\", \"minorgridcolor\": \"white\", \"startlinecolor\": \"#2a3f5f\"}, \"type\": \"carpet\"}], \"choropleth\": [{\"colorbar\": {\"outlinewidth\": 0, \"ticks\": \"\"}, \"type\": \"choropleth\"}], \"contour\": [{\"colorbar\": {\"outlinewidth\": 0, \"ticks\": \"\"}, \"colorscale\": [[0.0, \"#0d0887\"], [0.1111111111111111, \"#46039f\"], [0.2222222222222222, \"#7201a8\"], [0.3333333333333333, \"#9c179e\"], [0.4444444444444444, \"#bd3786\"], [0.5555555555555556, \"#d8576b\"], [0.6666666666666666, \"#ed7953\"], [0.7777777777777778, \"#fb9f3a\"], [0.8888888888888888, \"#fdca26\"], [1.0, \"#f0f921\"]], \"type\": \"contour\"}], \"contourcarpet\": [{\"colorbar\": {\"outlinewidth\": 0, \"ticks\": \"\"}, \"type\": \"contourcarpet\"}], \"heatmap\": [{\"colorbar\": {\"outlinewidth\": 0, \"ticks\": \"\"}, \"colorscale\": [[0.0, \"#0d0887\"], [0.1111111111111111, \"#46039f\"], [0.2222222222222222, \"#7201a8\"], [0.3333333333333333, \"#9c179e\"], [0.4444444444444444, \"#bd3786\"], [0.5555555555555556, \"#d8576b\"], [0.6666666666666666, \"#ed7953\"], [0.7777777777777778, \"#fb9f3a\"], [0.8888888888888888, \"#fdca26\"], [1.0, \"#f0f921\"]], \"type\": \"heatmap\"}], \"heatmapgl\": [{\"colorbar\": {\"outlinewidth\": 0, \"ticks\": \"\"}, \"colorscale\": [[0.0, \"#0d0887\"], [0.1111111111111111, \"#46039f\"], [0.2222222222222222, \"#7201a8\"], [0.3333333333333333, \"#9c179e\"], [0.4444444444444444, \"#bd3786\"], [0.5555555555555556, \"#d8576b\"], [0.6666666666666666, \"#ed7953\"], [0.7777777777777778, \"#fb9f3a\"], [0.8888888888888888, \"#fdca26\"], [1.0, \"#f0f921\"]], \"type\": \"heatmapgl\"}], \"histogram\": [{\"marker\": {\"colorbar\": {\"outlinewidth\": 0, \"ticks\": \"\"}}, \"type\": \"histogram\"}], \"histogram2d\": [{\"colorbar\": {\"outlinewidth\": 0, \"ticks\": \"\"}, \"colorscale\": [[0.0, \"#0d0887\"], [0.1111111111111111, \"#46039f\"], [0.2222222222222222, \"#7201a8\"], [0.3333333333333333, \"#9c179e\"], [0.4444444444444444, \"#bd3786\"], [0.5555555555555556, \"#d8576b\"], [0.6666666666666666, \"#ed7953\"], [0.7777777777777778, \"#fb9f3a\"], [0.8888888888888888, \"#fdca26\"], [1.0, \"#f0f921\"]], \"type\": \"histogram2d\"}], \"histogram2dcontour\": [{\"colorbar\": {\"outlinewidth\": 0, \"ticks\": \"\"}, \"colorscale\": [[0.0, \"#0d0887\"], [0.1111111111111111, \"#46039f\"], [0.2222222222222222, \"#7201a8\"], [0.3333333333333333, \"#9c179e\"], [0.4444444444444444, \"#bd3786\"], [0.5555555555555556, \"#d8576b\"], [0.6666666666666666, \"#ed7953\"], [0.7777777777777778, \"#fb9f3a\"], [0.8888888888888888, \"#fdca26\"], [1.0, \"#f0f921\"]], \"type\": \"histogram2dcontour\"}], \"mesh3d\": [{\"colorbar\": {\"outlinewidth\": 0, \"ticks\": \"\"}, \"type\": \"mesh3d\"}], \"parcoords\": [{\"line\": {\"colorbar\": {\"outlinewidth\": 0, \"ticks\": \"\"}}, \"type\": \"parcoords\"}], \"scatter\": [{\"marker\": {\"colorbar\": {\"outlinewidth\": 0, \"ticks\": \"\"}}, \"type\": \"scatter\"}], \"scatter3d\": [{\"line\": {\"colorbar\": {\"outlinewidth\": 0, \"ticks\": \"\"}}, \"marker\": {\"colorbar\": {\"outlinewidth\": 0, \"ticks\": \"\"}}, \"type\": \"scatter3d\"}], \"scattercarpet\": [{\"marker\": {\"colorbar\": {\"outlinewidth\": 0, \"ticks\": \"\"}}, \"type\": \"scattercarpet\"}], \"scattergeo\": [{\"marker\": {\"colorbar\": {\"outlinewidth\": 0, \"ticks\": \"\"}}, \"type\": \"scattergeo\"}], \"scattergl\": [{\"marker\": {\"colorbar\": {\"outlinewidth\": 0, \"ticks\": \"\"}}, \"type\": \"scattergl\"}], \"scattermapbox\": [{\"marker\": {\"colorbar\": {\"outlinewidth\": 0, \"ticks\": \"\"}}, \"type\": \"scattermapbox\"}], \"scatterpolar\": [{\"marker\": {\"colorbar\": {\"outlinewidth\": 0, \"ticks\": \"\"}}, \"type\": \"scatterpolar\"}], \"scatterpolargl\": [{\"marker\": {\"colorbar\": {\"outlinewidth\": 0, \"ticks\": \"\"}}, \"type\": \"scatterpolargl\"}], \"scatterternary\": [{\"marker\": {\"colorbar\": {\"outlinewidth\": 0, \"ticks\": \"\"}}, \"type\": \"scatterternary\"}], \"surface\": [{\"colorbar\": {\"outlinewidth\": 0, \"ticks\": \"\"}, \"colorscale\": [[0.0, \"#0d0887\"], [0.1111111111111111, \"#46039f\"], [0.2222222222222222, \"#7201a8\"], [0.3333333333333333, \"#9c179e\"], [0.4444444444444444, \"#bd3786\"], [0.5555555555555556, \"#d8576b\"], [0.6666666666666666, \"#ed7953\"], [0.7777777777777778, \"#fb9f3a\"], [0.8888888888888888, \"#fdca26\"], [1.0, \"#f0f921\"]], \"type\": \"surface\"}], \"table\": [{\"cells\": {\"fill\": {\"color\": \"#EBF0F8\"}, \"line\": {\"color\": \"white\"}}, \"header\": {\"fill\": {\"color\": \"#C8D4E3\"}, \"line\": {\"color\": \"white\"}}, \"type\": \"table\"}]}, \"layout\": {\"annotationdefaults\": {\"arrowcolor\": \"#2a3f5f\", \"arrowhead\": 0, \"arrowwidth\": 1}, \"colorscale\": {\"diverging\": [[0, \"#8e0152\"], [0.1, \"#c51b7d\"], [0.2, \"#de77ae\"], [0.3, \"#f1b6da\"], [0.4, \"#fde0ef\"], [0.5, \"#f7f7f7\"], [0.6, \"#e6f5d0\"], [0.7, \"#b8e186\"], [0.8, \"#7fbc41\"], [0.9, \"#4d9221\"], [1, \"#276419\"]], \"sequential\": [[0.0, \"#0d0887\"], [0.1111111111111111, \"#46039f\"], [0.2222222222222222, \"#7201a8\"], [0.3333333333333333, \"#9c179e\"], [0.4444444444444444, \"#bd3786\"], [0.5555555555555556, \"#d8576b\"], [0.6666666666666666, \"#ed7953\"], [0.7777777777777778, \"#fb9f3a\"], [0.8888888888888888, \"#fdca26\"], [1.0, \"#f0f921\"]], \"sequentialminus\": [[0.0, \"#0d0887\"], [0.1111111111111111, \"#46039f\"], [0.2222222222222222, \"#7201a8\"], [0.3333333333333333, \"#9c179e\"], [0.4444444444444444, \"#bd3786\"], [0.5555555555555556, \"#d8576b\"], [0.6666666666666666, \"#ed7953\"], [0.7777777777777778, \"#fb9f3a\"], [0.8888888888888888, \"#fdca26\"], [1.0, \"#f0f921\"]]}, \"colorway\": [\"#636efa\", \"#EF553B\", \"#00cc96\", \"#ab63fa\", \"#FFA15A\", \"#19d3f3\", \"#FF6692\", \"#B6E880\", \"#FF97FF\", \"#FECB52\"], \"font\": {\"color\": \"#2a3f5f\"}, \"geo\": {\"bgcolor\": \"white\", \"lakecolor\": \"white\", \"landcolor\": \"#E5ECF6\", \"showlakes\": true, \"showland\": true, \"subunitcolor\": \"white\"}, \"hoverlabel\": {\"align\": \"left\"}, \"hovermode\": \"closest\", \"mapbox\": {\"style\": \"light\"}, \"paper_bgcolor\": \"white\", \"plot_bgcolor\": \"#E5ECF6\", \"polar\": {\"angularaxis\": {\"gridcolor\": \"white\", \"linecolor\": \"white\", \"ticks\": \"\"}, \"bgcolor\": \"#E5ECF6\", \"radialaxis\": {\"gridcolor\": \"white\", \"linecolor\": \"white\", \"ticks\": \"\"}}, \"scene\": {\"xaxis\": {\"backgroundcolor\": \"#E5ECF6\", \"gridcolor\": \"white\", \"gridwidth\": 2, \"linecolor\": \"white\", \"showbackground\": true, \"ticks\": \"\", \"zerolinecolor\": \"white\"}, \"yaxis\": {\"backgroundcolor\": \"#E5ECF6\", \"gridcolor\": \"white\", \"gridwidth\": 2, \"linecolor\": \"white\", \"showbackground\": true, \"ticks\": \"\", \"zerolinecolor\": \"white\"}, \"zaxis\": {\"backgroundcolor\": \"#E5ECF6\", \"gridcolor\": \"white\", \"gridwidth\": 2, \"linecolor\": \"white\", \"showbackground\": true, \"ticks\": \"\", \"zerolinecolor\": \"white\"}}, \"shapedefaults\": {\"line\": {\"color\": \"#2a3f5f\"}}, \"ternary\": {\"aaxis\": {\"gridcolor\": \"white\", \"linecolor\": \"white\", \"ticks\": \"\"}, \"baxis\": {\"gridcolor\": \"white\", \"linecolor\": \"white\", \"ticks\": \"\"}, \"bgcolor\": \"#E5ECF6\", \"caxis\": {\"gridcolor\": \"white\", \"linecolor\": \"white\", \"ticks\": \"\"}}, \"title\": {\"x\": 0.05}, \"xaxis\": {\"automargin\": true, \"gridcolor\": \"white\", \"linecolor\": \"white\", \"ticks\": \"\", \"zerolinecolor\": \"white\", \"zerolinewidth\": 2}, \"yaxis\": {\"automargin\": true, \"gridcolor\": \"white\", \"linecolor\": \"white\", \"ticks\": \"\", \"zerolinecolor\": \"white\", \"zerolinewidth\": 2}}}},\n",
       "                        {\"responsive\": true}\n",
       "                    ).then(function(){\n",
       "                            \n",
       "var gd = document.getElementById('1a6c78ca-f5f8-46ca-b05f-e029b33710ca');\n",
       "var x = new MutationObserver(function (mutations, observer) {{\n",
       "        var display = window.getComputedStyle(gd).display;\n",
       "        if (!display || display === 'none') {{\n",
       "            console.log([gd, 'removed!']);\n",
       "            Plotly.purge(gd);\n",
       "            observer.disconnect();\n",
       "        }}\n",
       "}});\n",
       "\n",
       "// Listen for the removal of the full notebook cells\n",
       "var notebookContainer = gd.closest('#notebook-container');\n",
       "if (notebookContainer) {{\n",
       "    x.observe(notebookContainer, {childList: true});\n",
       "}}\n",
       "\n",
       "// Listen for the clearing of the current output cell\n",
       "var outputEl = gd.closest('.output');\n",
       "if (outputEl) {{\n",
       "    x.observe(outputEl, {childList: true});\n",
       "}}\n",
       "\n",
       "                        })\n",
       "                };\n",
       "                });\n",
       "            </script>\n",
       "        </div>"
      ]
     },
     "metadata": {},
     "output_type": "display_data"
    }
   ],
   "source": [
    "import plotly.express as px\n",
    "px.set_mapbox_access_token(open(r\"C:\\Users\\Mohamad Syafiq\\Desktop\\mapbox_token.txt\").read())\n",
    "fig = px.scatter_mapbox(df, lat=\"Latitud\", lon=\"Longitud\",     color=\"Route_Name\",text=\"Name\",\n",
    "                  color_continuous_scale=px.colors.cyclical.IceFire, size_max=25, zoom=10)\n",
    "fig.show()"
   ]
  },
  {
   "cell_type": "code",
   "execution_count": 12,
   "metadata": {},
   "outputs": [],
   "source": [
    "df1 = pd.read_csv(r'C:\\Users\\Mohamad Syafiq\\Desktop\\pulaumalaysia.csv')"
   ]
  },
  {
   "cell_type": "code",
   "execution_count": 23,
   "metadata": {},
   "outputs": [
    {
     "data": {
      "application/vnd.plotly.v1+json": {
       "config": {
        "plotlyServerURL": "https://plot.ly"
       },
       "data": [
        {
         "hoverlabel": {
          "namelength": 0
         },
         "hovertemplate": "NEGERI=Terengganu<br>Nama=%{text}<br>LATITUD=%{lat}<br>LONGITUD=%{lon}",
         "lat": [
          5.958369444,
          5.958863889,
          5.962272222,
          5.960957036,
          5.9626194439999995,
          5.8304055560000005,
          5.905036111,
          5.942486111,
          5.961594444,
          5.904433332999999,
          4.864105556,
          4.845033333,
          4.7816,
          4.781266667,
          4.805075,
          5.341683333,
          5.340080556,
          5.301866667,
          5.338191667,
          5.335919444,
          5.331422222,
          5.331394444,
          5.332277778,
          5.321638889,
          5.321088888999999,
          5.329347222,
          5.323258333,
          5.335888889,
          5.233669443999999,
          5.221380556000001,
          5.638833332999999,
          5.642958332999999,
          5.597825,
          5.620375,
          5.657402778,
          5.667722222,
          5.641344444,
          5.624041667,
          5.734,
          5.738105556,
          5.753097222,
          5.7781333329999995,
          5.7722861110000006,
          5.773808333,
          5.7397,
          5.793563889,
          5.677658332999999,
          5.793105556,
          5.594752777999999,
          5.625497222000001,
          5.69715,
          5.6340833329999995,
          5.646238889,
          5.642811111,
          5.641144444,
          5.642811111,
          5.651241667000001,
          5.662194444,
          5.6661,
          5.670716667000001,
          5.6738166670000005,
          5.677530556000001,
          5.682558332999999,
          5.683813889,
          5.693869444,
          5.642958332999999,
          5.7581277779999995,
          5.685583332999999,
          5.668361111,
          5.621472222,
          5.6252222220000005,
          5.656722222000001,
          5.343222222,
          5.338416667,
          5.33925,
          5.334361111000001,
          5.318166667
         ],
         "legendgroup": "NEGERI=Terengganu",
         "lon": [
          102.6690944,
          102.6646472,
          102.67688890000001,
          102.6549482,
          102.6666056,
          102.61215,
          102.7250306,
          102.66785,
          102.6826889,
          102.7543806,
          103.6611444,
          103.6646417,
          103.40705559999999,
          103.4212583,
          103.6809806,
          103.1264944,
          103.123175,
          103.08847220000001,
          103.1210806,
          103.1221806,
          103.1201167,
          103.12395,
          103.11751109999999,
          103.11676109999999,
          103.0974,
          103.1281833,
          103.1075917,
          103.13325,
          103.26312779999999,
          103.2655417,
          102.7677444,
          102.765,
          103.06426390000001,
          103.06331109999999,
          103.0686917,
          103.0714,
          103.1518389,
          103.1604194,
          103.01948890000001,
          103.02993609999999,
          103.028875,
          103.0419583,
          103.03881109999999,
          103.0602389,
          103.0017222,
          103.0036417,
          102.8241194,
          102.895025,
          102.7980056,
          102.78525,
          102.6941444,
          102.77215,
          102.75394720000001,
          102.7671583,
          102.7656944,
          102.7671583,
          102.7534722,
          102.7328083,
          102.7309972,
          102.7245556,
          102.7204944,
          102.7140389,
          102.7092028,
          102.7070861,
          102.6980417,
          102.765,
          103.0300667,
          102.7080556,
          102.7284444,
          102.7924167,
          102.78622220000001,
          102.7393333,
          103.1259722,
          103.1288333,
          103.1285,
          103.11875,
          103.0980417
         ],
         "marker": {
          "color": "#636efa"
         },
         "mode": "markers+text",
         "name": "NEGERI=Terengganu",
         "showlegend": true,
         "subplot": "mapbox",
         "text": [
          "Pulau Teku Burung",
          "Pulau Susu Dara",
          "Pulau Tokong Kemudi",
          "Pulau Tokong Kemudi Barat",
          "Pulau Dara Kechil (Pulau Dara Kecil)",
          "Pulau Ru",
          "Pulau Perhentian Kecil",
          "Pulau Serenggeh",
          "Pulau Rawa",
          "Pulau Perhentian Besar",
          "Pulau Tokong Burung",
          "Pulau Nyirih",
          "Pulau Serai",
          "Pulau Tengku Jaafar",
          "Pulau Tenggul",
          "Pulau Che Long",
          "Pulau Pak Kub (pulau Che Hassan)",
          "Pulau Wau",
          "Pulau Che Yok",
          "Pulau Tok Hakim (Pulau Wan Ali)",
          "Pulau Tengah (Pulau Panjang)",
          "Pulau Duyung Besar",
          "Pulau Besar (Pulau Raja)",
          "Pulau Wan Man",
          "Pulau Sekati",
          "Pulau Pasir",
          "Pulau Pak Mat (Pulau Pak Mat Lebai)",
          "Pulau Warisan",
          "Pulau Gumia (Pulau Sunita)",
          "Pulau Kapas (Pulau Kerengga)",
          "Pulau Pauh",
          "Pulau Wan Mamat",
          "Pulau Karah (Pulau Kapak)",
          "Pulau Bidung Laut",
          "Pulau Geluk",
          "Pulau Tengkorak",
          "Pulau Yu Besar",
          "Pulau Yu Kecil",
          "Pulau Ling (Pulau Che Por)",
          "Pulau Ekor Tebu",
          "Pulau Kerengga Besar",
          "Pulau Paku Besar",
          "Pulau Paku Kecil",
          "Pulau Limau",
          "Pulau Pinang",
          "Pulau Redang",
          "Pulau Cipu",
          "Pulau Lang Tengah",
          "Pulau Che Selamah",
          "Pulau Tok Bilal",
          "Pulau Layat",
          "Pulau Tok Ba",
          "Pulau Ubi",
          "Pulau Ru",
          "Pulau Mat Gendut",
          "Pulau Gemia",
          "Pulau Sutung",
          "Pulau Tok Haji",
          "Pulau Busung",
          "Pulau Besar (Pulau Raja)",
          "Pulau Che Hamid",
          "Pulau Wan Embong",
          "Pulau Che Him",
          "Pulau Semut",
          "Pulau Telaga Tujuh",
          "Pulau Wan Mamat",
          "Pulau Kerengga Kecil",
          "Pulau Dua",
          " Pulau Kecil",
          "Pulau Kerengga",
          "Pulau Mak Chik Pah",
          "Pulau Pak Ting",
          "Pulau Pasir Takir",
          "Pulau Wan Embong",
          "Pulau Duyung Kecil",
          "Pulau Tuan Ngah",
          "Pulau Ungku Aziz"
         ],
         "type": "scattermapbox"
        },
        {
         "hoverlabel": {
          "namelength": 0
         },
         "hovertemplate": "NEGERI=Johor<br>Nama=%{text}<br>LATITUD=%{lat}<br>LONGITUD=%{lon}",
         "lat": [
          2.4416361109999998,
          2.478355556,
          2.4933416669999997,
          2.535838889,
          2.550597222,
          2.561122222,
          2.48035,
          2.4922027780000002,
          2.449813889,
          2.436858333,
          2.459038889,
          2.476502778,
          2.582527778,
          2.3029722219999997,
          2.279661111,
          2.272775,
          2.270291667,
          2.271944444,
          2.26615,
          2.2726666669999998,
          2.306219444,
          2.305686111,
          2.640138889,
          2.651827778,
          2.225697222,
          2.187816667,
          2.181513889,
          2.173394444,
          2.189727778,
          2.224769444,
          2.224088889,
          2.2196916669999998,
          2.217169444,
          2.124080556,
          2.618022222,
          2.5669388890000002,
          2.652986111,
          2.6457916669999997,
          2.225708333,
          2.566527778,
          2.1962583330000003,
          2.350522222,
          2.654666667,
          2.6515,
          2.645166667,
          2.623,
          2.520666667,
          1.788658333,
          1.3593638890000002,
          1.4086916669999998,
          1.9252722219999998,
          1.365552778,
          1.3786194440000001,
          1.3724916669999998,
          1.372688889,
          1.361425,
          1.3520833330000002,
          1.357430556,
          1.425819444,
          1.4702333330000001,
          1.4709972219999998,
          1.323630556,
          1.4687444440000001,
          1.4728777780000002,
          1.3155444440000001,
          1.427711111,
          1.5261666669999998,
          1.5894333330000001,
          1.647222222,
          1.64165
         ],
         "legendgroup": "NEGERI=Johor",
         "lon": [
          103.98303890000001,
          103.96128890000001,
          103.952125,
          103.9696694,
          103.9598417,
          103.9454528,
          103.8471306,
          103.85583890000001,
          104.5215472,
          104.5495583,
          104.48920559999999,
          104.50232220000001,
          104.32736109999999,
          104.1182833,
          104.1253306,
          104.1171,
          104.127675,
          104.1225694,
          104.1514361,
          104.1535833,
          104.1490111,
          104.14398059999999,
          103.7444611,
          103.71292779999999,
          104.0640083,
          104.1010333,
          104.1105278,
          104.1140972,
          104.09501390000001,
          104.1351778,
          104.14765279999999,
          104.1507833,
          104.16036940000001,
          104.2473778,
          103.7840194,
          103.8272583,
          103.7494,
          103.74683890000001,
          103.9595528,
          103.94825,
          103.969925,
          103.9175056,
          103.88,
          103.8835,
          103.8883333,
          103.7646667,
          103.975,
          102.8839694,
          104.1056433,
          104.1007444,
          104.1177389,
          104.2923556,
          104.30008609999999,
          104.2941111,
          104.3114944,
          104.2980222,
          104.23464440000001,
          104.0965472,
          104.0843056,
          103.2356444,
          103.25551109999999,
          103.4246889,
          103.23823890000001,
          103.2688167,
          103.6098806,
          104.97739170000001,
          104.0076667,
          103.9808333,
          103.9480556,
          103.9580917
         ],
         "marker": {
          "color": "#EF553B"
         },
         "mode": "markers+text",
         "name": "NEGERI=Johor",
         "showlegend": true,
         "subplot": "mapbox",
         "text": [
          "Pulau Babi Besar",
          "Pulau Babi Tengah",
          "Pulau Babi Hujong",
          "Pulau Gual",
          "Pulau Mensirip",
          "Pulau Harimau",
          "Pulau Setindan",
          "Pulau Batu Gajah",
          "Pulau Aur",
          "Pulau Pinang",
          "Pulau Lang",
          "Pulau Dayang",
          "Pulau Pemanggil",
          "Pulau Tinggi",
          "Pulau Apil",
          "Pulau Mentigi",
          "Pulau Nangka Besar",
          "Pulau Nangka Kechil",
          "Pulau Simbang",
          "Pulau Lanting",
          "Pulau Ibol",
          "Pulau Penyembang",
          "Pulau Perigi Cina",
          "Pulau Lalang",
          "Pulau Sibu",
          "Pulau Sibu Tengah",
          "Pulau Sibu Kukus",
          "Pulau Sibu Hujong",
          "Pulau Papan",
          "Pulau Tokong Sanggol",
          "Pulau Lima Kecil",
          "Pulau Lima Besar",
          "Pulau Tokong Raket",
          "Pulau Tokong Yu",
          "Pulau Mawar",
          "Pulau Lalang",
          "Pulau Pelandok",
          "Pulau Ayam",
          "Pulau Kerengga",
          "Pulau Gurong ( Di Atas Pulau Harimau)",
          "Pulau Lilang",
          "Pulau Belanak",
          "Pulau Achi (Pulau Mertang Barat)",
          "Pulau Mertang (Pulau Mertang Tengah)",
          "Pulau Mertang Timur",
          "Pulau Kerengga (Mukim Penyabong)",
          "Pulau Rawa",
          "Pulau Sialu",
          "Pulau Malang Berendam",
          "Pulau Chumbun",
          "Pulau Tagal",
          "Pulau Lima",
          "Pulau Geruda",
          "Pulau Besar",
          "Pulau Peak (Peak Rock)",
          "Pulau Pemanggil",
          "Pulau Che Kamat",
          "Pulau Malang Berdaun",
          "Pulau Malang Siajar",
          "Pulau Tunda",
          "Pulau Pisang",
          "Pulau Kukup",
          "Pulau Kemudi",
          "Pulau Sauh",
          "Pulau Merambong",
          "Pulau Nenas",
          "Pulau Juling",
          "Pulau Layang",
          "Pulau Kayu Anak Kecil",
          "Pulau Kayu Anak Besar"
         ],
         "type": "scattermapbox"
        },
        {
         "hoverlabel": {
          "namelength": 0
         },
         "hovertemplate": "NEGERI=Kedah<br>Nama=%{text}<br>LATITUD=%{lat}<br>LONGITUD=%{lon}",
         "lat": [
          6.414883333,
          6.466161111,
          6.460580556,
          6.459269443999999,
          6.4545222220000005,
          6.455163889,
          6.449233333,
          6.296933332999999,
          6.29325,
          6.267680556,
          6.258252777999999,
          6.252569444,
          6.2642638889999995,
          6.256255556,
          6.251008333,
          6.286508333,
          6.276569444,
          6.292847222000001,
          6.273366667,
          6.270211111,
          6.266736111,
          6.305930556,
          6.313652778,
          6.307402777999999,
          6.314844443999999,
          6.2245,
          6.204788889,
          6.1736222220000005,
          6.223019444,
          6.233211111,
          6.242161111000001,
          6.213197222000001,
          6.207575,
          6.2225916670000005,
          6.187602778,
          6.179069444,
          6.199336111,
          6.212413889,
          6.210505556,
          6.238644444,
          6.235569443999999,
          6.2441111110000005,
          6.260211111,
          6.265369444,
          6.362205556,
          6.273794444,
          6.424547222,
          6.4128777779999995,
          6.182252778,
          6.421613889,
          6.48785,
          6.433333332999999,
          6.437555556,
          6.456811111,
          6.468363889,
          6.432705556,
          6.463277777999999,
          6.431361111,
          6.436544444,
          6.359461111,
          6.293372222,
          6.275638889,
          6.283394444,
          6.276072222000001,
          6.4721444439999996,
          6.243311111000001,
          6.242197222000001,
          6.232041667000001,
          6.2224,
          6.421797222,
          6.173161111000001,
          6.164352778,
          6.2068222220000004,
          6.216547222000001,
          6.305541667000001,
          6.3224305560000005,
          6.244772222000001,
          6.167283332999999,
          6.194027778,
          6.1903611110000005,
          6.193991667000001,
          6.192086111,
          6.4205138889999995,
          6.325319444,
          6.201808333,
          6.201902777999999,
          6.265922222,
          6.361175,
          6.361225,
          6.308333332999999,
          6.328297222000001,
          6.3290638889999995,
          6.331172222,
          6.166666667,
          6.165644444,
          6.1701277779999995,
          5.6941611110000006,
          5.878108332999999,
          5.744666667000001,
          5.769330556,
          5.809352777999999,
          5.7991694439999995,
          6.041166667000001,
          6.040686111,
          6.071555556,
          6.059808332999999,
          6.071308332999999,
          5.660611111000001,
          6.29815,
          6.297794444,
          6.301472222,
          6.159377778,
          6.161258332999999,
          6.189222222000001,
          6.188222222,
          6.18915,
          6.166122222
         ],
         "legendgroup": "NEGERI=Kedah",
         "lon": [
          99.91449194,
          99.82316667,
          99.81885,
          99.81880556,
          99.79574722,
          99.78976944,
          99.77766389,
          99.69634167,
          99.70941944,
          99.71818056,
          99.74283056,
          99.74421111,
          99.75653333,
          99.7714,
          99.78208333,
          99.86384722,
          99.87015278,
          99.86869444,
          99.873925,
          99.87912222,
          99.88513889,
          99.89074167,
          99.91354444,
          99.93255556,
          99.93958333,
          99.71628611,
          99.73329167,
          99.73140833,
          99.75714722,
          99.79998889,
          99.84187222,
          99.76386389,
          99.76783056,
          99.76708611,
          99.78333333,
          99.77873889,
          99.830375,
          99.834575,
          99.86155833,
          99.87271111,
          99.87228611,
          99.87603889,
          99.85483333,
          99.85570833,
          99.79403611,
          99.71109167,
          99.90585,
          99.90588056,
          99.79523889,
          99.88276111,
          99.876775,
          99.86677778,
          99.85610833,
          99.8543,
          99.84991667,
          99.89283889,
          99.82371111,
          99.74337222,
          99.673675,
          99.67108611,
          99.70481389,
          99.70972222,
          99.77769444,
          99.89534722,
          99.83431667,
          99.71283889,
          99.72119167,
          99.74871944,
          99.76725278,
          99.91152778,
          99.78569167,
          99.81375,
          99.83164167,
          99.86226389,
          99.867925,
          99.89680556,
          99.869275,
          99.81162222,
          99.84215833,
          99.84322222,
          99.84503611,
          99.84144444,
          99.88667778,
          99.92647778,
          99.83265833,
          99.83190278,
          99.78219722,
          99.67575556,
          99.67986389,
          99.90833333,
          99.9099,
          99.91123333,
          99.91283333,
          99.77638889,
          99.77557222,
          99.77593333,
          98.93738333,
          100.3272667,
          100.28770279999999,
          100.2863833,
          100.2953167,
          100.2804194,
          99.92666667,
          99.92471389,
          100.05221390000001,
          100.0411111,
          100.0573833,
          100.3295889,
          99.87676389,
          99.88077222,
          99.88546667,
          99.79503611,
          99.80086944,
          99.83405556,
          99.83675,
          99.837325,
          99.77883056
         ],
         "marker": {
          "color": "#00cc96"
         },
         "mode": "markers+text",
         "name": "NEGERI=Kedah",
         "showlegend": true,
         "subplot": "mapbox",
         "text": [
          "Pulau Tanjung Dendang",
          "Pulau Gua",
          "Pulau Kelam Baya",
          "Pulau Chabang Besar",
          "Pulau Pasir",
          "Pulau Gasing",
          "Pulau Dangli",
          "Pulau Rebak Besar",
          "Pulau Rebak Kechil/ Pulau Rebak Kecil",
          "Pulau Tepor",
          "Pulau Ular",
          "Pulau Selang",
          "Pulau Lalang",
          "Pulau Jerkom Besar",
          "Pulau Jerkom Kechil/ Pulau Jerkom Kecil",
          "Pulau Bumbon Besar",
          "Pulau Bumbon Kechil",
          "Pulau Kerai",
          "Pulau Tanggok Kechil",
          "Pulau Tanggok Besar",
          "Pulau Tiloi",
          "Pulau Kedera",
          "Pulau Timun",
          "Pulau Paku",
          "Pulau Chorong",
          "Pulau Beras Basah",
          "Pulau Singa Besar",
          "Pulau Chupu",
          "Pulau Jong",
          "Pulau Dayang Bunting",
          "Pulau Tuba",
          "Pulau Batu Merah",
          "Pulau Kukus",
          "Pulau Simpang Tiga Besar",
          "Pulau Gubang Darat",
          "Pulau Gubang Laut",
          "Pulau Teluk Tongkang (Pengesahan Kedah)",
          "Pulau Sipak",
          "Pulau Selang Besar",
          "Pulau Nyior Setali Darat (Pengesahan Kedah)",
          "Pulau Nyior Setali Laut (Pengesahan Kedah)",
          "Pulau Enggang",
          "Pulau Batu Punggah",
          "Pulau Lintang Jalan",
          "Pulau Langkawi",
          "Tukun Babau Kechil",
          "Anak Pulau Berangan",
          "Pulau Anak Tikus",
          "Pulau Teluk Akar (Pengesahan Kedah)",
          "Pulau Peluru",
          "Pulau Tanggok",
          "Pulau Anak Kilim",
          "Pulau Chempuli",
          "Pulau Teluk Jong",
          "Pulau Anak Gua Cherita",
          "Pulau Lenggoon (Upen)",
          "Pulau Belibis (Upen)",
          "Pulau Jemuruk (Upen)",
          "Anak Pulau Datai",
          "Pulau Burau (Upen)",
          "Pulau Selat Senari (Upen)",
          "Pulau Tekong Baba (Upen)",
          "Pulau Ipoh",
          "Pulau Buyung (Upen)",
          "Pulau Teluk Dedap (Pengesahan Kedah)",
          "Pulau Intan Kechil (Pulau Kentut Kechil)",
          "Pulau Intan Besar (Pulau Kentut Besar)",
          "Pulau Singa Kechil",
          "Pulau Simpang Tiga Kechil",
          "Pulau Cak Perling (Pengesahan Kedah)",
          "Pulau Tajai (Upen)",
          "Pulau Ujong Buloh (Upen)",
          "Pulau Duyong",
          "Pulau Selang Kechil/Pulau Selang Kecil",
          "Pulau Penarak (Pengesahan Kedah)",
          "Pulau Rapang (Pengesahan Kedah)",
          "Pulau Pasir",
          "Pulau Selat Riang-Riang",
          "Pulau Lima",
          "Pulau Panji-Panji (Pengesahan Kedah)",
          "Pulau Tanjung Tok Keramat (Pengesahan Kedah)",
          "Pulau Kapal (Pengesahan Kedah)",
          "Pulau Kapal (Pengesahan Kedah)",
          "Pulau Sigai (Pengesahan Kedah)",
          "Pulau Ayam Laut (Pengesahan Kedah)",
          "Pulau Ayam Darat (Pengesahan Kedah)",
          "Pulau Tak Berumput (Pengesahan Kedah)",
          "Pulau Seratus (Pengesahan Kedah)",
          "Pulau Seratus Satu (Pengesahan Kedah)",
          "Pulau Teluk Nipah Besar (Pengesahan Kedah)",
          "Pulau Perta (Pengesahan Kedah)",
          "Pulau Tulang Hantu (Pengesahan Kedah)",
          "Pulau Teluk Senai (Pengesahan Kedah)",
          "Anak Pulau Puchong (Pengesahan Kedah)",
          "Pulau Puchong Laut (Pengesahan Kedah)",
          "Pulau Puchong",
          "Pulau Perak",
          "Pulau Bunting",
          "Pulau Bidan",
          "Pulau Telor",
          "Pulau Songsong",
          "Pulau Tukun Terendak",
          "Pulau Segantang A",
          "Pulau Segantang B",
          "Pulau Kacha (Upen)",
          "Pulau Paya (Upen)",
          "Pulau Lembu",
          "Pulau Sayak",
          "Pulau Kerengga",
          "Pulau Chupak",
          "Pulau Lading",
          "Pulau Balar",
          "Pulau Batang",
          "Pulau Dua Darat",
          "Pulau Dua Laut",
          "Anak Pulau Dua",
          "Pulau Ketumbu"
         ],
         "type": "scattermapbox"
        },
        {
         "hoverlabel": {
          "namelength": 0
         },
         "hovertemplate": "NEGERI=Kelantan<br>Nama=%{text}<br>LATITUD=%{lat}<br>LONGITUD=%{lon}",
         "lat": [
          6.234408332999999,
          6.198572222,
          6.198572222,
          6.199744443999999,
          6.199744443999999,
          6.192786111,
          6.203827778,
          6.203827778,
          6.200294444,
          6.214686111000001,
          6.189838889,
          6.212222222,
          6.213333333,
          6.207655556000001,
          6.215091667,
          6.154444444,
          6.134166667000001,
          6.192711111,
          6.197347222,
          6.196725,
          6.192347222,
          6.193208332999999,
          6.181102778,
          6.188061111000001,
          6.123611111000001,
          6.185555556000001,
          6.183611111,
          6.1788888889999996,
          6.181666667000001,
          6.166111111,
          6.161111111,
          6.198333333,
          6.1603925,
          6.186027778,
          6.195555556,
          6.22775,
          6.21,
          6.208944444,
          6.214972222
         ],
         "legendgroup": "NEGERI=Kelantan",
         "lon": [
          102.09715279999999,
          102.1869056,
          102.1869056,
          102.20214720000001,
          102.20214720000001,
          102.2060639,
          102.2147361,
          102.2147361,
          102.2269417,
          102.2125417,
          102.23065559999999,
          102.1669444,
          102.1719444,
          102.2310056,
          102.2289,
          102.3319444,
          102.3141667,
          102.2644028,
          102.2567306,
          102.2635194,
          102.2587639,
          102.25157220000001,
          102.29715279999999,
          102.2717722,
          102.30027779999999,
          102.295,
          102.3008889,
          102.305,
          102.31277779999999,
          102.3402778,
          102.3375,
          102.2694444,
          102.24010859999999,
          102.29575,
          102.26611109999999,
          102.0836944,
          102.17138890000001,
          102.1715556,
          102.1929722
         ],
         "marker": {
          "color": "#ab63fa"
         },
         "mode": "markers+text",
         "name": "NEGERI=Kelantan",
         "showlegend": true,
         "subplot": "mapbox",
         "text": [
          "Pulau Tengkorak",
          "Pulau Che Tahir",
          "Pulau Rulah",
          "Pulau Gagak",
          "Pulau Tok Fakir",
          "Pulau Besar",
          "Pulau Haji Nik Mat @ Pulau Seratus",
          "Pulau Beluru",
          "Pulau Renjuna",
          "Pulau Suri",
          "Pulau Raja Muda",
          "Pulau Kuala Udang",
          "Pulau Mas",
          "Pulau Dollah",
          "Pulau Pantai Kuda",
          "Pulau Gajah",
          "Pulau Seratus",
          "Pulau Pisang",
          "Pulau Kundur",
          "Pulau Haji Nik Hab",
          "Pulau Ekor Gajah",
          "Pulau Batang",
          "Pulau Panjang",
          "Pulau Pasir",
          "Pulau Earrer",
          "Pulau Che Nor",
          "Pulau Pak Amat",
          "Pulau Tukang Dollah",
          "Pulau Pelesit",
          "Pulau Bernal/Pulau Datok",
          "Pulau Layak",
          "Pulau Dato' Mufti",
          "Pulau Kambing",
          "Pulau Gorek",
          "Pulau Pegama",
          "Pulau Ular",
          "Pulau Bedar",
          "Pulau Layang-Layang",
          "Pulau Timun"
         ],
         "type": "scattermapbox"
        },
        {
         "hoverlabel": {
          "namelength": 0
         },
         "hovertemplate": "NEGERI=Labuan<br>Nama=%{text}<br>LATITUD=%{lat}<br>LONGITUD=%{lon}",
         "lat": [
          5.313611111,
          5.275611111,
          5.187630556,
          5.226427778,
          5.201144444,
          5.253488889,
          5.237558333,
          7.375055556
         ],
         "legendgroup": "NEGERI=Labuan",
         "lon": [
          115.22241670000001,
          115.313875,
          122.16416670000001,
          115.1283028,
          115.14678059999999,
          115.2699861,
          115.19101670000002,
          113.82961110000001
         ],
         "marker": {
          "color": "#FFA15A"
         },
         "mode": "markers+text",
         "name": "NEGERI=Labuan",
         "showlegend": true,
         "subplot": "mapbox",
         "text": [
          "Pulau Labuan",
          "Pulau Daat",
          "Pulau Rusukan Besar",
          "Pulau Karaman",
          "Pulau Rusukan Kechil",
          "Pulau Papan",
          "Pulau Burong",
          "Pulau Layang-Layang"
         ],
         "type": "scattermapbox"
        },
        {
         "hoverlabel": {
          "namelength": 0
         },
         "hovertemplate": "NEGERI=Melaka<br>Nama=%{text}<br>LATITUD=%{lat}<br>LONGITUD=%{lon}",
         "lat": [
          2.40275,
          2.4083055559999997,
          2.344166667,
          2.192775,
          2.1608416669999997,
          2.151802778,
          2.17975,
          2.082366667,
          2.079305556,
          2.073855556,
          2.1139722219999997,
          2.1209916669999997,
          2.11615,
          2.048091667,
          2.128830556,
          2.126213889
         ],
         "legendgroup": "NEGERI=Melaka",
         "lon": [
          101.85127779999999,
          101.859225,
          102.04386109999999,
          102.2031556,
          102.2600194,
          102.3177306,
          102.2513778,
          102.33206109999999,
          102.3052694,
          102.3340583,
          102.3279667,
          102.31503609999999,
          102.3406944,
          102.3337472,
          102.35858890000002,
          102.3491361
         ],
         "marker": {
          "color": "#19d3f3"
         },
         "mode": "markers+text",
         "name": "NEGERI=Melaka",
         "showlegend": true,
         "subplot": "mapbox",
         "text": [
          "Pulau Intan",
          "Pulau Masjid",
          "Pulau Konet",
          "Pulau Upeh",
          "Pulau Panjang",
          "Pulau Menatang",
          "Pulau Jawa",
          "Pulau Dodol",
          "Pulau Hanyut",
          "Pulau Nangka",
          "Pulau Besar",
          "Pulau Serimbun",
          "Pulau Lalang",
          "Pulau Undan",
          "Pulau Burung",
          "Pulau Anak Burung"
         ],
         "type": "scattermapbox"
        },
        {
         "hoverlabel": {
          "namelength": 0
         },
         "hovertemplate": "NEGERI=Negeri Sembilan<br>Nama=%{text}<br>LATITUD=%{lat}<br>LONGITUD=%{lon}",
         "lat": [
          2.515777778,
          2.547055556,
          2.492166667,
          2.507825,
          2.414055556,
          2.417222222,
          2.42125,
          2.4216666669999998,
          2.464138889,
          2.421361111
         ],
         "legendgroup": "NEGERI=Negeri Sembilan",
         "lon": [
          101.7905833,
          101.78563890000001,
          101.8274444,
          101.8263056,
          101.897,
          101.8840556,
          101.91802779999999,
          101.92330559999999,
          101.8406667,
          101.9103333
         ],
         "marker": {
          "color": "#FF6692"
         },
         "mode": "markers+text",
         "name": "NEGERI=Negeri Sembilan",
         "showlegend": true,
         "subplot": "mapbox",
         "text": [
          "Pulau Arang-Arang",
          "Pulau Burung Batu 2",
          "Pulau Burong",
          "Pulau Bagan Pinang",
          "Pulau Payong",
          "Pulau Pelandok",
          "Pulau Mengkudu",
          "Pulaui Tikus",
          "Pulau Terumbu",
          "Pulau Asam"
         ],
         "type": "scattermapbox"
        },
        {
         "hoverlabel": {
          "namelength": 0
         },
         "hovertemplate": "NEGERI=Pahang<br>Nama=%{text}<br>LATITUD=%{lat}<br>LONGITUD=%{lon}",
         "lat": [
          3.24495,
          3.513336111,
          3.519091667,
          3.515747222,
          3.515611111,
          3.5153611110000003,
          3.5098972219999998,
          2.66305,
          2.662461111,
          2.696025,
          2.678608333,
          2.769036111,
          2.9097861110000003,
          2.808577778,
          2.888111111,
          2.8971083330000003,
          2.9306666669999997,
          2.695713889,
          2.6846,
          2.779691667,
          2.778275,
          2.782433333,
          2.6644666669999997,
          2.670411111,
          2.685388889,
          2.698416667,
          2.748263889,
          2.75555,
          2.875472222,
          2.7916111110000004,
          4.054972222,
          4.055972222
         ],
         "legendgroup": "NEGERI=Pahang",
         "lon": [
          103.6564833,
          103.4583889,
          103.4690917,
          103.4464944,
          103.4422389,
          103.4358056,
          103.45302779999999,
          104.1662861,
          104.06345,
          103.88605,
          103.9186944,
          104.15386109999999,
          104.10816940000001,
          104.13497779999999,
          104.0660472,
          104.0508056,
          104.0986,
          103.9292889,
          103.902775,
          103.96105,
          103.9593111,
          103.9600806,
          103.75179720000001,
          103.7693972,
          103.74951109999999,
          103.73580559999999,
          103.5621167,
          103.5594444,
          104.14752779999999,
          104.1207222,
          103.4098056,
          103.40799999999999
         ],
         "marker": {
          "color": "#B6E880"
         },
         "mode": "markers+text",
         "name": "NEGERI=Pahang",
         "showlegend": true,
         "subplot": "mapbox",
         "text": [
          "Pulau Berhala",
          "Pulau Berembang",
          "Pulau Syed Hassan",
          "Pulau Kerengga",
          "Pulau Ular",
          "Pulau Beruas",
          "Pulau Lima Besar",
          "Pulau Jahat",
          "Pulau Tokong Bahara",
          "Pulau Sembilang",
          "Pulau Seri Buat",
          "Pulau Tioman",
          "Pulau Tulai Candang",
          "Pulau Rengis",
          "Pulau Labas",
          "Pulau Sepoi",
          "Pulau Ceben",
          "Pulau Tasu",
          "Pula Uraja",
          "Pulau Tokong Burung Tengah",
          "Pulau Tokong Burung Condong",
          "Pulau Tokong Burung Besar",
          "Pulau Tengah",
          "Pulau Aceh",
          "Pulau Tunus",
          "Pulau Layak",
          "Pulau Ducung Darat",
          "Pulau Ducung Laut",
          "Pulau Soyak",
          "Pulau Tumok",
          "Pulau Lang",
          "Pulau Ular"
         ],
         "type": "scattermapbox"
        },
        {
         "hoverlabel": {
          "namelength": 0
         },
         "hovertemplate": "NEGERI=Perak<br>Nama=%{text}<br>LATITUD=%{lat}<br>LONGITUD=%{lon}",
         "lat": [
          4.061166667,
          4.058388889,
          4.029166667,
          4.007916667,
          4.005083333,
          3.995444444,
          3.977583333,
          4.19575,
          4.0738222219999995,
          4.127416667,
          4.207472222,
          4.267194443999999,
          4.2289722219999994,
          4.228333333,
          4.191805556,
          4.420305556000001,
          4.236083333,
          4.156611111,
          4.272111111,
          4.2673611110000005,
          4.186166667,
          4.067388889,
          4.185638889,
          4.011416667,
          4.010916667,
          4.706805556,
          4.599833333,
          4.842861111,
          4.8105,
          4.9245,
          4.891,
          4.876138889
         ],
         "legendgroup": "NEGERI=Perak",
         "lon": [
          100.5753611,
          100.5414722,
          100.5481944,
          100.5350833,
          100.5463333,
          100.5326944,
          100.0970833,
          100.5796389,
          100.58498890000001,
          100.56011109999999,
          100.5458611,
          100.53575,
          100.5331667,
          100.55725,
          100.5431944,
          100.5756944,
          100.54025,
          100.61922220000001,
          100.53325,
          100.5408056,
          100.5373333,
          100.5783056,
          100.5395833,
          100.5435556,
          100.53525,
          100.60436109999999,
          100.6186944,
          100.56755559999999,
          100.59575,
          100.49927779999999,
          100.5051111,
          100.5788333
         ],
         "marker": {
          "color": "#FF97FF"
         },
         "mode": "markers+text",
         "name": "NEGERI=Perak",
         "showlegend": true,
         "subplot": "mapbox",
         "text": [
          "Pulau Nyamuk",
          "Pulau Nipis",
          "Pulau Rumbia",
          "Pulau Saga",
          "Pulau Lalang",
          "Pulau Boloh",
          "Pulau Jarak",
          "Pulau Landak",
          "Pulau Agas",
          "Pulau Tukun Perak",
          "Pulau Simpan",
          "Pulau Anak Pelanduk",
          "Pulau Mentagor",
          "Pulau Pangkor",
          "Pulau Pangkor Laut",
          "Pulau Talang",
          "Pulau Giam",
          "Pulau Katak",
          "Pulau Tukun Terindak",
          "Pulau Pelandok",
          "Pulau Dua Besar",
          "Pulau Rusa",
          "Pulau Dua Kecil",
          "Pulau Lalang",
          "Pulau Payung",
          "Pulau Terung",
          "Pulau Pasir Hitam",
          "Pulau Sangga Kechil",
          "Pulau Sangga Besar",
          "Pulau Gula",
          "Pulau Kelumpang",
          "Pulau Selinsing"
         ],
         "type": "scattermapbox"
        },
        {
         "hoverlabel": {
          "namelength": 0
         },
         "hovertemplate": "NEGERI=Perlis<br>Nama=%{text}<br>LATITUD=%{lat}<br>LONGITUD=%{lon}",
         "lat": [
          6.3395
         ],
         "legendgroup": "NEGERI=Perlis",
         "lon": [
          100.1415
         ],
         "marker": {
          "color": "#FECB52"
         },
         "mode": "markers+text",
         "name": "NEGERI=Perlis",
         "showlegend": true,
         "subplot": "mapbox",
         "text": [
          "Batu Layang"
         ],
         "type": "scattermapbox"
        },
        {
         "hoverlabel": {
          "namelength": 0
         },
         "hovertemplate": "NEGERI=Pulau Pinang<br>Nama=%{text}<br>LATITUD=%{lat}<br>LONGITUD=%{lon}",
         "lat": [
          5.385183056,
          5.321577778,
          5.247833333,
          5.232194444,
          5.315861111,
          5.314808333,
          5.467738889,
          5.476361111,
          5.364347222,
          5.278972222,
          5.264833333,
          5.262355556
         ],
         "legendgroup": "NEGERI=Pulau Pinang",
         "lon": [
          100.2516311,
          100.31798609999998,
          100.27297220000001,
          100.179,
          100.18375,
          100.1858611,
          100.23535,
          100.29722220000001,
          100.3262833,
          100.3878056,
          100.38972220000001,
          100.40630829999999
         ],
         "marker": {
          "color": "#636efa"
         },
         "mode": "markers+text",
         "name": "NEGERI=Pulau Pinang",
         "showlegend": true,
         "subplot": "mapbox",
         "text": [
          "Pulau Pinang",
          "Pulau Jerejak",
          "Pulau Rimau",
          "Pulau Kendi",
          "Pulau Betong",
          "Pulau Betung Kecil",
          "Pulau Asmara",
          "Pulau Tikus",
          "Pulau Asrama",
          "Pulau Betong Kecil",
          "Pulau Aman",
          "Pulau Bakau"
         ],
         "type": "scattermapbox"
        },
        {
         "hoverlabel": {
          "namelength": 0
         },
         "hovertemplate": "NEGERI=Selangor<br>Nama=%{text}<br>LATITUD=%{lat}<br>LONGITUD=%{lon}",
         "lat": [
          3.035803056,
          2.9943736110000003,
          2.9436844439999996,
          2.916969444,
          2.943899722,
          2.971683333,
          3.015452222,
          2.9444111110000004,
          2.976161111,
          3.016697222,
          2.962411111,
          2.870972222,
          3.225285,
          3.2233333330000002,
          3.2174166669999997,
          3.1839999999999997,
          3.2033333330000002,
          3.1863333330000003
         ],
         "legendgroup": "NEGERI=Selangor",
         "lon": [
          101.24923390000001,
          101.23738890000001,
          101.2441056,
          101.24596329999999,
          101.27857390000001,
          101.2902753,
          101.3045444,
          101.3290872,
          101.3761833,
          101.2685633,
          101.2760806,
          101.3661111,
          101.27582779999999,
          101.2762222,
          101.2821389,
          101.2184167,
          101.2738889,
          101.2175
         ],
         "marker": {
          "color": "#EF553B"
         },
         "mode": "markers+text",
         "name": "NEGERI=Selangor",
         "showlegend": true,
         "subplot": "mapbox",
         "text": [
          "Pulau Ketam",
          "Pulau Tengah",
          "Pulau Selat Kering",
          "Pulau Pintu Gedong",
          "Pulau Che Mat Zin",
          "Pulau Mahang",
          "Pulau Klang",
          "Pulau Indah",
          "Pulau Tonggok",
          "Pulau Rusa",
          "Pulau Selat Meriam",
          "Pulau Carey",
          "Pulau Anak Angsa",
          "Pulau Besar",
          "Pulau Jemor",
          "Pulau Selatan",
          "Pulau Terukor",
          "Pulau Angsa"
         ],
         "type": "scattermapbox"
        },
        {
         "hoverlabel": {
          "namelength": 0
         },
         "hovertemplate": "NEGERI=Sarawak<br>Nama=%{text}<br>LATITUD=%{lat}<br>LONGITUD=%{lon}",
         "lat": [
          1.9167,
          1.892808333,
          1.7342472219999998,
          1.670413889,
          1.783569444,
          1.7578111109999999,
          1.753072222,
          1.733786111,
          1.973205556,
          1.961388889,
          1.6813472219999999,
          1.7931555559999999,
          1.703844444,
          1.750177778,
          1.9361694440000001,
          1.945461111,
          1.938786111,
          1.984266667,
          1.737425,
          1.6833277780000002,
          1.984266667,
          1.737425,
          1.6833277780000002,
          1.636369444,
          1.5194833330000002,
          2.632672222,
          2.7505916669999997,
          4.867716667,
          4.849822222,
          4.845544444,
          4.987694444,
          4.959311111,
          4.968138889,
          4.967,
          4.968083333,
          4.968555556,
          4.990608333,
          4.915277778,
          4.914138889,
          4.920555556,
          4.920416667,
          4.919225,
          4.914166667,
          4.906833333,
          4.90825,
          4.89225
         ],
         "legendgroup": "NEGERI=Sarawak",
         "lon": [
          109.7780111,
          109.76872220000001,
          110.08970559999999,
          110.29541670000002,
          110.16503059999998,
          110.1658361,
          110.1909222,
          110.1916528,
          109.6710972,
          109.65541110000001,
          110.28850829999999,
          109.79246940000002,
          110.30576940000002,
          110.49583329999999,
          109.6566778,
          109.65785,
          109.65739170000002,
          109.6647389,
          109.87004170000002,
          110.422475,
          109.6647389,
          109.87004170000002,
          110.422475,
          110.8051139,
          110.9855222,
          111.322775,
          111.3952639,
          114.99691940000001,
          115.00515279999999,
          114.9874111,
          115.18963889999999,
          115.18545,
          115.185,
          115.1905,
          115.1946389,
          115.20491670000001,
          115.18611670000001,
          115.23730559999998,
          115.2397778,
          115.24575,
          115.24694440000002,
          115.24969440000001,
          115.27708329999999,
          115.2948611,
          115.3238889,
          115.32808329999999
         ],
         "marker": {
          "color": "#00cc96"
         },
         "mode": "markers+text",
         "name": "NEGERI=Sarawak",
         "showlegend": true,
         "subplot": "mapbox",
         "text": [
          "Pulau Talang-Talang Besar",
          "Pulau Talang-Talang Kecil",
          "Pulau Sampadi",
          "Pulau Lakei",
          "Pulau Salak",
          "Pulau Satang Besar",
          "Pulau Satang kecil",
          "Pulau Tukong Ara",
          "Pulau Tukong Banun",
          "Pulau Gador",
          "Pulau Datu",
          "Pulau Kalasah",
          "Pulau Perongan",
          "Pulau Kera",
          "Pulau Badar",
          "Pulau Kerengga Kecil",
          "Pulau Kerengga Besar",
          "Pulau Kerah",
          "Pulau Burong",
          "Pulau Pancur",
          "Pulau Tg Rhu",
          "Pulau Teluk Nibong",
          "Pulau Teluk Mengkuang",
          "Pulau Burong",
          "Pulau Triso",
          "Pulau Bruit",
          "Pulau Patok",
          "Pulau Limpaku Pinang",
          "Pulau Umpul-Umpul",
          "Pulau Jai-Jai",
          "Pulau Alang Damit",
          "Pulau Alang",
          "Pulau Alang Besar",
          "Pulau Kenawai Besar",
          "Pulau Kenawai Damit",
          "Pulau Kenawai Baru",
          "Pulau Gusu",
          "Pulau Langari",
          "Pulau Payau",
          "Pulau Bumbun",
          "Pulau Paluan",
          "Pulau Lengari",
          "Pulau Pelait Kecil",
          "Pulau Perapat",
          "Pulau Perapat Siang-Siang",
          "Pulau Menggoreng"
         ],
         "type": "scattermapbox"
        },
        {
         "hoverlabel": {
          "namelength": 0
         },
         "hovertemplate": "NEGERI=Sabah<br>Nama=%{text}<br>LATITUD=%{lat}<br>LONGITUD=%{lon}",
         "lat": [
          5.313888888999999,
          5.304555239,
          5.388895378,
          5.283884003,
          5.2884004330000005,
          5.285186931,
          5.726111111,
          5.750833332999999,
          5.846944444,
          5.776155439,
          5.834702534,
          5.843247538,
          5.8377777779999995,
          6.0675,
          5.813333332999999,
          5.975696052999999,
          5.959662506,
          5.96661267,
          6.009264979,
          6.013294012999999,
          6.079694239,
          6.087269459,
          6.084444444,
          6.201111111,
          6.019166667,
          6.711944443999999,
          6.306727747,
          6.350871217999999,
          6.396638203999999,
          6.537118303,
          6.709444444,
          6.715833333,
          7.010833333,
          7.048055556,
          6.823611111,
          7.266666667000001,
          7.205555556,
          7.075277777999999,
          7.085833332999999,
          7.104166667,
          7.129166667000001,
          7.164166667000001,
          7.1625,
          7.227222222000001,
          7.201944444,
          7.267222222000001,
          7.296666667,
          7.235555556,
          7.321666667000001,
          7.336111111,
          7.341944444,
          7.365555556,
          7.341111111,
          7.369722222,
          6.930833333,
          7.051944444,
          6.977777777999999,
          6.890555556,
          7.09,
          6.973055556,
          6.978888888999999,
          6.935833333,
          6.6675,
          6.83,
          6.808055556,
          6.794166667000001,
          6.779722222,
          6.8713888889999994,
          7.197222222000001,
          7.275833333,
          7.2808333329999995,
          7.279722222,
          7.300277778,
          7.259444444,
          7.262222222,
          7.316548952000001,
          7.237735464,
          7.07511171,
          7.225840596,
          6.65166912,
          6.699926896,
          7.285412124,
          7.277896586000001,
          7.277214324,
          7.2640554999999996,
          7.259831872,
          7.23795703,
          7.236206331,
          5.8735621170000005,
          7.21375181,
          6.856243436000001,
          7.0732646720000005,
          7.079732206,
          7.088192697999999,
          7.087555867000001,
          7.086718551000001,
          7.09928993,
          7.141885116,
          7.183478732999999,
          7.179234059,
          7.184775709,
          6.9301176479999995,
          7.074800914,
          7.070746584,
          7.082642879,
          7.072920956,
          6.970472039,
          6.805645482999999,
          6.784262955,
          7.245258333,
          6.580833332999999,
          6.602752764,
          6.587519935,
          6.576231363,
          6.575386067,
          6.576081192999999,
          6.575117839,
          6.563746342999999,
          6.567704673,
          6.608507955,
          6.563602951,
          6.565377584,
          6.581388888999999,
          6.582222222,
          6.603888888999999,
          6.507222222,
          6.530555556,
          6.550277778,
          6.0252777779999995,
          6.016666667000001,
          5.989166667,
          6.612222222000001,
          6.243888889,
          6.043333333,
          6.220277778,
          6.181388889,
          6.0372222220000005,
          6.0363888889999995,
          6.615833332999999,
          6.6175,
          6.61,
          6.6172222220000005,
          6.564444443999999,
          6.607222222000001,
          6.6275,
          6.628888889,
          6.6280555560000005,
          6.628333333,
          6.561388889,
          6.560555556000001,
          6.558333332999999,
          6.556666667000001,
          6.6875,
          6.016944444,
          6.019722222,
          6.017222222000001,
          6.015,
          6.181666667000001,
          6.618888889,
          6.663529625,
          6.611386129,
          6.610394512,
          6.610323682000001,
          6.610196188,
          6.608963746000001,
          6.611003649,
          6.621812157000001,
          6.605454953,
          6.579166667000001,
          6.069444444,
          6.083055556000001,
          6.115555556,
          6.126666667,
          6.149166667,
          6.175277778,
          6.166666667,
          5.92,
          5.903611111,
          5.865,
          5.773888889,
          5.7725,
          5.756666667,
          5.781111111,
          5.779444444,
          5.7577777779999995,
          5.766111111,
          5.75,
          5.748333333,
          5.746666667,
          5.739166667,
          5.706666667,
          6.033055556,
          6.019722222,
          6.026666667000001,
          6.0275,
          5.788888889,
          5.819166667,
          5.755833332999999,
          5.791666667,
          5.7863888889999995,
          5.805833333,
          5.804444444,
          5.806111111,
          5.806388889,
          5.775,
          5.761666667,
          5.765833333,
          5.7275,
          5.691666667000001,
          5.7069444439999995,
          5.683333332999999,
          5.725277778,
          5.475833333,
          6.060366666,
          6.017101482999999,
          5.72172674,
          5.722199731,
          5.709547089,
          5.702925034,
          5.792806744,
          5.735555436,
          5.813333332999999,
          5.683588375,
          5.925,
          5.39,
          5.233611111,
          5.245,
          4.966666667,
          4.9236111110000005,
          4.947222222,
          4.9405555560000005,
          4.9375,
          4.928333333,
          4.925833333,
          4.797222222,
          4.763611111,
          4.981666667,
          4.981111111000001,
          4.9925,
          4.970277778,
          4.975,
          4.976944444,
          4.969722222,
          4.966388889,
          4.9675,
          4.949444444,
          4.950833333,
          4.967222222,
          4.932222222,
          4.9236111110000005,
          4.925555556,
          4.927222222,
          4.910277778,
          4.903888889,
          4.851944444,
          4.838888889,
          5.451944444,
          4.927222222,
          4.9729327880000005,
          4.990238173,
          4.984880458,
          4.988432158999999,
          4.98168391,
          4.954378199,
          4.953697422,
          4.950648719,
          4.948754372,
          4.948369582,
          4.94638643,
          4.7702777780000005,
          4.788888889,
          4.803611111,
          4.7863888889999995,
          4.773333333,
          4.765833333,
          4.736388889,
          4.7275,
          4.819166667,
          4.7,
          4.687777778,
          4.7136111110000005,
          4.680555556,
          4.662777778,
          4.584444444,
          4.588888889,
          4.590555556,
          4.597222222,
          4.573333333,
          4.593333333,
          4.55,
          4.573888889,
          4.562222222,
          4.535,
          4.5138888889999995,
          4.640555556,
          4.670833333,
          4.7466666669999995,
          4.761944444,
          4.761388889,
          4.7533333330000005,
          4.6511111110000005,
          4.5597222219999995,
          4.6047222219999995,
          4.598055556,
          4.618333333,
          4.599722222,
          4.635,
          4.482222222,
          4.4741666669999995,
          4.370277778,
          4.358611111,
          4.341944444,
          4.3875,
          4.423888889,
          4.315,
          4.498055556000001,
          4.486944444,
          4.596111111,
          4.579166667,
          4.554444444,
          4.527777778,
          4.47,
          4.576111111,
          4.59,
          4.246111111,
          4.115277778,
          4.308055556,
          4.313611111,
          4.165277778,
          4.317222222,
          4.643055556,
          4.640555556,
          4.6280555560000005,
          4.6075,
          4.609722222,
          4.602777778,
          4.600833333,
          4.516111111,
          4.513611111,
          4.5675,
          4.5652777780000005,
          4.56,
          4.4625,
          4.4630555560000005,
          4.4913888889999996,
          4.491666667,
          4.494444444,
          4.493888889,
          4.490277778,
          4.488055556,
          4.633333333,
          4.217450422,
          4.580503482,
          4.474264081,
          4.487162253,
          4.5597222219999995,
          4.473195815,
          4.562777778,
          4.193333333,
          4.260555556,
          4.421666667,
          4.194722222,
          4.220277778,
          4.277222222,
          4.3091666669999995,
          4.346388889,
          4.3555555560000005,
          4.403055556,
          4.4113888889999995,
          4.410555556,
          4.1736921989999995,
          4.201947978,
          4.210813255,
          4.397134205,
          4.411009057,
          4.331111111,
          6.790277777999999,
          6.8155555560000005,
          6.6733333329999995,
          6.646666667000001,
          6.824722222,
          6.83,
          6.663459765,
          6.662268794,
          6.657378457,
          6.86438328,
          6.645588735,
          6.790277777999999,
          5.8735621170000005,
          5.4642538720000005,
          5.454884452000001,
          5.244444444,
          5.8725
         ],
         "legendgroup": "NEGERI=Sabah",
         "lon": [
          115.3844444,
          115.38011259999999,
          115.3587321,
          115.35522179999998,
          115.3515747,
          115.35277250000001,
          115.64944440000001,
          115.67416670000001,
          115.9905556,
          115.8888683,
          116.0068746,
          115.9889568,
          116.0127778,
          116.0727778,
          118.1552778,
          116.0018862,
          115.99294040000001,
          116.0137221,
          116.00569890000001,
          116.07010290000001,
          116.08821709999998,
          116.0962682,
          116.0936111,
          115.5938889,
          116.02722220000001,
          116.35055559999999,
          116.30978,
          116.30895100000001,
          116.3352848,
          116.4932183,
          116.31194440000002,
          116.33583329999999,
          116.72805559999999,
          116.74944440000002,
          116.86583329999999,
          116.93333329999999,
          116.8438889,
          117.02694440000002,
          117.05,
          117.09055559999999,
          117.10027779999999,
          117.1536111,
          117.17305559999998,
          117.3047222,
          117.3252778,
          117.33972220000001,
          117.29166670000001,
          117.33722220000001,
          117.32055559999999,
          117.3297222,
          117.35194440000001,
          117.2025,
          117.04805559999998,
          117.32777779999999,
          117.3325,
          117.30583329999999,
          117.1988889,
          117.47166670000001,
          117.4761111,
          117.46,
          117.49611110000001,
          117.4652778,
          117.29555559999999,
          117.27055559999998,
          117.2588889,
          117.3175,
          117.50277779999999,
          116.79666670000002,
          117.3336111,
          117.2861111,
          117.2888889,
          117.29166670000001,
          117.2813889,
          117.31333329999998,
          117.30972220000001,
          117.31453799999998,
          117.28902269999999,
          117.3121075,
          117.3294662,
          116.571331,
          116.62898159999999,
          117.2834221,
          117.26250870000001,
          117.2612897,
          117.30243300000001,
          117.3058119,
          117.28007609999999,
          117.28632179999998,
          116.04741259999999,
          117.24228559999999,
          116.85859599999999,
          117.02153340000001,
          117.0203545,
          117.0364335,
          117.0323098,
          117.0306104,
          117.08815859999999,
          117.13724930000001,
          117.2020616,
          117.214005,
          117.22672079999998,
          117.40640970000001,
          117.313029,
          117.300574,
          117.2768227,
          117.25989409999998,
          117.26655670000001,
          117.3517712,
          117.45812099999999,
          117.15208059999999,
          116.76055559999999,
          116.7586453,
          116.76288000000001,
          116.7840834,
          116.78658859999999,
          116.82250390000002,
          116.82649690000001,
          116.8122551,
          116.7998191,
          116.8593512,
          116.79755320000001,
          116.82654840000002,
          116.76472220000001,
          116.77138889999999,
          117.40111110000001,
          117.9177778,
          117.68805559999998,
          117.7186111,
          117.7125,
          117.7002778,
          117.70083329999999,
          117.7675,
          117.72666670000001,
          117.6952778,
          117.6472222,
          117.59666670000001,
          117.79833329999998,
          117.815,
          117.32583329999999,
          117.3577778,
          117.36194440000001,
          117.35361110000001,
          117.36027779999999,
          117.37777779999999,
          117.38555559999999,
          117.38555559999999,
          117.3875,
          117.39833329999999,
          117.4213889,
          117.42305559999998,
          117.44555559999999,
          117.45444440000001,
          117.43333329999999,
          117.71555559999999,
          117.70416670000002,
          117.7086111,
          117.70833329999999,
          117.59666670000001,
          117.3625,
          117.44936570000002,
          117.3042142,
          117.30472759999998,
          117.30592549999999,
          117.30740870000001,
          117.3083071,
          117.302945,
          117.31831340000001,
          117.3789886,
          117.40194440000002,
          117.96333329999999,
          117.99805559999999,
          118.0211111,
          118.0266667,
          118.05277779999999,
          118.06055559999999,
          118.10972220000001,
          118.10972220000001,
          118.09916670000001,
          118.145,
          118.10472220000001,
          118.085,
          118.02055559999998,
          118.0225,
          118.02333329999999,
          117.97444440000001,
          117.94055559999998,
          117.88333329999999,
          118.135,
          117.91555559999999,
          118.09333329999998,
          118.13166670000001,
          117.94861110000001,
          117.93944440000001,
          117.95277779999999,
          117.95166670000002,
          118.1516667,
          117.90305559999999,
          117.92555559999998,
          117.975,
          117.99027779999999,
          117.97583329999999,
          117.9661111,
          117.9563889,
          117.9575,
          117.9488889,
          117.875,
          117.905,
          118.11444440000001,
          118.075,
          118.1175,
          118.14166670000002,
          118.10722220000001,
          118.8047222,
          118.01266499999998,
          117.9355311,
          118.11321720000001,
          118.10376950000001,
          118.09919409999999,
          118.11660420000001,
          117.91524070000001,
          117.9595165,
          118.1552778,
          117.94150829999998,
          117.64444440000001,
          118.9272222,
          119.2661111,
          119.25972220000001,
          118.33333329999999,
          118.26694440000001,
          118.25416670000001,
          118.21083329999999,
          118.22083329999998,
          118.2327778,
          118.20222220000001,
          118.3844444,
          118.38722220000001,
          118.36916670000001,
          118.365,
          118.33055559999998,
          118.315,
          118.31833329999999,
          118.31166670000002,
          118.2875,
          118.2875,
          118.3075,
          118.30722220000001,
          118.3288889,
          118.23555559999998,
          118.22805559999999,
          118.24,
          118.2372222,
          118.1969444,
          118.17333329999998,
          118.1711111,
          118.1272222,
          118.1688889,
          119.12222220000001,
          118.1852778,
          118.3476764,
          118.3476544,
          118.31815459999999,
          118.31405459999999,
          118.29082140000001,
          118.29884309999998,
          118.296704,
          118.29492140000002,
          118.32219520000001,
          118.3095387,
          118.298754,
          118.23583329999998,
          118.29083329999999,
          118.31333329999998,
          118.30916670000002,
          118.30444440000001,
          118.30833329999999,
          118.2141667,
          118.23,
          118.27972220000001,
          118.4,
          118.41944440000002,
          118.4597222,
          118.54,
          118.5425,
          118.51944440000001,
          118.51555559999998,
          118.50583329999999,
          118.52083329999999,
          118.5022222,
          118.4875,
          118.55,
          118.57916670000002,
          118.60416670000001,
          118.49194440000001,
          118.4788889,
          118.3472222,
          118.37694440000001,
          118.51694440000001,
          118.47805559999999,
          118.48666670000001,
          118.4911111,
          118.65805559999998,
          118.6638889,
          118.68722220000001,
          118.72027779999999,
          118.7363889,
          118.78444440000001,
          118.7927778,
          118.7163889,
          118.66027779999999,
          118.60083329999999,
          118.58972220000001,
          118.5672222,
          118.65666670000002,
          118.7613889,
          118.5463889,
          118.59888889999999,
          118.69194440000001,
          118.86444440000001,
          118.91611110000001,
          118.92277779999999,
          118.8483333,
          118.9338889,
          118.9491667,
          118.94555559999999,
          118.63166670000001,
          118.6286111,
          118.8577778,
          118.87194440000002,
          118.8811111,
          118.45555559999998,
          118.33083329999998,
          118.3472222,
          118.42666670000001,
          118.5336111,
          118.53638889999999,
          118.5625,
          118.5647222,
          118.5852778,
          118.59055559999999,
          118.56916670000001,
          118.56583329999998,
          118.5588889,
          118.63694440000002,
          118.63611110000001,
          118.6736111,
          118.6761111,
          118.67638889999999,
          118.67916670000001,
          118.68305559999999,
          118.68444440000002,
          118.46666670000002,
          118.70143689999999,
          118.46553020000002,
          118.62740359999998,
          118.68670790000002,
          118.6638889,
          118.62096059999999,
          118.5625,
          117.63555559999999,
          117.63416670000001,
          117.6625,
          117.62833329999998,
          117.52583329999999,
          117.60555559999999,
          117.6286111,
          117.62194440000002,
          117.6022222,
          117.59583329999998,
          117.6088889,
          117.65,
          117.60737820000001,
          117.5585112,
          117.7365571,
          117.63084909999999,
          117.6373629,
          118.34333329999998,
          117.25277779999999,
          117.2638889,
          117.2811111,
          117.2927778,
          117.02305559999999,
          117.02916670000002,
          117.2914367,
          117.28761999999999,
          117.2869683,
          117.55703100000001,
          117.281425,
          117.25277779999999,
          116.04741259999999,
          118.8009772,
          118.80047809999999,
          119.26583329999998,
          116.0413889
         ],
         "marker": {
          "color": "#ab63fa"
         },
         "mode": "markers+text",
         "name": "NEGERI=Sabah",
         "showlegend": true,
         "subplot": "mapbox",
         "text": [
          "Pulau Tanah Panggal",
          "Pulau Sinuan",
          "Pulau Lumbidan",
          "Pulau Malankassan",
          "Pulau Balangkasan 1",
          "Pulau Balangkasan",
          "Pulau Tiga",
          "Pulau Kalampunian Besar",
          "Pulau Dinawan",
          "Pulau Layang",
          "Pulau Ampak Ampak",
          "Pulau Dinawan Kecil",
          "Pulau Mantukud",
          "Pulau Sepangar",
          "Pulau Peduk",
          "Pulau Manukan",
          "Pulau Sulug",
          "Pulau Mamutik",
          "Pulau Sapi (Sinjatan)",
          "Pulau Plompang",
          "Pulau Udar Besar",
          "Pulau Peduk",
          "Pulau Udar Kecil",
          "Pulau Mabgalum",
          "Pulau Gaya",
          "Pulau Mantanani Besar",
          "Pulau Egot",
          "Pulau Pandan Pandan",
          "Pulau Usukan",
          "Pulau Keramat",
          "Pulau Mantanani Kecil",
          "Pulau Lungisan",
          "Pulau Tanjung Tiga Papan",
          "Pulau Kalampunian",
          "Pulau Limau Limawan",
          "Pulau Balambangan",
          "Pulau Kalutan",
          "Pulau Molleangan Kecil",
          "Pulau Molleangan Besar",
          "Pulau Patanunam",
          "Pulau Pagassan",
          "Pulau Laksiang",
          "Pulau Panukaran",
          "Pulau Bankawan",
          "Pulau Bilang Bilangan Kechil",
          "Pulau Latoan",
          "Pulau Tagajawan",
          "Pulau Sungur",
          "Pulau Malundang Kechil",
          "Pulau Malundagan Besar",
          "Pulau Kankamat",
          "Pulau Daunan",
          "Pulau Tiga",
          "Pulau Guhuan Selatan",
          "Pulau Mandidarah",
          "Pulau Malawali",
          "Pulau Silk",
          "Pulau Tigabu",
          "Pulau Straggler",
          "Pulau Tambulian",
          "Pulau Buwaning",
          "Pulau Tibakan",
          "Pulau Merigi",
          "Pulau Musa",
          "Pulau Sinamgil",
          "Pulau Bush",
          "Pulau Kalangaan",
          "Pulau Batu Putih",
          "Pulau Lingkutan",
          "Pulau Natron",
          "Pulau Asan",
          "Pulau Saripatal",
          "Pulau Arshad",
          "Pulau Halun",
          "Pulau Dicky",
          "Pulau Patawan",
          "Pulau Kambul 1",
          "Pulau Tapukan",
          "Pulau Sibongor Laut",
          "Pulau Silad",
          "Pulau Batu Laya Laya",
          "Pulau Kadir",
          "Pulau Tagas Kecil",
          "Pulau Tagas Besar",
          "Pulau Naz",
          "Pulau Nat",
          "Pulau Manulah",
          "Pulau Kambal 1",
          "Pulau Meruntum",
          "Pulau Maligu",
          "Pulau Puru Puru",
          "Pulau Meriangan",
          "Pulau Lipang Kecil",
          "Pulau Pak Diki",
          "Pulau Lipang",
          "Pulau Pak Diki Kecil",
          "Pulau Patanunam Kecil",
          "Pulau Balak",
          "Pulau Sauyan",
          "Pulau Madusian Kecil",
          "Pulau Tanjung Perak",
          "Pulau Kukuban",
          "Pulau Lok Manovali",
          "Pulau Hutan Rimba",
          "Pulau Tanjung",
          "Pulau Mati",
          "Pulau Lingisan",
          "Pulau Landayang",
          "Pulau Mabahok",
          "Pulau Banggi",
          "Pulau Bintongan",
          "Pulau Jumat",
          "Pulau Tanjung Bandau (Totong Sepi)",
          "Pulau Sisid",
          "Pulau Bingkawat",
          "Pulau Muara Tandek",
          "Pulau Serampangan",
          "Pulau Muara Ongkilan",
          "Pulau Bongon",
          "Pulau Tokong Soko",
          "Pulau Muara Bongan",
          "Pulau Bodi Serampangan",
          "Pulau Muara Tambun",
          "Pulau Terusan",
          "Pulau Tiga Puluh",
          "Pulau Lankayan",
          "Pulau Bankuran",
          "Pulau Tegipil",
          "Pulau Linkabo",
          "Pulau Tetabuan",
          "Pulau Kanawi",
          "Pulau Billean",
          "Pulau Puru-Puru",
          "Pulau Torongohok",
          "Pulau Kaniogan",
          "Pulau Panandawan",
          "Pulau Gusong",
          "Pulau Obor-Obor",
          "Pulau Maidan Kecil",
          "Pulau Kaindangan Kecil",
          "Pulau Kaindangan Darat",
          "Pulau Kaindangan Besar",
          "Pulau Maidan Dalam",
          "Pulau Tataba Darat",
          "Pulau Guntor Kecil",
          "Pulau Guntor Besar",
          "Pulau Guntor Darat",
          "Pulau Guntor Dalam",
          "Pulau Tangkunid Satu",
          "Pulau Tangkunid Dua",
          "Pulau Lidah Satu",
          "Pulau Lidah Dua",
          "Pulau Liapan",
          "Pulau Lingkabo Kecil",
          "Pulau Tetabuan Kecil",
          "Pulau Kanawi Kecil",
          "Pulau Kanawi Darat",
          "Pulau Penandawan Kecil",
          "Pulau Kaindangan",
          "Pulau Jambongan",
          "Pulau Mapat Satu",
          "Pulau Mapat Dua",
          "Pulau Mapat Tiga",
          "Pulau Mapat Empat",
          "Pulau Mapat Lima",
          "Pulau Mapat",
          "Pulau Maidan",
          "Pulau Tataba Darat Kecil",
          "Pulau Panabukan",
          "Pulau Tikus",
          "Pulau Kawan",
          "Pulau Libaran",
          "Pulau Libaran 2",
          "Pulau Gulisaan",
          "Pulau Silingaan",
          "Pulau Bakkugaan Kecil",
          "Pulau Nunuyan Laut",
          "Pulau Nunuyan Darat",
          "Pulau Berhala",
          "Pulau Bai",
          "Pulau Palak",
          "Pulau Sangai",
          "Pulau Tiong Kecil",
          "Pulau Tiong Kecil 2",
          "Pulau Timbang",
          "Pulau Mangkalai Darat",
          "Pulau Pakil",
          "Pulau Tigowis",
          "Pulau Puru-Puru",
          "Pulau Keramuk",
          "Pulau Papahan",
          "Pulau Menangin Laut",
          "Pulau Banting Besar",
          "Pulau Menangin Kecil",
          "Pulau Menangin Besar",
          "Pulau Semangat",
          "Pulau Keratang",
          "Pulau Paki Kecil",
          "Pulau Orang Tua",
          "Pulau Saleng",
          "Pulau Arang Laut",
          "Pulau Luku",
          "Pulau Pandan",
          "Pulau Buli",
          "Pulau Pawang",
          "Pulau Rotan",
          "Pulau Bode Besar",
          "Pulau Lubukan Kecil",
          "Pulau Silah",
          "Pulau Madang Kecil",
          "Pulau Marapulut",
          "Pulau Silogong Kecil",
          "Pulau Pakil Kecil",
          "Pulau Pendaras",
          "Pulau Banting Kecil",
          "Pulau Lubukan",
          "Pulau Silogong",
          "Pulau Sapagaya Kecil",
          "Pulau Madang",
          "Pulau Kabili",
          "Pulau Mangkalai Laut",
          "Pulau Duyung",
          "Pulau Masang",
          "Pulau Solok",
          "Pulau Evans",
          "Pulau Timur 1",
          "Pulau Timur 2",
          "Pulau Timur 3",
          "Pulau Kalungan",
          "Pulau Katung Kalungan",
          "Pulau Baik",
          "Pulau Saga",
          "Pulau Saddle",
          "Pulau Laila",
          "Pulau Saranga",
          "Pulau Tabawan",
          "Pulau Tengah Kecil",
          "Pulau Tengah Besar",
          "Pulau Balundong",
          "Pulau Panabag Besar",
          "Pulau Panabag",
          "Pulau Ambau",
          "Pulau Emas",
          "Pulau Giung",
          "Pulau Nunuk",
          "Pulau Pak Usop",
          "Pulau Buang Diri",
          "Pulau Parapat",
          "Pulau Malanta",
          "Pulau Anjan",
          "Pulau Kulungan Besar",
          "Pulau Kulungan Kecil",
          "Pulau Bud-Bud",
          "Pulau Malampayau Anak",
          "Pulau Malampayau",
          "Pulau Lumpur",
          "Pulau Labatan",
          "Pulau Tabun",
          "Pulau Sakar",
          "Pulau Pok Pok",
          "Pulau Sibadju",
          "Pulau Giam",
          "Pulau Keramat Giung",
          "Pulau Adjail",
          "Pulau Balani",
          "Pulau Balani",
          "Pulau Buang Diri",
          "Pulau Pak Karim",
          "Pulau Kalungan",
          "Pulau Tambisan",
          "Pulau Tagabua",
          "Pulau Tanah",
          "Pulau Bohayan",
          "Pulau Malundangan",
          "Pulau Majinkil",
          "Pulau Bakubang",
          "Pulau Burong",
          "Pulau Marumpun",
          "Pulau Maganting",
          "Pulau Batik Kulambu",
          "Pulau Batik Kulambu 2",
          "Pulau Batik",
          "Pulau Balusuan",
          "Pulau Tatangan-Tatangan",
          "Pulau Mata Pahi",
          "Pulau Mata Pahi 2",
          "Pulau Mata Pahi 3",
          "Pulau Mata Pahi 4",
          "Pulau Selangan",
          "Pulau Puno-Puno",
          "Pulau Bait",
          "Pulau Silawa",
          "Pulau Larapan",
          "Pulau Penampang",
          "Pulau Selanga Kecil",
          "Pulau Pendamit",
          "Pulau Adal",
          "Pulau Gatahan",
          "Pulau Bankawan",
          "Pulau Bakungan",
          "Pulau Sibuan",
          "Pulau Selakan",
          "Pulau Maiga",
          "Pulau Tetagan",
          "Pulau Gaya",
          "Pulau Bohaydulong",
          "Pulau Mantabuan",
          "Pulau Nusa Kuya",
          "Pulau Bum Bum",
          "Pulau Sipanggau",
          "Pulau Nusa Tengah",
          "Pulau Menampilik",
          "Pulau Karindingan",
          "Pulau Omadal",
          "Pulau Gusungan",
          "Pulau Bangau-Bangau",
          "Pulau Sisipan",
          "Pulau Pom-Pom",
          "Pulau Kapale",
          "Pulau Timba-Timba",
          "Pulau Kulapuan",
          "Pulau Bohayen",
          "Pulau Mataking",
          "Pulau Mataking Kechil",
          "Pulau Mabul",
          "Pulau Sipadan",
          "Pulau Danawan",
          "Pulau Si Amil",
          "Pulau Ligitan",
          "Pulau Selingun",
          "Pulau Selanga",
          "Pulau Selanga Kecil",
          "Pulau Pendamit",
          "Pulau Mapat",
          "Pulau Jati Kecil",
          "Pulau Sirongol Kecil",
          "Pulau Sirongol",
          "Pulau Bakaru",
          "Pulau Tabu-Tabu",
          "Pulau Melanta Kecil",
          "Pulau Melanta",
          "Pulau Limau-Limau",
          "Pulau Samal-Samal Kecil",
          "Pulau Samal-Samal Besar",
          "Pulau Sisipan Kecil",
          "Pulau Sisipan Kecil Dua",
          "Pulau Sisipan Besar",
          "Pulau Sisipan Besar Dua",
          "Pulau Sisipan Kecil Tiga",
          "Pulau Nusalalong",
          "Pulau Timbun Mata",
          "Pulau Kapalai",
          "Pulau Lihak Lihak",
          "Pulau Daisy",
          "Pulau Sisipan Kecil Empat",
          "Pulau Sebangkat",
          "Pulau Simunul",
          "Pulau Melanta Dua",
          "Pulau Sedam",
          "Pulau Simandalan",
          "Pulau Bingkulan",
          "Pulau Sedam Kecil",
          "Pulau Kalamuning",
          "Pulau Simandalan",
          "Pulau Marumar",
          "Pulau Mar Pigan",
          "Pulau Kapal Kecil",
          "Pulau Brantian",
          "Pulau Sipaku",
          "Pulau Mapun",
          "Pulau Tamba",
          "Pulau Sino Solan",
          "Pulau Sebatik",
          "Pulau Sipaku Kecil",
          "Tanjung Terasi",
          "Pulau Kalumpang",
          "Pulau Lok Barukang",
          "Pulau Mausar Hujung",
          "Pulau Lingisan",
          "Pulau Lingkutan",
          "Pulau Gusung Malanta",
          "Pulau Tangah",
          "Pulau Sunsuban",
          "Pulau Boboli Asibi",
          "Pulau Dalima",
          "Pulau Sipindung",
          "Pulau Lingkuton",
          "Pulau Sinamgil Kecil",
          "Pulau Meruntum",
          "Pulau Segama Kecil",
          "Pulau Segama Besar",
          "Pulau Segama",
          "Pulau Meruntum"
         ],
         "type": "scattermapbox"
        }
       ],
       "layout": {
        "height": 600,
        "legend": {
         "tracegroupgap": 0
        },
        "mapbox": {
         "accesstoken": "pk.eyJ1Ijoic2hhaGFkYW4iLCJhIjoiY2s0MHlheHEyMDJ5eDNtcGsxMnFqMjVlNSJ9.AmWFbv3mw6Bo7aiJRBvVKQ",
         "center": {
          "lat": 5.069456169259473,
          "lon": 109.70002368560277
         },
         "domain": {
          "x": [
           0,
           0.98
          ],
          "y": [
           0,
           1
          ]
         },
         "zoom": 4.5
        },
        "margin": {
         "t": 60
        },
        "template": {
         "data": {
          "bar": [
           {
            "error_x": {
             "color": "#2a3f5f"
            },
            "error_y": {
             "color": "#2a3f5f"
            },
            "marker": {
             "line": {
              "color": "#E5ECF6",
              "width": 0.5
             }
            },
            "type": "bar"
           }
          ],
          "barpolar": [
           {
            "marker": {
             "line": {
              "color": "#E5ECF6",
              "width": 0.5
             }
            },
            "type": "barpolar"
           }
          ],
          "carpet": [
           {
            "aaxis": {
             "endlinecolor": "#2a3f5f",
             "gridcolor": "white",
             "linecolor": "white",
             "minorgridcolor": "white",
             "startlinecolor": "#2a3f5f"
            },
            "baxis": {
             "endlinecolor": "#2a3f5f",
             "gridcolor": "white",
             "linecolor": "white",
             "minorgridcolor": "white",
             "startlinecolor": "#2a3f5f"
            },
            "type": "carpet"
           }
          ],
          "choropleth": [
           {
            "colorbar": {
             "outlinewidth": 0,
             "ticks": ""
            },
            "type": "choropleth"
           }
          ],
          "contour": [
           {
            "colorbar": {
             "outlinewidth": 0,
             "ticks": ""
            },
            "colorscale": [
             [
              0,
              "#0d0887"
             ],
             [
              0.1111111111111111,
              "#46039f"
             ],
             [
              0.2222222222222222,
              "#7201a8"
             ],
             [
              0.3333333333333333,
              "#9c179e"
             ],
             [
              0.4444444444444444,
              "#bd3786"
             ],
             [
              0.5555555555555556,
              "#d8576b"
             ],
             [
              0.6666666666666666,
              "#ed7953"
             ],
             [
              0.7777777777777778,
              "#fb9f3a"
             ],
             [
              0.8888888888888888,
              "#fdca26"
             ],
             [
              1,
              "#f0f921"
             ]
            ],
            "type": "contour"
           }
          ],
          "contourcarpet": [
           {
            "colorbar": {
             "outlinewidth": 0,
             "ticks": ""
            },
            "type": "contourcarpet"
           }
          ],
          "heatmap": [
           {
            "colorbar": {
             "outlinewidth": 0,
             "ticks": ""
            },
            "colorscale": [
             [
              0,
              "#0d0887"
             ],
             [
              0.1111111111111111,
              "#46039f"
             ],
             [
              0.2222222222222222,
              "#7201a8"
             ],
             [
              0.3333333333333333,
              "#9c179e"
             ],
             [
              0.4444444444444444,
              "#bd3786"
             ],
             [
              0.5555555555555556,
              "#d8576b"
             ],
             [
              0.6666666666666666,
              "#ed7953"
             ],
             [
              0.7777777777777778,
              "#fb9f3a"
             ],
             [
              0.8888888888888888,
              "#fdca26"
             ],
             [
              1,
              "#f0f921"
             ]
            ],
            "type": "heatmap"
           }
          ],
          "heatmapgl": [
           {
            "colorbar": {
             "outlinewidth": 0,
             "ticks": ""
            },
            "colorscale": [
             [
              0,
              "#0d0887"
             ],
             [
              0.1111111111111111,
              "#46039f"
             ],
             [
              0.2222222222222222,
              "#7201a8"
             ],
             [
              0.3333333333333333,
              "#9c179e"
             ],
             [
              0.4444444444444444,
              "#bd3786"
             ],
             [
              0.5555555555555556,
              "#d8576b"
             ],
             [
              0.6666666666666666,
              "#ed7953"
             ],
             [
              0.7777777777777778,
              "#fb9f3a"
             ],
             [
              0.8888888888888888,
              "#fdca26"
             ],
             [
              1,
              "#f0f921"
             ]
            ],
            "type": "heatmapgl"
           }
          ],
          "histogram": [
           {
            "marker": {
             "colorbar": {
              "outlinewidth": 0,
              "ticks": ""
             }
            },
            "type": "histogram"
           }
          ],
          "histogram2d": [
           {
            "colorbar": {
             "outlinewidth": 0,
             "ticks": ""
            },
            "colorscale": [
             [
              0,
              "#0d0887"
             ],
             [
              0.1111111111111111,
              "#46039f"
             ],
             [
              0.2222222222222222,
              "#7201a8"
             ],
             [
              0.3333333333333333,
              "#9c179e"
             ],
             [
              0.4444444444444444,
              "#bd3786"
             ],
             [
              0.5555555555555556,
              "#d8576b"
             ],
             [
              0.6666666666666666,
              "#ed7953"
             ],
             [
              0.7777777777777778,
              "#fb9f3a"
             ],
             [
              0.8888888888888888,
              "#fdca26"
             ],
             [
              1,
              "#f0f921"
             ]
            ],
            "type": "histogram2d"
           }
          ],
          "histogram2dcontour": [
           {
            "colorbar": {
             "outlinewidth": 0,
             "ticks": ""
            },
            "colorscale": [
             [
              0,
              "#0d0887"
             ],
             [
              0.1111111111111111,
              "#46039f"
             ],
             [
              0.2222222222222222,
              "#7201a8"
             ],
             [
              0.3333333333333333,
              "#9c179e"
             ],
             [
              0.4444444444444444,
              "#bd3786"
             ],
             [
              0.5555555555555556,
              "#d8576b"
             ],
             [
              0.6666666666666666,
              "#ed7953"
             ],
             [
              0.7777777777777778,
              "#fb9f3a"
             ],
             [
              0.8888888888888888,
              "#fdca26"
             ],
             [
              1,
              "#f0f921"
             ]
            ],
            "type": "histogram2dcontour"
           }
          ],
          "mesh3d": [
           {
            "colorbar": {
             "outlinewidth": 0,
             "ticks": ""
            },
            "type": "mesh3d"
           }
          ],
          "parcoords": [
           {
            "line": {
             "colorbar": {
              "outlinewidth": 0,
              "ticks": ""
             }
            },
            "type": "parcoords"
           }
          ],
          "scatter": [
           {
            "marker": {
             "colorbar": {
              "outlinewidth": 0,
              "ticks": ""
             }
            },
            "type": "scatter"
           }
          ],
          "scatter3d": [
           {
            "line": {
             "colorbar": {
              "outlinewidth": 0,
              "ticks": ""
             }
            },
            "marker": {
             "colorbar": {
              "outlinewidth": 0,
              "ticks": ""
             }
            },
            "type": "scatter3d"
           }
          ],
          "scattercarpet": [
           {
            "marker": {
             "colorbar": {
              "outlinewidth": 0,
              "ticks": ""
             }
            },
            "type": "scattercarpet"
           }
          ],
          "scattergeo": [
           {
            "marker": {
             "colorbar": {
              "outlinewidth": 0,
              "ticks": ""
             }
            },
            "type": "scattergeo"
           }
          ],
          "scattergl": [
           {
            "marker": {
             "colorbar": {
              "outlinewidth": 0,
              "ticks": ""
             }
            },
            "type": "scattergl"
           }
          ],
          "scattermapbox": [
           {
            "marker": {
             "colorbar": {
              "outlinewidth": 0,
              "ticks": ""
             }
            },
            "type": "scattermapbox"
           }
          ],
          "scatterpolar": [
           {
            "marker": {
             "colorbar": {
              "outlinewidth": 0,
              "ticks": ""
             }
            },
            "type": "scatterpolar"
           }
          ],
          "scatterpolargl": [
           {
            "marker": {
             "colorbar": {
              "outlinewidth": 0,
              "ticks": ""
             }
            },
            "type": "scatterpolargl"
           }
          ],
          "scatterternary": [
           {
            "marker": {
             "colorbar": {
              "outlinewidth": 0,
              "ticks": ""
             }
            },
            "type": "scatterternary"
           }
          ],
          "surface": [
           {
            "colorbar": {
             "outlinewidth": 0,
             "ticks": ""
            },
            "colorscale": [
             [
              0,
              "#0d0887"
             ],
             [
              0.1111111111111111,
              "#46039f"
             ],
             [
              0.2222222222222222,
              "#7201a8"
             ],
             [
              0.3333333333333333,
              "#9c179e"
             ],
             [
              0.4444444444444444,
              "#bd3786"
             ],
             [
              0.5555555555555556,
              "#d8576b"
             ],
             [
              0.6666666666666666,
              "#ed7953"
             ],
             [
              0.7777777777777778,
              "#fb9f3a"
             ],
             [
              0.8888888888888888,
              "#fdca26"
             ],
             [
              1,
              "#f0f921"
             ]
            ],
            "type": "surface"
           }
          ],
          "table": [
           {
            "cells": {
             "fill": {
              "color": "#EBF0F8"
             },
             "line": {
              "color": "white"
             }
            },
            "header": {
             "fill": {
              "color": "#C8D4E3"
             },
             "line": {
              "color": "white"
             }
            },
            "type": "table"
           }
          ]
         },
         "layout": {
          "annotationdefaults": {
           "arrowcolor": "#2a3f5f",
           "arrowhead": 0,
           "arrowwidth": 1
          },
          "colorscale": {
           "diverging": [
            [
             0,
             "#8e0152"
            ],
            [
             0.1,
             "#c51b7d"
            ],
            [
             0.2,
             "#de77ae"
            ],
            [
             0.3,
             "#f1b6da"
            ],
            [
             0.4,
             "#fde0ef"
            ],
            [
             0.5,
             "#f7f7f7"
            ],
            [
             0.6,
             "#e6f5d0"
            ],
            [
             0.7,
             "#b8e186"
            ],
            [
             0.8,
             "#7fbc41"
            ],
            [
             0.9,
             "#4d9221"
            ],
            [
             1,
             "#276419"
            ]
           ],
           "sequential": [
            [
             0,
             "#0d0887"
            ],
            [
             0.1111111111111111,
             "#46039f"
            ],
            [
             0.2222222222222222,
             "#7201a8"
            ],
            [
             0.3333333333333333,
             "#9c179e"
            ],
            [
             0.4444444444444444,
             "#bd3786"
            ],
            [
             0.5555555555555556,
             "#d8576b"
            ],
            [
             0.6666666666666666,
             "#ed7953"
            ],
            [
             0.7777777777777778,
             "#fb9f3a"
            ],
            [
             0.8888888888888888,
             "#fdca26"
            ],
            [
             1,
             "#f0f921"
            ]
           ],
           "sequentialminus": [
            [
             0,
             "#0d0887"
            ],
            [
             0.1111111111111111,
             "#46039f"
            ],
            [
             0.2222222222222222,
             "#7201a8"
            ],
            [
             0.3333333333333333,
             "#9c179e"
            ],
            [
             0.4444444444444444,
             "#bd3786"
            ],
            [
             0.5555555555555556,
             "#d8576b"
            ],
            [
             0.6666666666666666,
             "#ed7953"
            ],
            [
             0.7777777777777778,
             "#fb9f3a"
            ],
            [
             0.8888888888888888,
             "#fdca26"
            ],
            [
             1,
             "#f0f921"
            ]
           ]
          },
          "colorway": [
           "#636efa",
           "#EF553B",
           "#00cc96",
           "#ab63fa",
           "#FFA15A",
           "#19d3f3",
           "#FF6692",
           "#B6E880",
           "#FF97FF",
           "#FECB52"
          ],
          "font": {
           "color": "#2a3f5f"
          },
          "geo": {
           "bgcolor": "white",
           "lakecolor": "white",
           "landcolor": "#E5ECF6",
           "showlakes": true,
           "showland": true,
           "subunitcolor": "white"
          },
          "hoverlabel": {
           "align": "left"
          },
          "hovermode": "closest",
          "mapbox": {
           "style": "light"
          },
          "paper_bgcolor": "white",
          "plot_bgcolor": "#E5ECF6",
          "polar": {
           "angularaxis": {
            "gridcolor": "white",
            "linecolor": "white",
            "ticks": ""
           },
           "bgcolor": "#E5ECF6",
           "radialaxis": {
            "gridcolor": "white",
            "linecolor": "white",
            "ticks": ""
           }
          },
          "scene": {
           "xaxis": {
            "backgroundcolor": "#E5ECF6",
            "gridcolor": "white",
            "gridwidth": 2,
            "linecolor": "white",
            "showbackground": true,
            "ticks": "",
            "zerolinecolor": "white"
           },
           "yaxis": {
            "backgroundcolor": "#E5ECF6",
            "gridcolor": "white",
            "gridwidth": 2,
            "linecolor": "white",
            "showbackground": true,
            "ticks": "",
            "zerolinecolor": "white"
           },
           "zaxis": {
            "backgroundcolor": "#E5ECF6",
            "gridcolor": "white",
            "gridwidth": 2,
            "linecolor": "white",
            "showbackground": true,
            "ticks": "",
            "zerolinecolor": "white"
           }
          },
          "shapedefaults": {
           "line": {
            "color": "#2a3f5f"
           }
          },
          "ternary": {
           "aaxis": {
            "gridcolor": "white",
            "linecolor": "white",
            "ticks": ""
           },
           "baxis": {
            "gridcolor": "white",
            "linecolor": "white",
            "ticks": ""
           },
           "bgcolor": "#E5ECF6",
           "caxis": {
            "gridcolor": "white",
            "linecolor": "white",
            "ticks": ""
           }
          },
          "title": {
           "x": 0.05
          },
          "xaxis": {
           "automargin": true,
           "gridcolor": "white",
           "linecolor": "white",
           "ticks": "",
           "zerolinecolor": "white",
           "zerolinewidth": 2
          },
          "yaxis": {
           "automargin": true,
           "gridcolor": "white",
           "linecolor": "white",
           "ticks": "",
           "zerolinecolor": "white",
           "zerolinewidth": 2
          }
         }
        }
       }
      },
      "text/html": [
       "<div>\n",
       "        \n",
       "        \n",
       "            <div id=\"fcb4a245-4f21-4485-9027-6b4c3b0fc25f\" class=\"plotly-graph-div\" style=\"height:600px; width:100%;\"></div>\n",
       "            <script type=\"text/javascript\">\n",
       "                require([\"plotly\"], function(Plotly) {\n",
       "                    window.PLOTLYENV=window.PLOTLYENV || {};\n",
       "                    \n",
       "                if (document.getElementById(\"fcb4a245-4f21-4485-9027-6b4c3b0fc25f\")) {\n",
       "                    Plotly.newPlot(\n",
       "                        'fcb4a245-4f21-4485-9027-6b4c3b0fc25f',\n",
       "                        [{\"hoverlabel\": {\"namelength\": 0}, \"hovertemplate\": \"NEGERI=Terengganu<br>Nama=%{text}<br>LATITUD=%{lat}<br>LONGITUD=%{lon}\", \"lat\": [5.958369444, 5.958863889, 5.962272222, 5.960957036, 5.9626194439999995, 5.8304055560000005, 5.905036111, 5.942486111, 5.961594444, 5.904433332999999, 4.864105556, 4.845033333, 4.7816, 4.781266667, 4.805075, 5.341683333, 5.340080556, 5.301866667, 5.338191667, 5.335919444, 5.331422222, 5.331394444, 5.332277778, 5.321638889, 5.321088888999999, 5.329347222, 5.323258333, 5.335888889, 5.233669443999999, 5.221380556000001, 5.638833332999999, 5.642958332999999, 5.597825, 5.620375, 5.657402778, 5.667722222, 5.641344444, 5.624041667, 5.734, 5.738105556, 5.753097222, 5.7781333329999995, 5.7722861110000006, 5.773808333, 5.7397, 5.793563889, 5.677658332999999, 5.793105556, 5.594752777999999, 5.625497222000001, 5.69715, 5.6340833329999995, 5.646238889, 5.642811111, 5.641144444, 5.642811111, 5.651241667000001, 5.662194444, 5.6661, 5.670716667000001, 5.6738166670000005, 5.677530556000001, 5.682558332999999, 5.683813889, 5.693869444, 5.642958332999999, 5.7581277779999995, 5.685583332999999, 5.668361111, 5.621472222, 5.6252222220000005, 5.656722222000001, 5.343222222, 5.338416667, 5.33925, 5.334361111000001, 5.318166667], \"legendgroup\": \"NEGERI=Terengganu\", \"lon\": [102.6690944, 102.6646472, 102.67688890000001, 102.6549482, 102.6666056, 102.61215, 102.7250306, 102.66785, 102.6826889, 102.7543806, 103.6611444, 103.6646417, 103.40705559999999, 103.4212583, 103.6809806, 103.1264944, 103.123175, 103.08847220000001, 103.1210806, 103.1221806, 103.1201167, 103.12395, 103.11751109999999, 103.11676109999999, 103.0974, 103.1281833, 103.1075917, 103.13325, 103.26312779999999, 103.2655417, 102.7677444, 102.765, 103.06426390000001, 103.06331109999999, 103.0686917, 103.0714, 103.1518389, 103.1604194, 103.01948890000001, 103.02993609999999, 103.028875, 103.0419583, 103.03881109999999, 103.0602389, 103.0017222, 103.0036417, 102.8241194, 102.895025, 102.7980056, 102.78525, 102.6941444, 102.77215, 102.75394720000001, 102.7671583, 102.7656944, 102.7671583, 102.7534722, 102.7328083, 102.7309972, 102.7245556, 102.7204944, 102.7140389, 102.7092028, 102.7070861, 102.6980417, 102.765, 103.0300667, 102.7080556, 102.7284444, 102.7924167, 102.78622220000001, 102.7393333, 103.1259722, 103.1288333, 103.1285, 103.11875, 103.0980417], \"marker\": {\"color\": \"#636efa\"}, \"mode\": \"markers+text\", \"name\": \"NEGERI=Terengganu\", \"showlegend\": true, \"subplot\": \"mapbox\", \"text\": [\"Pulau Teku Burung\", \"Pulau Susu Dara\", \"Pulau Tokong Kemudi\", \"Pulau Tokong Kemudi Barat\", \"Pulau Dara Kechil (Pulau Dara Kecil)\", \"Pulau Ru\", \"Pulau Perhentian Kecil\", \"Pulau Serenggeh\", \"Pulau Rawa\", \"Pulau Perhentian Besar\", \"Pulau Tokong Burung\", \"Pulau Nyirih\", \"Pulau Serai\", \"Pulau Tengku Jaafar\", \"Pulau Tenggul\", \"Pulau Che Long\", \"Pulau Pak Kub (pulau Che Hassan)\", \"Pulau Wau\", \"Pulau Che Yok\", \"Pulau Tok Hakim (Pulau Wan Ali)\", \"Pulau Tengah (Pulau Panjang)\", \"Pulau Duyung Besar\", \"Pulau Besar (Pulau Raja)\", \"Pulau Wan Man\", \"Pulau Sekati\", \"Pulau Pasir\", \"Pulau Pak Mat (Pulau Pak Mat Lebai)\", \"Pulau Warisan\", \"Pulau Gumia (Pulau Sunita)\", \"Pulau Kapas (Pulau Kerengga)\", \"Pulau Pauh\", \"Pulau Wan Mamat\", \"Pulau Karah (Pulau Kapak)\", \"Pulau Bidung Laut\", \"Pulau Geluk\", \"Pulau Tengkorak\", \"Pulau Yu Besar\", \"Pulau Yu Kecil\", \"Pulau Ling (Pulau Che Por)\", \"Pulau Ekor Tebu\", \"Pulau Kerengga Besar\", \"Pulau Paku Besar\", \"Pulau Paku Kecil\", \"Pulau Limau\", \"Pulau Pinang\", \"Pulau Redang\", \"Pulau Cipu\", \"Pulau Lang Tengah\", \"Pulau Che Selamah\", \"Pulau Tok Bilal\", \"Pulau Layat\", \"Pulau Tok Ba\", \"Pulau Ubi\", \"Pulau Ru\", \"Pulau Mat Gendut\", \"Pulau Gemia\", \"Pulau Sutung\", \"Pulau Tok Haji\", \"Pulau Busung\", \"Pulau Besar (Pulau Raja)\", \"Pulau Che Hamid\", \"Pulau Wan Embong\", \"Pulau Che Him\", \"Pulau Semut\", \"Pulau Telaga Tujuh\", \"Pulau Wan Mamat\", \"Pulau Kerengga Kecil\", \"Pulau Dua\", \" Pulau Kecil\", \"Pulau Kerengga\", \"Pulau Mak Chik Pah\", \"Pulau Pak Ting\", \"Pulau Pasir Takir\", \"Pulau Wan Embong\", \"Pulau Duyung Kecil\", \"Pulau Tuan Ngah\", \"Pulau Ungku Aziz\"], \"type\": \"scattermapbox\"}, {\"hoverlabel\": {\"namelength\": 0}, \"hovertemplate\": \"NEGERI=Johor<br>Nama=%{text}<br>LATITUD=%{lat}<br>LONGITUD=%{lon}\", \"lat\": [2.4416361109999998, 2.478355556, 2.4933416669999997, 2.535838889, 2.550597222, 2.561122222, 2.48035, 2.4922027780000002, 2.449813889, 2.436858333, 2.459038889, 2.476502778, 2.582527778, 2.3029722219999997, 2.279661111, 2.272775, 2.270291667, 2.271944444, 2.26615, 2.2726666669999998, 2.306219444, 2.305686111, 2.640138889, 2.651827778, 2.225697222, 2.187816667, 2.181513889, 2.173394444, 2.189727778, 2.224769444, 2.224088889, 2.2196916669999998, 2.217169444, 2.124080556, 2.618022222, 2.5669388890000002, 2.652986111, 2.6457916669999997, 2.225708333, 2.566527778, 2.1962583330000003, 2.350522222, 2.654666667, 2.6515, 2.645166667, 2.623, 2.520666667, 1.788658333, 1.3593638890000002, 1.4086916669999998, 1.9252722219999998, 1.365552778, 1.3786194440000001, 1.3724916669999998, 1.372688889, 1.361425, 1.3520833330000002, 1.357430556, 1.425819444, 1.4702333330000001, 1.4709972219999998, 1.323630556, 1.4687444440000001, 1.4728777780000002, 1.3155444440000001, 1.427711111, 1.5261666669999998, 1.5894333330000001, 1.647222222, 1.64165], \"legendgroup\": \"NEGERI=Johor\", \"lon\": [103.98303890000001, 103.96128890000001, 103.952125, 103.9696694, 103.9598417, 103.9454528, 103.8471306, 103.85583890000001, 104.5215472, 104.5495583, 104.48920559999999, 104.50232220000001, 104.32736109999999, 104.1182833, 104.1253306, 104.1171, 104.127675, 104.1225694, 104.1514361, 104.1535833, 104.1490111, 104.14398059999999, 103.7444611, 103.71292779999999, 104.0640083, 104.1010333, 104.1105278, 104.1140972, 104.09501390000001, 104.1351778, 104.14765279999999, 104.1507833, 104.16036940000001, 104.2473778, 103.7840194, 103.8272583, 103.7494, 103.74683890000001, 103.9595528, 103.94825, 103.969925, 103.9175056, 103.88, 103.8835, 103.8883333, 103.7646667, 103.975, 102.8839694, 104.1056433, 104.1007444, 104.1177389, 104.2923556, 104.30008609999999, 104.2941111, 104.3114944, 104.2980222, 104.23464440000001, 104.0965472, 104.0843056, 103.2356444, 103.25551109999999, 103.4246889, 103.23823890000001, 103.2688167, 103.6098806, 104.97739170000001, 104.0076667, 103.9808333, 103.9480556, 103.9580917], \"marker\": {\"color\": \"#EF553B\"}, \"mode\": \"markers+text\", \"name\": \"NEGERI=Johor\", \"showlegend\": true, \"subplot\": \"mapbox\", \"text\": [\"Pulau Babi Besar\", \"Pulau Babi Tengah\", \"Pulau Babi Hujong\", \"Pulau Gual\", \"Pulau Mensirip\", \"Pulau Harimau\", \"Pulau Setindan\", \"Pulau Batu Gajah\", \"Pulau Aur\", \"Pulau Pinang\", \"Pulau Lang\", \"Pulau Dayang\", \"Pulau Pemanggil\", \"Pulau Tinggi\", \"Pulau Apil\", \"Pulau Mentigi\", \"Pulau Nangka Besar\", \"Pulau Nangka Kechil\", \"Pulau Simbang\", \"Pulau Lanting\", \"Pulau Ibol\", \"Pulau Penyembang\", \"Pulau Perigi Cina\", \"Pulau Lalang\", \"Pulau Sibu\", \"Pulau Sibu Tengah\", \"Pulau Sibu Kukus\", \"Pulau Sibu Hujong\", \"Pulau Papan\", \"Pulau Tokong Sanggol\", \"Pulau Lima Kecil\", \"Pulau Lima Besar\", \"Pulau Tokong Raket\", \"Pulau Tokong Yu\", \"Pulau Mawar\", \"Pulau Lalang\", \"Pulau Pelandok\", \"Pulau Ayam\", \"Pulau Kerengga\", \"Pulau Gurong ( Di Atas Pulau Harimau)\", \"Pulau Lilang\", \"Pulau Belanak\", \"Pulau Achi (Pulau Mertang Barat)\", \"Pulau Mertang (Pulau Mertang Tengah)\", \"Pulau Mertang Timur\", \"Pulau Kerengga (Mukim Penyabong)\", \"Pulau Rawa\", \"Pulau Sialu\", \"Pulau Malang Berendam\", \"Pulau Chumbun\", \"Pulau Tagal\", \"Pulau Lima\", \"Pulau Geruda\", \"Pulau Besar\", \"Pulau Peak (Peak Rock)\", \"Pulau Pemanggil\", \"Pulau Che Kamat\", \"Pulau Malang Berdaun\", \"Pulau Malang Siajar\", \"Pulau Tunda\", \"Pulau Pisang\", \"Pulau Kukup\", \"Pulau Kemudi\", \"Pulau Sauh\", \"Pulau Merambong\", \"Pulau Nenas\", \"Pulau Juling\", \"Pulau Layang\", \"Pulau Kayu Anak Kecil\", \"Pulau Kayu Anak Besar\"], \"type\": \"scattermapbox\"}, {\"hoverlabel\": {\"namelength\": 0}, \"hovertemplate\": \"NEGERI=Kedah<br>Nama=%{text}<br>LATITUD=%{lat}<br>LONGITUD=%{lon}\", \"lat\": [6.414883333, 6.466161111, 6.460580556, 6.459269443999999, 6.4545222220000005, 6.455163889, 6.449233333, 6.296933332999999, 6.29325, 6.267680556, 6.258252777999999, 6.252569444, 6.2642638889999995, 6.256255556, 6.251008333, 6.286508333, 6.276569444, 6.292847222000001, 6.273366667, 6.270211111, 6.266736111, 6.305930556, 6.313652778, 6.307402777999999, 6.314844443999999, 6.2245, 6.204788889, 6.1736222220000005, 6.223019444, 6.233211111, 6.242161111000001, 6.213197222000001, 6.207575, 6.2225916670000005, 6.187602778, 6.179069444, 6.199336111, 6.212413889, 6.210505556, 6.238644444, 6.235569443999999, 6.2441111110000005, 6.260211111, 6.265369444, 6.362205556, 6.273794444, 6.424547222, 6.4128777779999995, 6.182252778, 6.421613889, 6.48785, 6.433333332999999, 6.437555556, 6.456811111, 6.468363889, 6.432705556, 6.463277777999999, 6.431361111, 6.436544444, 6.359461111, 6.293372222, 6.275638889, 6.283394444, 6.276072222000001, 6.4721444439999996, 6.243311111000001, 6.242197222000001, 6.232041667000001, 6.2224, 6.421797222, 6.173161111000001, 6.164352778, 6.2068222220000004, 6.216547222000001, 6.305541667000001, 6.3224305560000005, 6.244772222000001, 6.167283332999999, 6.194027778, 6.1903611110000005, 6.193991667000001, 6.192086111, 6.4205138889999995, 6.325319444, 6.201808333, 6.201902777999999, 6.265922222, 6.361175, 6.361225, 6.308333332999999, 6.328297222000001, 6.3290638889999995, 6.331172222, 6.166666667, 6.165644444, 6.1701277779999995, 5.6941611110000006, 5.878108332999999, 5.744666667000001, 5.769330556, 5.809352777999999, 5.7991694439999995, 6.041166667000001, 6.040686111, 6.071555556, 6.059808332999999, 6.071308332999999, 5.660611111000001, 6.29815, 6.297794444, 6.301472222, 6.159377778, 6.161258332999999, 6.189222222000001, 6.188222222, 6.18915, 6.166122222], \"legendgroup\": \"NEGERI=Kedah\", \"lon\": [99.91449194, 99.82316667, 99.81885, 99.81880556, 99.79574722, 99.78976944, 99.77766389, 99.69634167, 99.70941944, 99.71818056, 99.74283056, 99.74421111, 99.75653333, 99.7714, 99.78208333, 99.86384722, 99.87015278, 99.86869444, 99.873925, 99.87912222, 99.88513889, 99.89074167, 99.91354444, 99.93255556, 99.93958333, 99.71628611, 99.73329167, 99.73140833, 99.75714722, 99.79998889, 99.84187222, 99.76386389, 99.76783056, 99.76708611, 99.78333333, 99.77873889, 99.830375, 99.834575, 99.86155833, 99.87271111, 99.87228611, 99.87603889, 99.85483333, 99.85570833, 99.79403611, 99.71109167, 99.90585, 99.90588056, 99.79523889, 99.88276111, 99.876775, 99.86677778, 99.85610833, 99.8543, 99.84991667, 99.89283889, 99.82371111, 99.74337222, 99.673675, 99.67108611, 99.70481389, 99.70972222, 99.77769444, 99.89534722, 99.83431667, 99.71283889, 99.72119167, 99.74871944, 99.76725278, 99.91152778, 99.78569167, 99.81375, 99.83164167, 99.86226389, 99.867925, 99.89680556, 99.869275, 99.81162222, 99.84215833, 99.84322222, 99.84503611, 99.84144444, 99.88667778, 99.92647778, 99.83265833, 99.83190278, 99.78219722, 99.67575556, 99.67986389, 99.90833333, 99.9099, 99.91123333, 99.91283333, 99.77638889, 99.77557222, 99.77593333, 98.93738333, 100.3272667, 100.28770279999999, 100.2863833, 100.2953167, 100.2804194, 99.92666667, 99.92471389, 100.05221390000001, 100.0411111, 100.0573833, 100.3295889, 99.87676389, 99.88077222, 99.88546667, 99.79503611, 99.80086944, 99.83405556, 99.83675, 99.837325, 99.77883056], \"marker\": {\"color\": \"#00cc96\"}, \"mode\": \"markers+text\", \"name\": \"NEGERI=Kedah\", \"showlegend\": true, \"subplot\": \"mapbox\", \"text\": [\"Pulau Tanjung Dendang\", \"Pulau Gua\", \"Pulau Kelam Baya\", \"Pulau Chabang Besar\", \"Pulau Pasir\", \"Pulau Gasing\", \"Pulau Dangli\", \"Pulau Rebak Besar\", \"Pulau Rebak Kechil/ Pulau Rebak Kecil\", \"Pulau Tepor\", \"Pulau Ular\", \"Pulau Selang\", \"Pulau Lalang\", \"Pulau Jerkom Besar\", \"Pulau Jerkom Kechil/ Pulau Jerkom Kecil\", \"Pulau Bumbon Besar\", \"Pulau Bumbon Kechil\", \"Pulau Kerai\", \"Pulau Tanggok Kechil\", \"Pulau Tanggok Besar\", \"Pulau Tiloi\", \"Pulau Kedera\", \"Pulau Timun\", \"Pulau Paku\", \"Pulau Chorong\", \"Pulau Beras Basah\", \"Pulau Singa Besar\", \"Pulau Chupu\", \"Pulau Jong\", \"Pulau Dayang Bunting\", \"Pulau Tuba\", \"Pulau Batu Merah\", \"Pulau Kukus\", \"Pulau Simpang Tiga Besar\", \"Pulau Gubang Darat\", \"Pulau Gubang Laut\", \"Pulau Teluk Tongkang (Pengesahan Kedah)\", \"Pulau Sipak\", \"Pulau Selang Besar\", \"Pulau Nyior Setali Darat (Pengesahan Kedah)\", \"Pulau Nyior Setali Laut (Pengesahan Kedah)\", \"Pulau Enggang\", \"Pulau Batu Punggah\", \"Pulau Lintang Jalan\", \"Pulau Langkawi\", \"Tukun Babau Kechil\", \"Anak Pulau Berangan\", \"Pulau Anak Tikus\", \"Pulau Teluk Akar (Pengesahan Kedah)\", \"Pulau Peluru\", \"Pulau Tanggok\", \"Pulau Anak Kilim\", \"Pulau Chempuli\", \"Pulau Teluk Jong\", \"Pulau Anak Gua Cherita\", \"Pulau Lenggoon (Upen)\", \"Pulau Belibis (Upen)\", \"Pulau Jemuruk (Upen)\", \"Anak Pulau Datai\", \"Pulau Burau (Upen)\", \"Pulau Selat Senari (Upen)\", \"Pulau Tekong Baba (Upen)\", \"Pulau Ipoh\", \"Pulau Buyung (Upen)\", \"Pulau Teluk Dedap (Pengesahan Kedah)\", \"Pulau Intan Kechil (Pulau Kentut Kechil)\", \"Pulau Intan Besar (Pulau Kentut Besar)\", \"Pulau Singa Kechil\", \"Pulau Simpang Tiga Kechil\", \"Pulau Cak Perling (Pengesahan Kedah)\", \"Pulau Tajai (Upen)\", \"Pulau Ujong Buloh (Upen)\", \"Pulau Duyong\", \"Pulau Selang Kechil/Pulau Selang Kecil\", \"Pulau Penarak (Pengesahan Kedah)\", \"Pulau Rapang (Pengesahan Kedah)\", \"Pulau Pasir\", \"Pulau Selat Riang-Riang\", \"Pulau Lima\", \"Pulau Panji-Panji (Pengesahan Kedah)\", \"Pulau Tanjung Tok Keramat (Pengesahan Kedah)\", \"Pulau Kapal (Pengesahan Kedah)\", \"Pulau Kapal (Pengesahan Kedah)\", \"Pulau Sigai (Pengesahan Kedah)\", \"Pulau Ayam Laut (Pengesahan Kedah)\", \"Pulau Ayam Darat (Pengesahan Kedah)\", \"Pulau Tak Berumput (Pengesahan Kedah)\", \"Pulau Seratus (Pengesahan Kedah)\", \"Pulau Seratus Satu (Pengesahan Kedah)\", \"Pulau Teluk Nipah Besar (Pengesahan Kedah)\", \"Pulau Perta (Pengesahan Kedah)\", \"Pulau Tulang Hantu (Pengesahan Kedah)\", \"Pulau Teluk Senai (Pengesahan Kedah)\", \"Anak Pulau Puchong (Pengesahan Kedah)\", \"Pulau Puchong Laut (Pengesahan Kedah)\", \"Pulau Puchong\", \"Pulau Perak\", \"Pulau Bunting\", \"Pulau Bidan\", \"Pulau Telor\", \"Pulau Songsong\", \"Pulau Tukun Terendak\", \"Pulau Segantang A\", \"Pulau Segantang B\", \"Pulau Kacha (Upen)\", \"Pulau Paya (Upen)\", \"Pulau Lembu\", \"Pulau Sayak\", \"Pulau Kerengga\", \"Pulau Chupak\", \"Pulau Lading\", \"Pulau Balar\", \"Pulau Batang\", \"Pulau Dua Darat\", \"Pulau Dua Laut\", \"Anak Pulau Dua\", \"Pulau Ketumbu\"], \"type\": \"scattermapbox\"}, {\"hoverlabel\": {\"namelength\": 0}, \"hovertemplate\": \"NEGERI=Kelantan<br>Nama=%{text}<br>LATITUD=%{lat}<br>LONGITUD=%{lon}\", \"lat\": [6.234408332999999, 6.198572222, 6.198572222, 6.199744443999999, 6.199744443999999, 6.192786111, 6.203827778, 6.203827778, 6.200294444, 6.214686111000001, 6.189838889, 6.212222222, 6.213333333, 6.207655556000001, 6.215091667, 6.154444444, 6.134166667000001, 6.192711111, 6.197347222, 6.196725, 6.192347222, 6.193208332999999, 6.181102778, 6.188061111000001, 6.123611111000001, 6.185555556000001, 6.183611111, 6.1788888889999996, 6.181666667000001, 6.166111111, 6.161111111, 6.198333333, 6.1603925, 6.186027778, 6.195555556, 6.22775, 6.21, 6.208944444, 6.214972222], \"legendgroup\": \"NEGERI=Kelantan\", \"lon\": [102.09715279999999, 102.1869056, 102.1869056, 102.20214720000001, 102.20214720000001, 102.2060639, 102.2147361, 102.2147361, 102.2269417, 102.2125417, 102.23065559999999, 102.1669444, 102.1719444, 102.2310056, 102.2289, 102.3319444, 102.3141667, 102.2644028, 102.2567306, 102.2635194, 102.2587639, 102.25157220000001, 102.29715279999999, 102.2717722, 102.30027779999999, 102.295, 102.3008889, 102.305, 102.31277779999999, 102.3402778, 102.3375, 102.2694444, 102.24010859999999, 102.29575, 102.26611109999999, 102.0836944, 102.17138890000001, 102.1715556, 102.1929722], \"marker\": {\"color\": \"#ab63fa\"}, \"mode\": \"markers+text\", \"name\": \"NEGERI=Kelantan\", \"showlegend\": true, \"subplot\": \"mapbox\", \"text\": [\"Pulau Tengkorak\", \"Pulau Che Tahir\", \"Pulau Rulah\", \"Pulau Gagak\", \"Pulau Tok Fakir\", \"Pulau Besar\", \"Pulau Haji Nik Mat @ Pulau Seratus\", \"Pulau Beluru\", \"Pulau Renjuna\", \"Pulau Suri\", \"Pulau Raja Muda\", \"Pulau Kuala Udang\", \"Pulau Mas\", \"Pulau Dollah\", \"Pulau Pantai Kuda\", \"Pulau Gajah\", \"Pulau Seratus\", \"Pulau Pisang\", \"Pulau Kundur\", \"Pulau Haji Nik Hab\", \"Pulau Ekor Gajah\", \"Pulau Batang\", \"Pulau Panjang\", \"Pulau Pasir\", \"Pulau Earrer\", \"Pulau Che Nor\", \"Pulau Pak Amat\", \"Pulau Tukang Dollah\", \"Pulau Pelesit\", \"Pulau Bernal/Pulau Datok\", \"Pulau Layak\", \"Pulau Dato' Mufti\", \"Pulau Kambing\", \"Pulau Gorek\", \"Pulau Pegama\", \"Pulau Ular\", \"Pulau Bedar\", \"Pulau Layang-Layang\", \"Pulau Timun\"], \"type\": \"scattermapbox\"}, {\"hoverlabel\": {\"namelength\": 0}, \"hovertemplate\": \"NEGERI=Labuan<br>Nama=%{text}<br>LATITUD=%{lat}<br>LONGITUD=%{lon}\", \"lat\": [5.313611111, 5.275611111, 5.187630556, 5.226427778, 5.201144444, 5.253488889, 5.237558333, 7.375055556], \"legendgroup\": \"NEGERI=Labuan\", \"lon\": [115.22241670000001, 115.313875, 122.16416670000001, 115.1283028, 115.14678059999999, 115.2699861, 115.19101670000002, 113.82961110000001], \"marker\": {\"color\": \"#FFA15A\"}, \"mode\": \"markers+text\", \"name\": \"NEGERI=Labuan\", \"showlegend\": true, \"subplot\": \"mapbox\", \"text\": [\"Pulau Labuan\", \"Pulau Daat\", \"Pulau Rusukan Besar\", \"Pulau Karaman\", \"Pulau Rusukan Kechil\", \"Pulau Papan\", \"Pulau Burong\", \"Pulau Layang-Layang\"], \"type\": \"scattermapbox\"}, {\"hoverlabel\": {\"namelength\": 0}, \"hovertemplate\": \"NEGERI=Melaka<br>Nama=%{text}<br>LATITUD=%{lat}<br>LONGITUD=%{lon}\", \"lat\": [2.40275, 2.4083055559999997, 2.344166667, 2.192775, 2.1608416669999997, 2.151802778, 2.17975, 2.082366667, 2.079305556, 2.073855556, 2.1139722219999997, 2.1209916669999997, 2.11615, 2.048091667, 2.128830556, 2.126213889], \"legendgroup\": \"NEGERI=Melaka\", \"lon\": [101.85127779999999, 101.859225, 102.04386109999999, 102.2031556, 102.2600194, 102.3177306, 102.2513778, 102.33206109999999, 102.3052694, 102.3340583, 102.3279667, 102.31503609999999, 102.3406944, 102.3337472, 102.35858890000002, 102.3491361], \"marker\": {\"color\": \"#19d3f3\"}, \"mode\": \"markers+text\", \"name\": \"NEGERI=Melaka\", \"showlegend\": true, \"subplot\": \"mapbox\", \"text\": [\"Pulau Intan\", \"Pulau Masjid\", \"Pulau Konet\", \"Pulau Upeh\", \"Pulau Panjang\", \"Pulau Menatang\", \"Pulau Jawa\", \"Pulau Dodol\", \"Pulau Hanyut\", \"Pulau Nangka\", \"Pulau Besar\", \"Pulau Serimbun\", \"Pulau Lalang\", \"Pulau Undan\", \"Pulau Burung\", \"Pulau Anak Burung\"], \"type\": \"scattermapbox\"}, {\"hoverlabel\": {\"namelength\": 0}, \"hovertemplate\": \"NEGERI=Negeri Sembilan<br>Nama=%{text}<br>LATITUD=%{lat}<br>LONGITUD=%{lon}\", \"lat\": [2.515777778, 2.547055556, 2.492166667, 2.507825, 2.414055556, 2.417222222, 2.42125, 2.4216666669999998, 2.464138889, 2.421361111], \"legendgroup\": \"NEGERI=Negeri Sembilan\", \"lon\": [101.7905833, 101.78563890000001, 101.8274444, 101.8263056, 101.897, 101.8840556, 101.91802779999999, 101.92330559999999, 101.8406667, 101.9103333], \"marker\": {\"color\": \"#FF6692\"}, \"mode\": \"markers+text\", \"name\": \"NEGERI=Negeri Sembilan\", \"showlegend\": true, \"subplot\": \"mapbox\", \"text\": [\"Pulau Arang-Arang\", \"Pulau Burung Batu 2\", \"Pulau Burong\", \"Pulau Bagan Pinang\", \"Pulau Payong\", \"Pulau Pelandok\", \"Pulau Mengkudu\", \"Pulaui Tikus\", \"Pulau Terumbu\", \"Pulau Asam\"], \"type\": \"scattermapbox\"}, {\"hoverlabel\": {\"namelength\": 0}, \"hovertemplate\": \"NEGERI=Pahang<br>Nama=%{text}<br>LATITUD=%{lat}<br>LONGITUD=%{lon}\", \"lat\": [3.24495, 3.513336111, 3.519091667, 3.515747222, 3.515611111, 3.5153611110000003, 3.5098972219999998, 2.66305, 2.662461111, 2.696025, 2.678608333, 2.769036111, 2.9097861110000003, 2.808577778, 2.888111111, 2.8971083330000003, 2.9306666669999997, 2.695713889, 2.6846, 2.779691667, 2.778275, 2.782433333, 2.6644666669999997, 2.670411111, 2.685388889, 2.698416667, 2.748263889, 2.75555, 2.875472222, 2.7916111110000004, 4.054972222, 4.055972222], \"legendgroup\": \"NEGERI=Pahang\", \"lon\": [103.6564833, 103.4583889, 103.4690917, 103.4464944, 103.4422389, 103.4358056, 103.45302779999999, 104.1662861, 104.06345, 103.88605, 103.9186944, 104.15386109999999, 104.10816940000001, 104.13497779999999, 104.0660472, 104.0508056, 104.0986, 103.9292889, 103.902775, 103.96105, 103.9593111, 103.9600806, 103.75179720000001, 103.7693972, 103.74951109999999, 103.73580559999999, 103.5621167, 103.5594444, 104.14752779999999, 104.1207222, 103.4098056, 103.40799999999999], \"marker\": {\"color\": \"#B6E880\"}, \"mode\": \"markers+text\", \"name\": \"NEGERI=Pahang\", \"showlegend\": true, \"subplot\": \"mapbox\", \"text\": [\"Pulau Berhala\", \"Pulau Berembang\", \"Pulau Syed Hassan\", \"Pulau Kerengga\", \"Pulau Ular\", \"Pulau Beruas\", \"Pulau Lima Besar\", \"Pulau Jahat\", \"Pulau Tokong Bahara\", \"Pulau Sembilang\", \"Pulau Seri Buat\", \"Pulau Tioman\", \"Pulau Tulai Candang\", \"Pulau Rengis\", \"Pulau Labas\", \"Pulau Sepoi\", \"Pulau Ceben\", \"Pulau Tasu\", \"Pula Uraja\", \"Pulau Tokong Burung Tengah\", \"Pulau Tokong Burung Condong\", \"Pulau Tokong Burung Besar\", \"Pulau Tengah\", \"Pulau Aceh\", \"Pulau Tunus\", \"Pulau Layak\", \"Pulau Ducung Darat\", \"Pulau Ducung Laut\", \"Pulau Soyak\", \"Pulau Tumok\", \"Pulau Lang\", \"Pulau Ular\"], \"type\": \"scattermapbox\"}, {\"hoverlabel\": {\"namelength\": 0}, \"hovertemplate\": \"NEGERI=Perak<br>Nama=%{text}<br>LATITUD=%{lat}<br>LONGITUD=%{lon}\", \"lat\": [4.061166667, 4.058388889, 4.029166667, 4.007916667, 4.005083333, 3.995444444, 3.977583333, 4.19575, 4.0738222219999995, 4.127416667, 4.207472222, 4.267194443999999, 4.2289722219999994, 4.228333333, 4.191805556, 4.420305556000001, 4.236083333, 4.156611111, 4.272111111, 4.2673611110000005, 4.186166667, 4.067388889, 4.185638889, 4.011416667, 4.010916667, 4.706805556, 4.599833333, 4.842861111, 4.8105, 4.9245, 4.891, 4.876138889], \"legendgroup\": \"NEGERI=Perak\", \"lon\": [100.5753611, 100.5414722, 100.5481944, 100.5350833, 100.5463333, 100.5326944, 100.0970833, 100.5796389, 100.58498890000001, 100.56011109999999, 100.5458611, 100.53575, 100.5331667, 100.55725, 100.5431944, 100.5756944, 100.54025, 100.61922220000001, 100.53325, 100.5408056, 100.5373333, 100.5783056, 100.5395833, 100.5435556, 100.53525, 100.60436109999999, 100.6186944, 100.56755559999999, 100.59575, 100.49927779999999, 100.5051111, 100.5788333], \"marker\": {\"color\": \"#FF97FF\"}, \"mode\": \"markers+text\", \"name\": \"NEGERI=Perak\", \"showlegend\": true, \"subplot\": \"mapbox\", \"text\": [\"Pulau Nyamuk\", \"Pulau Nipis\", \"Pulau Rumbia\", \"Pulau Saga\", \"Pulau Lalang\", \"Pulau Boloh\", \"Pulau Jarak\", \"Pulau Landak\", \"Pulau Agas\", \"Pulau Tukun Perak\", \"Pulau Simpan\", \"Pulau Anak Pelanduk\", \"Pulau Mentagor\", \"Pulau Pangkor\", \"Pulau Pangkor Laut\", \"Pulau Talang\", \"Pulau Giam\", \"Pulau Katak\", \"Pulau Tukun Terindak\", \"Pulau Pelandok\", \"Pulau Dua Besar\", \"Pulau Rusa\", \"Pulau Dua Kecil\", \"Pulau Lalang\", \"Pulau Payung\", \"Pulau Terung\", \"Pulau Pasir Hitam\", \"Pulau Sangga Kechil\", \"Pulau Sangga Besar\", \"Pulau Gula\", \"Pulau Kelumpang\", \"Pulau Selinsing\"], \"type\": \"scattermapbox\"}, {\"hoverlabel\": {\"namelength\": 0}, \"hovertemplate\": \"NEGERI=Perlis<br>Nama=%{text}<br>LATITUD=%{lat}<br>LONGITUD=%{lon}\", \"lat\": [6.3395], \"legendgroup\": \"NEGERI=Perlis\", \"lon\": [100.1415], \"marker\": {\"color\": \"#FECB52\"}, \"mode\": \"markers+text\", \"name\": \"NEGERI=Perlis\", \"showlegend\": true, \"subplot\": \"mapbox\", \"text\": [\"Batu Layang\"], \"type\": \"scattermapbox\"}, {\"hoverlabel\": {\"namelength\": 0}, \"hovertemplate\": \"NEGERI=Pulau Pinang<br>Nama=%{text}<br>LATITUD=%{lat}<br>LONGITUD=%{lon}\", \"lat\": [5.385183056, 5.321577778, 5.247833333, 5.232194444, 5.315861111, 5.314808333, 5.467738889, 5.476361111, 5.364347222, 5.278972222, 5.264833333, 5.262355556], \"legendgroup\": \"NEGERI=Pulau Pinang\", \"lon\": [100.2516311, 100.31798609999998, 100.27297220000001, 100.179, 100.18375, 100.1858611, 100.23535, 100.29722220000001, 100.3262833, 100.3878056, 100.38972220000001, 100.40630829999999], \"marker\": {\"color\": \"#636efa\"}, \"mode\": \"markers+text\", \"name\": \"NEGERI=Pulau Pinang\", \"showlegend\": true, \"subplot\": \"mapbox\", \"text\": [\"Pulau Pinang\", \"Pulau Jerejak\", \"Pulau Rimau\", \"Pulau Kendi\", \"Pulau Betong\", \"Pulau Betung Kecil\", \"Pulau Asmara\", \"Pulau Tikus\", \"Pulau Asrama\", \"Pulau Betong Kecil\", \"Pulau Aman\", \"Pulau Bakau\"], \"type\": \"scattermapbox\"}, {\"hoverlabel\": {\"namelength\": 0}, \"hovertemplate\": \"NEGERI=Selangor<br>Nama=%{text}<br>LATITUD=%{lat}<br>LONGITUD=%{lon}\", \"lat\": [3.035803056, 2.9943736110000003, 2.9436844439999996, 2.916969444, 2.943899722, 2.971683333, 3.015452222, 2.9444111110000004, 2.976161111, 3.016697222, 2.962411111, 2.870972222, 3.225285, 3.2233333330000002, 3.2174166669999997, 3.1839999999999997, 3.2033333330000002, 3.1863333330000003], \"legendgroup\": \"NEGERI=Selangor\", \"lon\": [101.24923390000001, 101.23738890000001, 101.2441056, 101.24596329999999, 101.27857390000001, 101.2902753, 101.3045444, 101.3290872, 101.3761833, 101.2685633, 101.2760806, 101.3661111, 101.27582779999999, 101.2762222, 101.2821389, 101.2184167, 101.2738889, 101.2175], \"marker\": {\"color\": \"#EF553B\"}, \"mode\": \"markers+text\", \"name\": \"NEGERI=Selangor\", \"showlegend\": true, \"subplot\": \"mapbox\", \"text\": [\"Pulau Ketam\", \"Pulau Tengah\", \"Pulau Selat Kering\", \"Pulau Pintu Gedong\", \"Pulau Che Mat Zin\", \"Pulau Mahang\", \"Pulau Klang\", \"Pulau Indah\", \"Pulau Tonggok\", \"Pulau Rusa\", \"Pulau Selat Meriam\", \"Pulau Carey\", \"Pulau Anak Angsa\", \"Pulau Besar\", \"Pulau Jemor\", \"Pulau Selatan\", \"Pulau Terukor\", \"Pulau Angsa\"], \"type\": \"scattermapbox\"}, {\"hoverlabel\": {\"namelength\": 0}, \"hovertemplate\": \"NEGERI=Sarawak<br>Nama=%{text}<br>LATITUD=%{lat}<br>LONGITUD=%{lon}\", \"lat\": [1.9167, 1.892808333, 1.7342472219999998, 1.670413889, 1.783569444, 1.7578111109999999, 1.753072222, 1.733786111, 1.973205556, 1.961388889, 1.6813472219999999, 1.7931555559999999, 1.703844444, 1.750177778, 1.9361694440000001, 1.945461111, 1.938786111, 1.984266667, 1.737425, 1.6833277780000002, 1.984266667, 1.737425, 1.6833277780000002, 1.636369444, 1.5194833330000002, 2.632672222, 2.7505916669999997, 4.867716667, 4.849822222, 4.845544444, 4.987694444, 4.959311111, 4.968138889, 4.967, 4.968083333, 4.968555556, 4.990608333, 4.915277778, 4.914138889, 4.920555556, 4.920416667, 4.919225, 4.914166667, 4.906833333, 4.90825, 4.89225], \"legendgroup\": \"NEGERI=Sarawak\", \"lon\": [109.7780111, 109.76872220000001, 110.08970559999999, 110.29541670000002, 110.16503059999998, 110.1658361, 110.1909222, 110.1916528, 109.6710972, 109.65541110000001, 110.28850829999999, 109.79246940000002, 110.30576940000002, 110.49583329999999, 109.6566778, 109.65785, 109.65739170000002, 109.6647389, 109.87004170000002, 110.422475, 109.6647389, 109.87004170000002, 110.422475, 110.8051139, 110.9855222, 111.322775, 111.3952639, 114.99691940000001, 115.00515279999999, 114.9874111, 115.18963889999999, 115.18545, 115.185, 115.1905, 115.1946389, 115.20491670000001, 115.18611670000001, 115.23730559999998, 115.2397778, 115.24575, 115.24694440000002, 115.24969440000001, 115.27708329999999, 115.2948611, 115.3238889, 115.32808329999999], \"marker\": {\"color\": \"#00cc96\"}, \"mode\": \"markers+text\", \"name\": \"NEGERI=Sarawak\", \"showlegend\": true, \"subplot\": \"mapbox\", \"text\": [\"Pulau Talang-Talang Besar\", \"Pulau Talang-Talang Kecil\", \"Pulau Sampadi\", \"Pulau Lakei\", \"Pulau Salak\", \"Pulau Satang Besar\", \"Pulau Satang kecil\", \"Pulau Tukong Ara\", \"Pulau Tukong Banun\", \"Pulau Gador\", \"Pulau Datu\", \"Pulau Kalasah\", \"Pulau Perongan\", \"Pulau Kera\", \"Pulau Badar\", \"Pulau Kerengga Kecil\", \"Pulau Kerengga Besar\", \"Pulau Kerah\", \"Pulau Burong\", \"Pulau Pancur\", \"Pulau Tg Rhu\", \"Pulau Teluk Nibong\", \"Pulau Teluk Mengkuang\", \"Pulau Burong\", \"Pulau Triso\", \"Pulau Bruit\", \"Pulau Patok\", \"Pulau Limpaku Pinang\", \"Pulau Umpul-Umpul\", \"Pulau Jai-Jai\", \"Pulau Alang Damit\", \"Pulau Alang\", \"Pulau Alang Besar\", \"Pulau Kenawai Besar\", \"Pulau Kenawai Damit\", \"Pulau Kenawai Baru\", \"Pulau Gusu\", \"Pulau Langari\", \"Pulau Payau\", \"Pulau Bumbun\", \"Pulau Paluan\", \"Pulau Lengari\", \"Pulau Pelait Kecil\", \"Pulau Perapat\", \"Pulau Perapat Siang-Siang\", \"Pulau Menggoreng\"], \"type\": \"scattermapbox\"}, {\"hoverlabel\": {\"namelength\": 0}, \"hovertemplate\": \"NEGERI=Sabah<br>Nama=%{text}<br>LATITUD=%{lat}<br>LONGITUD=%{lon}\", \"lat\": [5.313888888999999, 5.304555239, 5.388895378, 5.283884003, 5.2884004330000005, 5.285186931, 5.726111111, 5.750833332999999, 5.846944444, 5.776155439, 5.834702534, 5.843247538, 5.8377777779999995, 6.0675, 5.813333332999999, 5.975696052999999, 5.959662506, 5.96661267, 6.009264979, 6.013294012999999, 6.079694239, 6.087269459, 6.084444444, 6.201111111, 6.019166667, 6.711944443999999, 6.306727747, 6.350871217999999, 6.396638203999999, 6.537118303, 6.709444444, 6.715833333, 7.010833333, 7.048055556, 6.823611111, 7.266666667000001, 7.205555556, 7.075277777999999, 7.085833332999999, 7.104166667, 7.129166667000001, 7.164166667000001, 7.1625, 7.227222222000001, 7.201944444, 7.267222222000001, 7.296666667, 7.235555556, 7.321666667000001, 7.336111111, 7.341944444, 7.365555556, 7.341111111, 7.369722222, 6.930833333, 7.051944444, 6.977777777999999, 6.890555556, 7.09, 6.973055556, 6.978888888999999, 6.935833333, 6.6675, 6.83, 6.808055556, 6.794166667000001, 6.779722222, 6.8713888889999994, 7.197222222000001, 7.275833333, 7.2808333329999995, 7.279722222, 7.300277778, 7.259444444, 7.262222222, 7.316548952000001, 7.237735464, 7.07511171, 7.225840596, 6.65166912, 6.699926896, 7.285412124, 7.277896586000001, 7.277214324, 7.2640554999999996, 7.259831872, 7.23795703, 7.236206331, 5.8735621170000005, 7.21375181, 6.856243436000001, 7.0732646720000005, 7.079732206, 7.088192697999999, 7.087555867000001, 7.086718551000001, 7.09928993, 7.141885116, 7.183478732999999, 7.179234059, 7.184775709, 6.9301176479999995, 7.074800914, 7.070746584, 7.082642879, 7.072920956, 6.970472039, 6.805645482999999, 6.784262955, 7.245258333, 6.580833332999999, 6.602752764, 6.587519935, 6.576231363, 6.575386067, 6.576081192999999, 6.575117839, 6.563746342999999, 6.567704673, 6.608507955, 6.563602951, 6.565377584, 6.581388888999999, 6.582222222, 6.603888888999999, 6.507222222, 6.530555556, 6.550277778, 6.0252777779999995, 6.016666667000001, 5.989166667, 6.612222222000001, 6.243888889, 6.043333333, 6.220277778, 6.181388889, 6.0372222220000005, 6.0363888889999995, 6.615833332999999, 6.6175, 6.61, 6.6172222220000005, 6.564444443999999, 6.607222222000001, 6.6275, 6.628888889, 6.6280555560000005, 6.628333333, 6.561388889, 6.560555556000001, 6.558333332999999, 6.556666667000001, 6.6875, 6.016944444, 6.019722222, 6.017222222000001, 6.015, 6.181666667000001, 6.618888889, 6.663529625, 6.611386129, 6.610394512, 6.610323682000001, 6.610196188, 6.608963746000001, 6.611003649, 6.621812157000001, 6.605454953, 6.579166667000001, 6.069444444, 6.083055556000001, 6.115555556, 6.126666667, 6.149166667, 6.175277778, 6.166666667, 5.92, 5.903611111, 5.865, 5.773888889, 5.7725, 5.756666667, 5.781111111, 5.779444444, 5.7577777779999995, 5.766111111, 5.75, 5.748333333, 5.746666667, 5.739166667, 5.706666667, 6.033055556, 6.019722222, 6.026666667000001, 6.0275, 5.788888889, 5.819166667, 5.755833332999999, 5.791666667, 5.7863888889999995, 5.805833333, 5.804444444, 5.806111111, 5.806388889, 5.775, 5.761666667, 5.765833333, 5.7275, 5.691666667000001, 5.7069444439999995, 5.683333332999999, 5.725277778, 5.475833333, 6.060366666, 6.017101482999999, 5.72172674, 5.722199731, 5.709547089, 5.702925034, 5.792806744, 5.735555436, 5.813333332999999, 5.683588375, 5.925, 5.39, 5.233611111, 5.245, 4.966666667, 4.9236111110000005, 4.947222222, 4.9405555560000005, 4.9375, 4.928333333, 4.925833333, 4.797222222, 4.763611111, 4.981666667, 4.981111111000001, 4.9925, 4.970277778, 4.975, 4.976944444, 4.969722222, 4.966388889, 4.9675, 4.949444444, 4.950833333, 4.967222222, 4.932222222, 4.9236111110000005, 4.925555556, 4.927222222, 4.910277778, 4.903888889, 4.851944444, 4.838888889, 5.451944444, 4.927222222, 4.9729327880000005, 4.990238173, 4.984880458, 4.988432158999999, 4.98168391, 4.954378199, 4.953697422, 4.950648719, 4.948754372, 4.948369582, 4.94638643, 4.7702777780000005, 4.788888889, 4.803611111, 4.7863888889999995, 4.773333333, 4.765833333, 4.736388889, 4.7275, 4.819166667, 4.7, 4.687777778, 4.7136111110000005, 4.680555556, 4.662777778, 4.584444444, 4.588888889, 4.590555556, 4.597222222, 4.573333333, 4.593333333, 4.55, 4.573888889, 4.562222222, 4.535, 4.5138888889999995, 4.640555556, 4.670833333, 4.7466666669999995, 4.761944444, 4.761388889, 4.7533333330000005, 4.6511111110000005, 4.5597222219999995, 4.6047222219999995, 4.598055556, 4.618333333, 4.599722222, 4.635, 4.482222222, 4.4741666669999995, 4.370277778, 4.358611111, 4.341944444, 4.3875, 4.423888889, 4.315, 4.498055556000001, 4.486944444, 4.596111111, 4.579166667, 4.554444444, 4.527777778, 4.47, 4.576111111, 4.59, 4.246111111, 4.115277778, 4.308055556, 4.313611111, 4.165277778, 4.317222222, 4.643055556, 4.640555556, 4.6280555560000005, 4.6075, 4.609722222, 4.602777778, 4.600833333, 4.516111111, 4.513611111, 4.5675, 4.5652777780000005, 4.56, 4.4625, 4.4630555560000005, 4.4913888889999996, 4.491666667, 4.494444444, 4.493888889, 4.490277778, 4.488055556, 4.633333333, 4.217450422, 4.580503482, 4.474264081, 4.487162253, 4.5597222219999995, 4.473195815, 4.562777778, 4.193333333, 4.260555556, 4.421666667, 4.194722222, 4.220277778, 4.277222222, 4.3091666669999995, 4.346388889, 4.3555555560000005, 4.403055556, 4.4113888889999995, 4.410555556, 4.1736921989999995, 4.201947978, 4.210813255, 4.397134205, 4.411009057, 4.331111111, 6.790277777999999, 6.8155555560000005, 6.6733333329999995, 6.646666667000001, 6.824722222, 6.83, 6.663459765, 6.662268794, 6.657378457, 6.86438328, 6.645588735, 6.790277777999999, 5.8735621170000005, 5.4642538720000005, 5.454884452000001, 5.244444444, 5.8725], \"legendgroup\": \"NEGERI=Sabah\", \"lon\": [115.3844444, 115.38011259999999, 115.3587321, 115.35522179999998, 115.3515747, 115.35277250000001, 115.64944440000001, 115.67416670000001, 115.9905556, 115.8888683, 116.0068746, 115.9889568, 116.0127778, 116.0727778, 118.1552778, 116.0018862, 115.99294040000001, 116.0137221, 116.00569890000001, 116.07010290000001, 116.08821709999998, 116.0962682, 116.0936111, 115.5938889, 116.02722220000001, 116.35055559999999, 116.30978, 116.30895100000001, 116.3352848, 116.4932183, 116.31194440000002, 116.33583329999999, 116.72805559999999, 116.74944440000002, 116.86583329999999, 116.93333329999999, 116.8438889, 117.02694440000002, 117.05, 117.09055559999999, 117.10027779999999, 117.1536111, 117.17305559999998, 117.3047222, 117.3252778, 117.33972220000001, 117.29166670000001, 117.33722220000001, 117.32055559999999, 117.3297222, 117.35194440000001, 117.2025, 117.04805559999998, 117.32777779999999, 117.3325, 117.30583329999999, 117.1988889, 117.47166670000001, 117.4761111, 117.46, 117.49611110000001, 117.4652778, 117.29555559999999, 117.27055559999998, 117.2588889, 117.3175, 117.50277779999999, 116.79666670000002, 117.3336111, 117.2861111, 117.2888889, 117.29166670000001, 117.2813889, 117.31333329999998, 117.30972220000001, 117.31453799999998, 117.28902269999999, 117.3121075, 117.3294662, 116.571331, 116.62898159999999, 117.2834221, 117.26250870000001, 117.2612897, 117.30243300000001, 117.3058119, 117.28007609999999, 117.28632179999998, 116.04741259999999, 117.24228559999999, 116.85859599999999, 117.02153340000001, 117.0203545, 117.0364335, 117.0323098, 117.0306104, 117.08815859999999, 117.13724930000001, 117.2020616, 117.214005, 117.22672079999998, 117.40640970000001, 117.313029, 117.300574, 117.2768227, 117.25989409999998, 117.26655670000001, 117.3517712, 117.45812099999999, 117.15208059999999, 116.76055559999999, 116.7586453, 116.76288000000001, 116.7840834, 116.78658859999999, 116.82250390000002, 116.82649690000001, 116.8122551, 116.7998191, 116.8593512, 116.79755320000001, 116.82654840000002, 116.76472220000001, 116.77138889999999, 117.40111110000001, 117.9177778, 117.68805559999998, 117.7186111, 117.7125, 117.7002778, 117.70083329999999, 117.7675, 117.72666670000001, 117.6952778, 117.6472222, 117.59666670000001, 117.79833329999998, 117.815, 117.32583329999999, 117.3577778, 117.36194440000001, 117.35361110000001, 117.36027779999999, 117.37777779999999, 117.38555559999999, 117.38555559999999, 117.3875, 117.39833329999999, 117.4213889, 117.42305559999998, 117.44555559999999, 117.45444440000001, 117.43333329999999, 117.71555559999999, 117.70416670000002, 117.7086111, 117.70833329999999, 117.59666670000001, 117.3625, 117.44936570000002, 117.3042142, 117.30472759999998, 117.30592549999999, 117.30740870000001, 117.3083071, 117.302945, 117.31831340000001, 117.3789886, 117.40194440000002, 117.96333329999999, 117.99805559999999, 118.0211111, 118.0266667, 118.05277779999999, 118.06055559999999, 118.10972220000001, 118.10972220000001, 118.09916670000001, 118.145, 118.10472220000001, 118.085, 118.02055559999998, 118.0225, 118.02333329999999, 117.97444440000001, 117.94055559999998, 117.88333329999999, 118.135, 117.91555559999999, 118.09333329999998, 118.13166670000001, 117.94861110000001, 117.93944440000001, 117.95277779999999, 117.95166670000002, 118.1516667, 117.90305559999999, 117.92555559999998, 117.975, 117.99027779999999, 117.97583329999999, 117.9661111, 117.9563889, 117.9575, 117.9488889, 117.875, 117.905, 118.11444440000001, 118.075, 118.1175, 118.14166670000002, 118.10722220000001, 118.8047222, 118.01266499999998, 117.9355311, 118.11321720000001, 118.10376950000001, 118.09919409999999, 118.11660420000001, 117.91524070000001, 117.9595165, 118.1552778, 117.94150829999998, 117.64444440000001, 118.9272222, 119.2661111, 119.25972220000001, 118.33333329999999, 118.26694440000001, 118.25416670000001, 118.21083329999999, 118.22083329999998, 118.2327778, 118.20222220000001, 118.3844444, 118.38722220000001, 118.36916670000001, 118.365, 118.33055559999998, 118.315, 118.31833329999999, 118.31166670000002, 118.2875, 118.2875, 118.3075, 118.30722220000001, 118.3288889, 118.23555559999998, 118.22805559999999, 118.24, 118.2372222, 118.1969444, 118.17333329999998, 118.1711111, 118.1272222, 118.1688889, 119.12222220000001, 118.1852778, 118.3476764, 118.3476544, 118.31815459999999, 118.31405459999999, 118.29082140000001, 118.29884309999998, 118.296704, 118.29492140000002, 118.32219520000001, 118.3095387, 118.298754, 118.23583329999998, 118.29083329999999, 118.31333329999998, 118.30916670000002, 118.30444440000001, 118.30833329999999, 118.2141667, 118.23, 118.27972220000001, 118.4, 118.41944440000002, 118.4597222, 118.54, 118.5425, 118.51944440000001, 118.51555559999998, 118.50583329999999, 118.52083329999999, 118.5022222, 118.4875, 118.55, 118.57916670000002, 118.60416670000001, 118.49194440000001, 118.4788889, 118.3472222, 118.37694440000001, 118.51694440000001, 118.47805559999999, 118.48666670000001, 118.4911111, 118.65805559999998, 118.6638889, 118.68722220000001, 118.72027779999999, 118.7363889, 118.78444440000001, 118.7927778, 118.7163889, 118.66027779999999, 118.60083329999999, 118.58972220000001, 118.5672222, 118.65666670000002, 118.7613889, 118.5463889, 118.59888889999999, 118.69194440000001, 118.86444440000001, 118.91611110000001, 118.92277779999999, 118.8483333, 118.9338889, 118.9491667, 118.94555559999999, 118.63166670000001, 118.6286111, 118.8577778, 118.87194440000002, 118.8811111, 118.45555559999998, 118.33083329999998, 118.3472222, 118.42666670000001, 118.5336111, 118.53638889999999, 118.5625, 118.5647222, 118.5852778, 118.59055559999999, 118.56916670000001, 118.56583329999998, 118.5588889, 118.63694440000002, 118.63611110000001, 118.6736111, 118.6761111, 118.67638889999999, 118.67916670000001, 118.68305559999999, 118.68444440000002, 118.46666670000002, 118.70143689999999, 118.46553020000002, 118.62740359999998, 118.68670790000002, 118.6638889, 118.62096059999999, 118.5625, 117.63555559999999, 117.63416670000001, 117.6625, 117.62833329999998, 117.52583329999999, 117.60555559999999, 117.6286111, 117.62194440000002, 117.6022222, 117.59583329999998, 117.6088889, 117.65, 117.60737820000001, 117.5585112, 117.7365571, 117.63084909999999, 117.6373629, 118.34333329999998, 117.25277779999999, 117.2638889, 117.2811111, 117.2927778, 117.02305559999999, 117.02916670000002, 117.2914367, 117.28761999999999, 117.2869683, 117.55703100000001, 117.281425, 117.25277779999999, 116.04741259999999, 118.8009772, 118.80047809999999, 119.26583329999998, 116.0413889], \"marker\": {\"color\": \"#ab63fa\"}, \"mode\": \"markers+text\", \"name\": \"NEGERI=Sabah\", \"showlegend\": true, \"subplot\": \"mapbox\", \"text\": [\"Pulau Tanah Panggal\", \"Pulau Sinuan\", \"Pulau Lumbidan\", \"Pulau Malankassan\", \"Pulau Balangkasan 1\", \"Pulau Balangkasan\", \"Pulau Tiga\", \"Pulau Kalampunian Besar\", \"Pulau Dinawan\", \"Pulau Layang\", \"Pulau Ampak Ampak\", \"Pulau Dinawan Kecil\", \"Pulau Mantukud\", \"Pulau Sepangar\", \"Pulau Peduk\", \"Pulau Manukan\", \"Pulau Sulug\", \"Pulau Mamutik\", \"Pulau Sapi (Sinjatan)\", \"Pulau Plompang\", \"Pulau Udar Besar\", \"Pulau Peduk\", \"Pulau Udar Kecil\", \"Pulau Mabgalum\", \"Pulau Gaya\", \"Pulau Mantanani Besar\", \"Pulau Egot\", \"Pulau Pandan Pandan\", \"Pulau Usukan\", \"Pulau Keramat\", \"Pulau Mantanani Kecil\", \"Pulau Lungisan\", \"Pulau Tanjung Tiga Papan\", \"Pulau Kalampunian\", \"Pulau Limau Limawan\", \"Pulau Balambangan\", \"Pulau Kalutan\", \"Pulau Molleangan Kecil\", \"Pulau Molleangan Besar\", \"Pulau Patanunam\", \"Pulau Pagassan\", \"Pulau Laksiang\", \"Pulau Panukaran\", \"Pulau Bankawan\", \"Pulau Bilang Bilangan Kechil\", \"Pulau Latoan\", \"Pulau Tagajawan\", \"Pulau Sungur\", \"Pulau Malundang Kechil\", \"Pulau Malundagan Besar\", \"Pulau Kankamat\", \"Pulau Daunan\", \"Pulau Tiga\", \"Pulau Guhuan Selatan\", \"Pulau Mandidarah\", \"Pulau Malawali\", \"Pulau Silk\", \"Pulau Tigabu\", \"Pulau Straggler\", \"Pulau Tambulian\", \"Pulau Buwaning\", \"Pulau Tibakan\", \"Pulau Merigi\", \"Pulau Musa\", \"Pulau Sinamgil\", \"Pulau Bush\", \"Pulau Kalangaan\", \"Pulau Batu Putih\", \"Pulau Lingkutan\", \"Pulau Natron\", \"Pulau Asan\", \"Pulau Saripatal\", \"Pulau Arshad\", \"Pulau Halun\", \"Pulau Dicky\", \"Pulau Patawan\", \"Pulau Kambul 1\", \"Pulau Tapukan\", \"Pulau Sibongor Laut\", \"Pulau Silad\", \"Pulau Batu Laya Laya\", \"Pulau Kadir\", \"Pulau Tagas Kecil\", \"Pulau Tagas Besar\", \"Pulau Naz\", \"Pulau Nat\", \"Pulau Manulah\", \"Pulau Kambal 1\", \"Pulau Meruntum\", \"Pulau Maligu\", \"Pulau Puru Puru\", \"Pulau Meriangan\", \"Pulau Lipang Kecil\", \"Pulau Pak Diki\", \"Pulau Lipang\", \"Pulau Pak Diki Kecil\", \"Pulau Patanunam Kecil\", \"Pulau Balak\", \"Pulau Sauyan\", \"Pulau Madusian Kecil\", \"Pulau Tanjung Perak\", \"Pulau Kukuban\", \"Pulau Lok Manovali\", \"Pulau Hutan Rimba\", \"Pulau Tanjung\", \"Pulau Mati\", \"Pulau Lingisan\", \"Pulau Landayang\", \"Pulau Mabahok\", \"Pulau Banggi\", \"Pulau Bintongan\", \"Pulau Jumat\", \"Pulau Tanjung Bandau (Totong Sepi)\", \"Pulau Sisid\", \"Pulau Bingkawat\", \"Pulau Muara Tandek\", \"Pulau Serampangan\", \"Pulau Muara Ongkilan\", \"Pulau Bongon\", \"Pulau Tokong Soko\", \"Pulau Muara Bongan\", \"Pulau Bodi Serampangan\", \"Pulau Muara Tambun\", \"Pulau Terusan\", \"Pulau Tiga Puluh\", \"Pulau Lankayan\", \"Pulau Bankuran\", \"Pulau Tegipil\", \"Pulau Linkabo\", \"Pulau Tetabuan\", \"Pulau Kanawi\", \"Pulau Billean\", \"Pulau Puru-Puru\", \"Pulau Torongohok\", \"Pulau Kaniogan\", \"Pulau Panandawan\", \"Pulau Gusong\", \"Pulau Obor-Obor\", \"Pulau Maidan Kecil\", \"Pulau Kaindangan Kecil\", \"Pulau Kaindangan Darat\", \"Pulau Kaindangan Besar\", \"Pulau Maidan Dalam\", \"Pulau Tataba Darat\", \"Pulau Guntor Kecil\", \"Pulau Guntor Besar\", \"Pulau Guntor Darat\", \"Pulau Guntor Dalam\", \"Pulau Tangkunid Satu\", \"Pulau Tangkunid Dua\", \"Pulau Lidah Satu\", \"Pulau Lidah Dua\", \"Pulau Liapan\", \"Pulau Lingkabo Kecil\", \"Pulau Tetabuan Kecil\", \"Pulau Kanawi Kecil\", \"Pulau Kanawi Darat\", \"Pulau Penandawan Kecil\", \"Pulau Kaindangan\", \"Pulau Jambongan\", \"Pulau Mapat Satu\", \"Pulau Mapat Dua\", \"Pulau Mapat Tiga\", \"Pulau Mapat Empat\", \"Pulau Mapat Lima\", \"Pulau Mapat\", \"Pulau Maidan\", \"Pulau Tataba Darat Kecil\", \"Pulau Panabukan\", \"Pulau Tikus\", \"Pulau Kawan\", \"Pulau Libaran\", \"Pulau Libaran 2\", \"Pulau Gulisaan\", \"Pulau Silingaan\", \"Pulau Bakkugaan Kecil\", \"Pulau Nunuyan Laut\", \"Pulau Nunuyan Darat\", \"Pulau Berhala\", \"Pulau Bai\", \"Pulau Palak\", \"Pulau Sangai\", \"Pulau Tiong Kecil\", \"Pulau Tiong Kecil 2\", \"Pulau Timbang\", \"Pulau Mangkalai Darat\", \"Pulau Pakil\", \"Pulau Tigowis\", \"Pulau Puru-Puru\", \"Pulau Keramuk\", \"Pulau Papahan\", \"Pulau Menangin Laut\", \"Pulau Banting Besar\", \"Pulau Menangin Kecil\", \"Pulau Menangin Besar\", \"Pulau Semangat\", \"Pulau Keratang\", \"Pulau Paki Kecil\", \"Pulau Orang Tua\", \"Pulau Saleng\", \"Pulau Arang Laut\", \"Pulau Luku\", \"Pulau Pandan\", \"Pulau Buli\", \"Pulau Pawang\", \"Pulau Rotan\", \"Pulau Bode Besar\", \"Pulau Lubukan Kecil\", \"Pulau Silah\", \"Pulau Madang Kecil\", \"Pulau Marapulut\", \"Pulau Silogong Kecil\", \"Pulau Pakil Kecil\", \"Pulau Pendaras\", \"Pulau Banting Kecil\", \"Pulau Lubukan\", \"Pulau Silogong\", \"Pulau Sapagaya Kecil\", \"Pulau Madang\", \"Pulau Kabili\", \"Pulau Mangkalai Laut\", \"Pulau Duyung\", \"Pulau Masang\", \"Pulau Solok\", \"Pulau Evans\", \"Pulau Timur 1\", \"Pulau Timur 2\", \"Pulau Timur 3\", \"Pulau Kalungan\", \"Pulau Katung Kalungan\", \"Pulau Baik\", \"Pulau Saga\", \"Pulau Saddle\", \"Pulau Laila\", \"Pulau Saranga\", \"Pulau Tabawan\", \"Pulau Tengah Kecil\", \"Pulau Tengah Besar\", \"Pulau Balundong\", \"Pulau Panabag Besar\", \"Pulau Panabag\", \"Pulau Ambau\", \"Pulau Emas\", \"Pulau Giung\", \"Pulau Nunuk\", \"Pulau Pak Usop\", \"Pulau Buang Diri\", \"Pulau Parapat\", \"Pulau Malanta\", \"Pulau Anjan\", \"Pulau Kulungan Besar\", \"Pulau Kulungan Kecil\", \"Pulau Bud-Bud\", \"Pulau Malampayau Anak\", \"Pulau Malampayau\", \"Pulau Lumpur\", \"Pulau Labatan\", \"Pulau Tabun\", \"Pulau Sakar\", \"Pulau Pok Pok\", \"Pulau Sibadju\", \"Pulau Giam\", \"Pulau Keramat Giung\", \"Pulau Adjail\", \"Pulau Balani\", \"Pulau Balani\", \"Pulau Buang Diri\", \"Pulau Pak Karim\", \"Pulau Kalungan\", \"Pulau Tambisan\", \"Pulau Tagabua\", \"Pulau Tanah\", \"Pulau Bohayan\", \"Pulau Malundangan\", \"Pulau Majinkil\", \"Pulau Bakubang\", \"Pulau Burong\", \"Pulau Marumpun\", \"Pulau Maganting\", \"Pulau Batik Kulambu\", \"Pulau Batik Kulambu 2\", \"Pulau Batik\", \"Pulau Balusuan\", \"Pulau Tatangan-Tatangan\", \"Pulau Mata Pahi\", \"Pulau Mata Pahi 2\", \"Pulau Mata Pahi 3\", \"Pulau Mata Pahi 4\", \"Pulau Selangan\", \"Pulau Puno-Puno\", \"Pulau Bait\", \"Pulau Silawa\", \"Pulau Larapan\", \"Pulau Penampang\", \"Pulau Selanga Kecil\", \"Pulau Pendamit\", \"Pulau Adal\", \"Pulau Gatahan\", \"Pulau Bankawan\", \"Pulau Bakungan\", \"Pulau Sibuan\", \"Pulau Selakan\", \"Pulau Maiga\", \"Pulau Tetagan\", \"Pulau Gaya\", \"Pulau Bohaydulong\", \"Pulau Mantabuan\", \"Pulau Nusa Kuya\", \"Pulau Bum Bum\", \"Pulau Sipanggau\", \"Pulau Nusa Tengah\", \"Pulau Menampilik\", \"Pulau Karindingan\", \"Pulau Omadal\", \"Pulau Gusungan\", \"Pulau Bangau-Bangau\", \"Pulau Sisipan\", \"Pulau Pom-Pom\", \"Pulau Kapale\", \"Pulau Timba-Timba\", \"Pulau Kulapuan\", \"Pulau Bohayen\", \"Pulau Mataking\", \"Pulau Mataking Kechil\", \"Pulau Mabul\", \"Pulau Sipadan\", \"Pulau Danawan\", \"Pulau Si Amil\", \"Pulau Ligitan\", \"Pulau Selingun\", \"Pulau Selanga\", \"Pulau Selanga Kecil\", \"Pulau Pendamit\", \"Pulau Mapat\", \"Pulau Jati Kecil\", \"Pulau Sirongol Kecil\", \"Pulau Sirongol\", \"Pulau Bakaru\", \"Pulau Tabu-Tabu\", \"Pulau Melanta Kecil\", \"Pulau Melanta\", \"Pulau Limau-Limau\", \"Pulau Samal-Samal Kecil\", \"Pulau Samal-Samal Besar\", \"Pulau Sisipan Kecil\", \"Pulau Sisipan Kecil Dua\", \"Pulau Sisipan Besar\", \"Pulau Sisipan Besar Dua\", \"Pulau Sisipan Kecil Tiga\", \"Pulau Nusalalong\", \"Pulau Timbun Mata\", \"Pulau Kapalai\", \"Pulau Lihak Lihak\", \"Pulau Daisy\", \"Pulau Sisipan Kecil Empat\", \"Pulau Sebangkat\", \"Pulau Simunul\", \"Pulau Melanta Dua\", \"Pulau Sedam\", \"Pulau Simandalan\", \"Pulau Bingkulan\", \"Pulau Sedam Kecil\", \"Pulau Kalamuning\", \"Pulau Simandalan\", \"Pulau Marumar\", \"Pulau Mar Pigan\", \"Pulau Kapal Kecil\", \"Pulau Brantian\", \"Pulau Sipaku\", \"Pulau Mapun\", \"Pulau Tamba\", \"Pulau Sino Solan\", \"Pulau Sebatik\", \"Pulau Sipaku Kecil\", \"Tanjung Terasi\", \"Pulau Kalumpang\", \"Pulau Lok Barukang\", \"Pulau Mausar Hujung\", \"Pulau Lingisan\", \"Pulau Lingkutan\", \"Pulau Gusung Malanta\", \"Pulau Tangah\", \"Pulau Sunsuban\", \"Pulau Boboli Asibi\", \"Pulau Dalima\", \"Pulau Sipindung\", \"Pulau Lingkuton\", \"Pulau Sinamgil Kecil\", \"Pulau Meruntum\", \"Pulau Segama Kecil\", \"Pulau Segama Besar\", \"Pulau Segama\", \"Pulau Meruntum\"], \"type\": \"scattermapbox\"}],\n",
       "                        {\"height\": 600, \"legend\": {\"tracegroupgap\": 0}, \"mapbox\": {\"accesstoken\": \"pk.eyJ1Ijoic2hhaGFkYW4iLCJhIjoiY2s0MHlheHEyMDJ5eDNtcGsxMnFqMjVlNSJ9.AmWFbv3mw6Bo7aiJRBvVKQ\", \"center\": {\"lat\": 5.069456169259473, \"lon\": 109.70002368560277}, \"domain\": {\"x\": [0.0, 0.98], \"y\": [0.0, 1.0]}, \"zoom\": 4.5}, \"margin\": {\"t\": 60}, \"template\": {\"data\": {\"bar\": [{\"error_x\": {\"color\": \"#2a3f5f\"}, \"error_y\": {\"color\": \"#2a3f5f\"}, \"marker\": {\"line\": {\"color\": \"#E5ECF6\", \"width\": 0.5}}, \"type\": \"bar\"}], \"barpolar\": [{\"marker\": {\"line\": {\"color\": \"#E5ECF6\", \"width\": 0.5}}, \"type\": \"barpolar\"}], \"carpet\": [{\"aaxis\": {\"endlinecolor\": \"#2a3f5f\", \"gridcolor\": \"white\", \"linecolor\": \"white\", \"minorgridcolor\": \"white\", \"startlinecolor\": \"#2a3f5f\"}, \"baxis\": {\"endlinecolor\": \"#2a3f5f\", \"gridcolor\": \"white\", \"linecolor\": \"white\", \"minorgridcolor\": \"white\", \"startlinecolor\": \"#2a3f5f\"}, \"type\": \"carpet\"}], \"choropleth\": [{\"colorbar\": {\"outlinewidth\": 0, \"ticks\": \"\"}, \"type\": \"choropleth\"}], \"contour\": [{\"colorbar\": {\"outlinewidth\": 0, \"ticks\": \"\"}, \"colorscale\": [[0.0, \"#0d0887\"], [0.1111111111111111, \"#46039f\"], [0.2222222222222222, \"#7201a8\"], [0.3333333333333333, \"#9c179e\"], [0.4444444444444444, \"#bd3786\"], [0.5555555555555556, \"#d8576b\"], [0.6666666666666666, \"#ed7953\"], [0.7777777777777778, \"#fb9f3a\"], [0.8888888888888888, \"#fdca26\"], [1.0, \"#f0f921\"]], \"type\": \"contour\"}], \"contourcarpet\": [{\"colorbar\": {\"outlinewidth\": 0, \"ticks\": \"\"}, \"type\": \"contourcarpet\"}], \"heatmap\": [{\"colorbar\": {\"outlinewidth\": 0, \"ticks\": \"\"}, \"colorscale\": [[0.0, \"#0d0887\"], [0.1111111111111111, \"#46039f\"], [0.2222222222222222, \"#7201a8\"], [0.3333333333333333, \"#9c179e\"], [0.4444444444444444, \"#bd3786\"], [0.5555555555555556, \"#d8576b\"], [0.6666666666666666, \"#ed7953\"], [0.7777777777777778, \"#fb9f3a\"], [0.8888888888888888, \"#fdca26\"], [1.0, \"#f0f921\"]], \"type\": \"heatmap\"}], \"heatmapgl\": [{\"colorbar\": {\"outlinewidth\": 0, \"ticks\": \"\"}, \"colorscale\": [[0.0, \"#0d0887\"], [0.1111111111111111, \"#46039f\"], [0.2222222222222222, \"#7201a8\"], [0.3333333333333333, \"#9c179e\"], [0.4444444444444444, \"#bd3786\"], [0.5555555555555556, \"#d8576b\"], [0.6666666666666666, \"#ed7953\"], [0.7777777777777778, \"#fb9f3a\"], [0.8888888888888888, \"#fdca26\"], [1.0, \"#f0f921\"]], \"type\": \"heatmapgl\"}], \"histogram\": [{\"marker\": {\"colorbar\": {\"outlinewidth\": 0, \"ticks\": \"\"}}, \"type\": \"histogram\"}], \"histogram2d\": [{\"colorbar\": {\"outlinewidth\": 0, \"ticks\": \"\"}, \"colorscale\": [[0.0, \"#0d0887\"], [0.1111111111111111, \"#46039f\"], [0.2222222222222222, \"#7201a8\"], [0.3333333333333333, \"#9c179e\"], [0.4444444444444444, \"#bd3786\"], [0.5555555555555556, \"#d8576b\"], [0.6666666666666666, \"#ed7953\"], [0.7777777777777778, \"#fb9f3a\"], [0.8888888888888888, \"#fdca26\"], [1.0, \"#f0f921\"]], \"type\": \"histogram2d\"}], \"histogram2dcontour\": [{\"colorbar\": {\"outlinewidth\": 0, \"ticks\": \"\"}, \"colorscale\": [[0.0, \"#0d0887\"], [0.1111111111111111, \"#46039f\"], [0.2222222222222222, \"#7201a8\"], [0.3333333333333333, \"#9c179e\"], [0.4444444444444444, \"#bd3786\"], [0.5555555555555556, \"#d8576b\"], [0.6666666666666666, \"#ed7953\"], [0.7777777777777778, \"#fb9f3a\"], [0.8888888888888888, \"#fdca26\"], [1.0, \"#f0f921\"]], \"type\": \"histogram2dcontour\"}], \"mesh3d\": [{\"colorbar\": {\"outlinewidth\": 0, \"ticks\": \"\"}, \"type\": \"mesh3d\"}], \"parcoords\": [{\"line\": {\"colorbar\": {\"outlinewidth\": 0, \"ticks\": \"\"}}, \"type\": \"parcoords\"}], \"scatter\": [{\"marker\": {\"colorbar\": {\"outlinewidth\": 0, \"ticks\": \"\"}}, \"type\": \"scatter\"}], \"scatter3d\": [{\"line\": {\"colorbar\": {\"outlinewidth\": 0, \"ticks\": \"\"}}, \"marker\": {\"colorbar\": {\"outlinewidth\": 0, \"ticks\": \"\"}}, \"type\": \"scatter3d\"}], \"scattercarpet\": [{\"marker\": {\"colorbar\": {\"outlinewidth\": 0, \"ticks\": \"\"}}, \"type\": \"scattercarpet\"}], \"scattergeo\": [{\"marker\": {\"colorbar\": {\"outlinewidth\": 0, \"ticks\": \"\"}}, \"type\": \"scattergeo\"}], \"scattergl\": [{\"marker\": {\"colorbar\": {\"outlinewidth\": 0, \"ticks\": \"\"}}, \"type\": \"scattergl\"}], \"scattermapbox\": [{\"marker\": {\"colorbar\": {\"outlinewidth\": 0, \"ticks\": \"\"}}, \"type\": \"scattermapbox\"}], \"scatterpolar\": [{\"marker\": {\"colorbar\": {\"outlinewidth\": 0, \"ticks\": \"\"}}, \"type\": \"scatterpolar\"}], \"scatterpolargl\": [{\"marker\": {\"colorbar\": {\"outlinewidth\": 0, \"ticks\": \"\"}}, \"type\": \"scatterpolargl\"}], \"scatterternary\": [{\"marker\": {\"colorbar\": {\"outlinewidth\": 0, \"ticks\": \"\"}}, \"type\": \"scatterternary\"}], \"surface\": [{\"colorbar\": {\"outlinewidth\": 0, \"ticks\": \"\"}, \"colorscale\": [[0.0, \"#0d0887\"], [0.1111111111111111, \"#46039f\"], [0.2222222222222222, \"#7201a8\"], [0.3333333333333333, \"#9c179e\"], [0.4444444444444444, \"#bd3786\"], [0.5555555555555556, \"#d8576b\"], [0.6666666666666666, \"#ed7953\"], [0.7777777777777778, \"#fb9f3a\"], [0.8888888888888888, \"#fdca26\"], [1.0, \"#f0f921\"]], \"type\": \"surface\"}], \"table\": [{\"cells\": {\"fill\": {\"color\": \"#EBF0F8\"}, \"line\": {\"color\": \"white\"}}, \"header\": {\"fill\": {\"color\": \"#C8D4E3\"}, \"line\": {\"color\": \"white\"}}, \"type\": \"table\"}]}, \"layout\": {\"annotationdefaults\": {\"arrowcolor\": \"#2a3f5f\", \"arrowhead\": 0, \"arrowwidth\": 1}, \"colorscale\": {\"diverging\": [[0, \"#8e0152\"], [0.1, \"#c51b7d\"], [0.2, \"#de77ae\"], [0.3, \"#f1b6da\"], [0.4, \"#fde0ef\"], [0.5, \"#f7f7f7\"], [0.6, \"#e6f5d0\"], [0.7, \"#b8e186\"], [0.8, \"#7fbc41\"], [0.9, \"#4d9221\"], [1, \"#276419\"]], \"sequential\": [[0.0, \"#0d0887\"], [0.1111111111111111, \"#46039f\"], [0.2222222222222222, \"#7201a8\"], [0.3333333333333333, \"#9c179e\"], [0.4444444444444444, \"#bd3786\"], [0.5555555555555556, \"#d8576b\"], [0.6666666666666666, \"#ed7953\"], [0.7777777777777778, \"#fb9f3a\"], [0.8888888888888888, \"#fdca26\"], [1.0, \"#f0f921\"]], \"sequentialminus\": [[0.0, \"#0d0887\"], [0.1111111111111111, \"#46039f\"], [0.2222222222222222, \"#7201a8\"], [0.3333333333333333, \"#9c179e\"], [0.4444444444444444, \"#bd3786\"], [0.5555555555555556, \"#d8576b\"], [0.6666666666666666, \"#ed7953\"], [0.7777777777777778, \"#fb9f3a\"], [0.8888888888888888, \"#fdca26\"], [1.0, \"#f0f921\"]]}, \"colorway\": [\"#636efa\", \"#EF553B\", \"#00cc96\", \"#ab63fa\", \"#FFA15A\", \"#19d3f3\", \"#FF6692\", \"#B6E880\", \"#FF97FF\", \"#FECB52\"], \"font\": {\"color\": \"#2a3f5f\"}, \"geo\": {\"bgcolor\": \"white\", \"lakecolor\": \"white\", \"landcolor\": \"#E5ECF6\", \"showlakes\": true, \"showland\": true, \"subunitcolor\": \"white\"}, \"hoverlabel\": {\"align\": \"left\"}, \"hovermode\": \"closest\", \"mapbox\": {\"style\": \"light\"}, \"paper_bgcolor\": \"white\", \"plot_bgcolor\": \"#E5ECF6\", \"polar\": {\"angularaxis\": {\"gridcolor\": \"white\", \"linecolor\": \"white\", \"ticks\": \"\"}, \"bgcolor\": \"#E5ECF6\", \"radialaxis\": {\"gridcolor\": \"white\", \"linecolor\": \"white\", \"ticks\": \"\"}}, \"scene\": {\"xaxis\": {\"backgroundcolor\": \"#E5ECF6\", \"gridcolor\": \"white\", \"gridwidth\": 2, \"linecolor\": \"white\", \"showbackground\": true, \"ticks\": \"\", \"zerolinecolor\": \"white\"}, \"yaxis\": {\"backgroundcolor\": \"#E5ECF6\", \"gridcolor\": \"white\", \"gridwidth\": 2, \"linecolor\": \"white\", \"showbackground\": true, \"ticks\": \"\", \"zerolinecolor\": \"white\"}, \"zaxis\": {\"backgroundcolor\": \"#E5ECF6\", \"gridcolor\": \"white\", \"gridwidth\": 2, \"linecolor\": \"white\", \"showbackground\": true, \"ticks\": \"\", \"zerolinecolor\": \"white\"}}, \"shapedefaults\": {\"line\": {\"color\": \"#2a3f5f\"}}, \"ternary\": {\"aaxis\": {\"gridcolor\": \"white\", \"linecolor\": \"white\", \"ticks\": \"\"}, \"baxis\": {\"gridcolor\": \"white\", \"linecolor\": \"white\", \"ticks\": \"\"}, \"bgcolor\": \"#E5ECF6\", \"caxis\": {\"gridcolor\": \"white\", \"linecolor\": \"white\", \"ticks\": \"\"}}, \"title\": {\"x\": 0.05}, \"xaxis\": {\"automargin\": true, \"gridcolor\": \"white\", \"linecolor\": \"white\", \"ticks\": \"\", \"zerolinecolor\": \"white\", \"zerolinewidth\": 2}, \"yaxis\": {\"automargin\": true, \"gridcolor\": \"white\", \"linecolor\": \"white\", \"ticks\": \"\", \"zerolinecolor\": \"white\", \"zerolinewidth\": 2}}}},\n",
       "                        {\"responsive\": true}\n",
       "                    ).then(function(){\n",
       "                            \n",
       "var gd = document.getElementById('fcb4a245-4f21-4485-9027-6b4c3b0fc25f');\n",
       "var x = new MutationObserver(function (mutations, observer) {{\n",
       "        var display = window.getComputedStyle(gd).display;\n",
       "        if (!display || display === 'none') {{\n",
       "            console.log([gd, 'removed!']);\n",
       "            Plotly.purge(gd);\n",
       "            observer.disconnect();\n",
       "        }}\n",
       "}});\n",
       "\n",
       "// Listen for the removal of the full notebook cells\n",
       "var notebookContainer = gd.closest('#notebook-container');\n",
       "if (notebookContainer) {{\n",
       "    x.observe(notebookContainer, {childList: true});\n",
       "}}\n",
       "\n",
       "// Listen for the clearing of the current output cell\n",
       "var outputEl = gd.closest('.output');\n",
       "if (outputEl) {{\n",
       "    x.observe(outputEl, {childList: true});\n",
       "}}\n",
       "\n",
       "                        })\n",
       "                };\n",
       "                });\n",
       "            </script>\n",
       "        </div>"
      ]
     },
     "metadata": {},
     "output_type": "display_data"
    }
   ],
   "source": [
    "import plotly.express as px\n",
    "px.set_mapbox_access_token(open(r\"C:\\Users\\Mohamad Syafiq\\Desktop\\mapbox_token.txt\").read())\n",
    "fig = px.scatter_mapbox(df1, lat=\"LATITUD\", lon=\"LONGITUD\",     color=\"NEGERI\",text=\"Nama\",\n",
    "                  color_continuous_scale=px.colors.cyclical.IceFire, size_max=15, zoom=4.5)\n",
    "fig.show()"
   ]
  },
  {
   "cell_type": "code",
   "execution_count": null,
   "metadata": {},
   "outputs": [],
   "source": []
  },
  {
   "cell_type": "code",
   "execution_count": null,
   "metadata": {},
   "outputs": [],
   "source": []
  }
 ],
 "metadata": {
  "kernelspec": {
   "display_name": "Python 3",
   "language": "python",
   "name": "python3"
  },
  "language_info": {
   "codemirror_mode": {
    "name": "ipython",
    "version": 3
   },
   "file_extension": ".py",
   "mimetype": "text/x-python",
   "name": "python",
   "nbconvert_exporter": "python",
   "pygments_lexer": "ipython3",
   "version": "3.7.1"
  }
 },
 "nbformat": 4,
 "nbformat_minor": 2
}
